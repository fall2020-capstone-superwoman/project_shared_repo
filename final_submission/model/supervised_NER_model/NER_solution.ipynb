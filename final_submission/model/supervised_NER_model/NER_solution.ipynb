{
 "cells": [
  {
   "cell_type": "markdown",
   "metadata": {},
   "source": [
    "## Load Packages"
   ]
  },
  {
   "cell_type": "code",
   "execution_count": 51,
   "metadata": {},
   "outputs": [],
   "source": [
    "from __future__ import unicode_literals, print_function\n",
    "import plac\n",
    "import random\n",
    "from pathlib import Path\n",
    "import spacy\n",
    "from tqdm import tqdm\n",
    "import en_core_web_sm\n",
    "import pandas as pd\n",
    "import numpy as np\n",
    "from numpy.core.defchararray import find"
   ]
  },
  {
   "cell_type": "code",
   "execution_count": 52,
   "metadata": {},
   "outputs": [
    {
     "name": "stderr",
     "output_type": "stream",
     "text": [
      "C:\\Users\\Suzy\\anaconda3\\lib\\site-packages\\spacy\\util.py:275: UserWarning: [W031] Model 'en_core_web_sm' (2.2.0) requires spaCy v2.2 and is incompatible with the current spaCy version (2.3.4). This may lead to unexpected results or runtime errors. To resolve this, download a newer compatible model or retrain your custom model with the current spaCy version. For more details and available updates, run: python -m spacy validate\n",
      "  warnings.warn(warn_msg)\n"
     ]
    }
   ],
   "source": [
    "nlp1 = en_core_web_sm.load()"
   ]
  },
  {
   "cell_type": "markdown",
   "metadata": {},
   "source": [
    "# Labeled Data"
   ]
  },
  {
   "cell_type": "code",
   "execution_count": 53,
   "metadata": {},
   "outputs": [],
   "source": [
    "#ingredients\n",
    "df = pd.read_csv('tag_train.csv')  "
   ]
  },
  {
   "cell_type": "code",
   "execution_count": 54,
   "metadata": {},
   "outputs": [
    {
     "data": {
      "text/html": [
       "<div>\n",
       "<style scoped>\n",
       "    .dataframe tbody tr th:only-of-type {\n",
       "        vertical-align: middle;\n",
       "    }\n",
       "\n",
       "    .dataframe tbody tr th {\n",
       "        vertical-align: top;\n",
       "    }\n",
       "\n",
       "    .dataframe thead th {\n",
       "        text-align: right;\n",
       "    }\n",
       "</style>\n",
       "<table border=\"1\" class=\"dataframe\">\n",
       "  <thead>\n",
       "    <tr style=\"text-align: right;\">\n",
       "      <th></th>\n",
       "      <th>ingredients</th>\n",
       "      <th>rand</th>\n",
       "      <th>core</th>\n",
       "      <th>category</th>\n",
       "      <th>contains</th>\n",
       "      <th>other</th>\n",
       "      <th>allergen</th>\n",
       "    </tr>\n",
       "  </thead>\n",
       "  <tbody>\n",
       "    <tr>\n",
       "      <th>0</th>\n",
       "      <td>spinach leaves packed</td>\n",
       "      <td>1</td>\n",
       "      <td>spinach</td>\n",
       "      <td>spinach</td>\n",
       "      <td>NaN</td>\n",
       "      <td>NaN</td>\n",
       "      <td>NaN</td>\n",
       "    </tr>\n",
       "    <tr>\n",
       "      <th>1</th>\n",
       "      <td>sliced asiago cheese</td>\n",
       "      <td>1</td>\n",
       "      <td>asiago cheese</td>\n",
       "      <td>cheese</td>\n",
       "      <td>NaN</td>\n",
       "      <td>NaN</td>\n",
       "      <td>NaN</td>\n",
       "    </tr>\n",
       "    <tr>\n",
       "      <th>2</th>\n",
       "      <td>dried great northern beans</td>\n",
       "      <td>2</td>\n",
       "      <td>northern bean</td>\n",
       "      <td>bean</td>\n",
       "      <td>NaN</td>\n",
       "      <td>NaN</td>\n",
       "      <td>NaN</td>\n",
       "    </tr>\n",
       "    <tr>\n",
       "      <th>3</th>\n",
       "      <td>hamburger patties</td>\n",
       "      <td>2</td>\n",
       "      <td>hamburger</td>\n",
       "      <td>beef</td>\n",
       "      <td>NaN</td>\n",
       "      <td>NaN</td>\n",
       "      <td>NaN</td>\n",
       "    </tr>\n",
       "    <tr>\n",
       "      <th>4</th>\n",
       "      <td>diced tomatoes drained.</td>\n",
       "      <td>2</td>\n",
       "      <td>tomato</td>\n",
       "      <td>tomato</td>\n",
       "      <td>NaN</td>\n",
       "      <td>NaN</td>\n",
       "      <td>NaN</td>\n",
       "    </tr>\n",
       "  </tbody>\n",
       "</table>\n",
       "</div>"
      ],
      "text/plain": [
       "                  ingredients  rand           core category contains other  \\\n",
       "0       spinach leaves packed     1        spinach  spinach      NaN   NaN   \n",
       "1        sliced asiago cheese     1  asiago cheese   cheese      NaN   NaN   \n",
       "2  dried great northern beans     2  northern bean     bean      NaN   NaN   \n",
       "3           hamburger patties     2      hamburger     beef      NaN   NaN   \n",
       "4     diced tomatoes drained.     2         tomato   tomato      NaN   NaN   \n",
       "\n",
       "  allergen  \n",
       "0      NaN  \n",
       "1      NaN  \n",
       "2      NaN  \n",
       "3      NaN  \n",
       "4      NaN  "
      ]
     },
     "execution_count": 54,
     "metadata": {},
     "output_type": "execute_result"
    }
   ],
   "source": [
    "df.head()"
   ]
  },
  {
   "cell_type": "code",
   "execution_count": 55,
   "metadata": {},
   "outputs": [],
   "source": [
    "ingredients = df.ingredients.values.astype(str)\n",
    "core = df.core.values.astype(str)\n",
    "df['start']=find(ingredients, core)\n",
    "df['end'] = df['core'].astype(str).map(len)\n",
    "df['sum'] = df['start']+ df['end']\n",
    "df['entity'] = 'PRODUCT'\n"
   ]
  },
  {
   "cell_type": "code",
   "execution_count": 56,
   "metadata": {},
   "outputs": [],
   "source": [
    "subset = df[['ingredients','core','start', 'sum', 'entity']].dropna()\n",
    "subset['tuples'] = [tuple(x) for x in subset[['start','sum','entity']].to_numpy()]\n",
    "\n",
    "def formatter(x):\n",
    "    return (x.ingredients, {'entities': [x.tuples]})\n",
    "\n",
    "subset['training_set'] = subset.apply(formatter, axis=1)\n"
   ]
  },
  {
   "cell_type": "markdown",
   "metadata": {},
   "source": [
    "## Working of NER"
   ]
  },
  {
   "cell_type": "code",
   "execution_count": 57,
   "metadata": {},
   "outputs": [],
   "source": [
    "docx1 = nlp1(u\"Who is Nishanth?\")"
   ]
  },
  {
   "cell_type": "code",
   "execution_count": 58,
   "metadata": {},
   "outputs": [
    {
     "name": "stdout",
     "output_type": "stream",
     "text": [
      "Nishanth 7 15 DATE\n"
     ]
    }
   ],
   "source": [
    "for token in docx1.ents:\n",
    "    print(token.text,token.start_char, token.end_char,token.label_)"
   ]
  },
  {
   "cell_type": "code",
   "execution_count": 59,
   "metadata": {},
   "outputs": [],
   "source": [
    "docx2 = nlp1(u\"Who is Kamal Khumar?\")"
   ]
  },
  {
   "cell_type": "code",
   "execution_count": 60,
   "metadata": {},
   "outputs": [
    {
     "name": "stdout",
     "output_type": "stream",
     "text": [
      "Kamal Khumar 7 19 PERSON\n"
     ]
    }
   ],
   "source": [
    "for token in docx2.ents:\n",
    "    print(token.text,token.start_char, token.end_char,token.label_)"
   ]
  },
  {
   "cell_type": "markdown",
   "metadata": {},
   "source": [
    "## Train Data"
   ]
  },
  {
   "cell_type": "code",
   "execution_count": 61,
   "metadata": {},
   "outputs": [],
   "source": [
    "TRAIN_DATA = subset.training_set.tolist()"
   ]
  },
  {
   "cell_type": "code",
   "execution_count": 62,
   "metadata": {},
   "outputs": [
    {
     "data": {
      "text/plain": [
       "[('spinach leaves packed', {'entities': [(0, 7, 'PRODUCT')]}),\n",
       " ('sliced asiago cheese', {'entities': [(7, 20, 'PRODUCT')]}),\n",
       " ('dried great northern beans', {'entities': [(12, 25, 'PRODUCT')]}),\n",
       " ('hamburger patties', {'entities': [(0, 9, 'PRODUCT')]}),\n",
       " ('diced tomatoes drained.', {'entities': [(6, 12, 'PRODUCT')]}),\n",
       " ('head napa cabbage chopped', {'entities': [(5, 17, 'PRODUCT')]}),\n",
       " ('uncooked cellentani (corkscrew) pasta',\n",
       "  {'entities': [(32, 37, 'PRODUCT')]}),\n",
       " ('dry unseasoned bread cubes', {'entities': [(15, 20, 'PRODUCT')]}),\n",
       " ('spelt flour', {'entities': [(6, 11, 'PRODUCT')]}),\n",
       " ('dry curd cottage cheese', {'entities': [(9, 23, 'PRODUCT')]})]"
      ]
     },
     "execution_count": 62,
     "metadata": {},
     "output_type": "execute_result"
    }
   ],
   "source": [
    "TRAIN_DATA[:10]"
   ]
  },
  {
   "cell_type": "markdown",
   "metadata": {},
   "source": [
    "## Define our variables"
   ]
  },
  {
   "cell_type": "code",
   "execution_count": 63,
   "metadata": {},
   "outputs": [],
   "source": [
    "model = None\n",
    "output_dir=Path(\"./NERmodel\")\n",
    "n_iter=10"
   ]
  },
  {
   "cell_type": "markdown",
   "metadata": {},
   "source": [
    "## Load the model"
   ]
  },
  {
   "cell_type": "code",
   "execution_count": 64,
   "metadata": {},
   "outputs": [
    {
     "name": "stdout",
     "output_type": "stream",
     "text": [
      "Created blank 'en' model\n"
     ]
    }
   ],
   "source": [
    "if model is not None:\n",
    "    nlp = spacy.load(model)  \n",
    "    print(\"Loaded model '%s'\" % model)\n",
    "else:\n",
    "    nlp = spacy.blank('en')  \n",
    "    print(\"Created blank 'en' model\")"
   ]
  },
  {
   "cell_type": "markdown",
   "metadata": {},
   "source": [
    "## Set up the pipeline"
   ]
  },
  {
   "cell_type": "code",
   "execution_count": 65,
   "metadata": {},
   "outputs": [],
   "source": [
    "if 'ner' not in nlp.pipe_names:\n",
    "    ner = nlp.create_pipe('ner')\n",
    "    nlp.add_pipe(ner, last=True)\n",
    "else:\n",
    "    ner = nlp.get_pipe('ner')"
   ]
  },
  {
   "cell_type": "markdown",
   "metadata": {},
   "source": [
    "## Train the Recognizer"
   ]
  },
  {
   "cell_type": "code",
   "execution_count": 66,
   "metadata": {},
   "outputs": [
    {
     "name": "stderr",
     "output_type": "stream",
     "text": [
      "C:\\Users\\Suzy\\anaconda3\\lib\\site-packages\\spacy\\language.py:635: UserWarning: [W033] Training a new parser or NER using a model with an empty lexeme normalization table. This may degrade the performance to some degree. If this is intentional or this language doesn't have a normalization table, please ignore this warning.\n",
      "  proc.begin_training(\n",
      "C:\\Users\\Suzy\\anaconda3\\lib\\site-packages\\spacy\\language.py:635: UserWarning: [W034] Please install the package spacy-lookups-data in order to include the default lexeme normalization table for the language 'en'.\n",
      "  proc.begin_training(\n",
      "  0%|▏                                                                                | 3/1409 [00:00<03:05,  7.58it/s]C:\\Users\\Suzy\\anaconda3\\lib\\site-packages\\spacy\\language.py:482: UserWarning: [W030] Some entities could not be aligned in the text \"prepared 16-inch pizza dough pastry\" with entities \"[(-1, 10, 'PRODUCT')]\". Use `spacy.gold.biluo_tags_from_offsets(nlp.make_doc(text), entities)` to check the alignment. Misaligned entities (with BILUO tag '-') will be ignored during training.\n",
      "  gold = GoldParse(doc, **gold)\n",
      "C:\\Users\\Suzy\\anaconda3\\lib\\site-packages\\spacy\\language.py:482: UserWarning: [W030] Some entities could not be aligned in the text \"tomatoes stems removed\" with entities \"[(0, 6, 'PRODUCT')]\". Use `spacy.gold.biluo_tags_from_offsets(nlp.make_doc(text), entities)` to check the alignment. Misaligned entities (with BILUO tag '-') will be ignored during training.\n",
      "  gold = GoldParse(doc, **gold)\n",
      "  0%|▎                                                                                | 6/1409 [00:00<02:38,  8.83it/s]C:\\Users\\Suzy\\anaconda3\\lib\\site-packages\\spacy\\language.py:482: UserWarning: [W030] Some entities could not be aligned in the text \"chopped pepperoni\" with entities \"[(-1, 8, 'PRODUCT')]\". Use `spacy.gold.biluo_tags_from_offsets(nlp.make_doc(text), entities)` to check the alignment. Misaligned entities (with BILUO tag '-') will be ignored during training.\n",
      "  gold = GoldParse(doc, **gold)\n",
      "  1%|▍                                                                                | 8/1409 [00:00<02:21,  9.90it/s]C:\\Users\\Suzy\\anaconda3\\lib\\site-packages\\spacy\\language.py:482: UserWarning: [W030] Some entities could not be aligned in the text \"mexicorn drained\" with entities \"[(4, 8, 'PRODUCT')]\". Use `spacy.gold.biluo_tags_from_offsets(nlp.make_doc(text), entities)` to check the alignment. Misaligned entities (with BILUO tag '-') will be ignored during training.\n",
      "  gold = GoldParse(doc, **gold)\n",
      "  1%|▊                                                                               | 14/1409 [00:01<01:51, 12.56it/s]C:\\Users\\Suzy\\anaconda3\\lib\\site-packages\\spacy\\language.py:482: UserWarning: [W030] Some entities could not be aligned in the text \"leeks bulb only sliced into rings\" with entities \"[(0, 4, 'PRODUCT')]\". Use `spacy.gold.biluo_tags_from_offsets(nlp.make_doc(text), entities)` to check the alignment. Misaligned entities (with BILUO tag '-') will be ignored during training.\n",
      "  gold = GoldParse(doc, **gold)\n",
      "  1%|▉                                                                               | 16/1409 [00:01<01:48, 12.82it/s]C:\\Users\\Suzy\\anaconda3\\lib\\site-packages\\spacy\\language.py:482: UserWarning: [W030] Some entities could not be aligned in the text \"apples peeled and cored\" with entities \"[(0, 5, 'PRODUCT')]\". Use `spacy.gold.biluo_tags_from_offsets(nlp.make_doc(text), entities)` to check the alignment. Misaligned entities (with BILUO tag '-') will be ignored during training.\n",
      "  gold = GoldParse(doc, **gold)\n",
      "  1%|█                                                                               | 18/1409 [00:01<01:55, 12.01it/s]C:\\Users\\Suzy\\anaconda3\\lib\\site-packages\\spacy\\language.py:482: UserWarning: [W030] Some entities could not be aligned in the text \"beef bouillon granules\" with entities \"[(-1, 9, 'PRODUCT')]\". Use `spacy.gold.biluo_tags_from_offsets(nlp.make_doc(text), entities)` to check the alignment. Misaligned entities (with BILUO tag '-') will be ignored during training.\n",
      "  gold = GoldParse(doc, **gold)\n",
      "  2%|█▎                                                                              | 24/1409 [00:01<01:46, 12.98it/s]C:\\Users\\Suzy\\anaconda3\\lib\\site-packages\\spacy\\language.py:482: UserWarning: [W030] Some entities could not be aligned in the text \"scrambled eggs\" with entities \"[(10, 13, 'PRODUCT')]\". Use `spacy.gold.biluo_tags_from_offsets(nlp.make_doc(text), entities)` to check the alignment. Misaligned entities (with BILUO tag '-') will be ignored during training.\n",
      "  gold = GoldParse(doc, **gold)\n",
      "  2%|█▌                                                                              | 28/1409 [00:02<01:42, 13.47it/s]C:\\Users\\Suzy\\anaconda3\\lib\\site-packages\\spacy\\language.py:482: UserWarning: [W030] Some entities could not be aligned in the text \"drained kalamata olives crushed\" with entities \"[(17, 22, 'PRODUCT')]\". Use `spacy.gold.biluo_tags_from_offsets(nlp.make_doc(text), entities)` to check the alignment. Misaligned entities (with BILUO tag '-') will be ignored during training.\n",
      "  gold = GoldParse(doc, **gold)\n",
      "C:\\Users\\Suzy\\anaconda3\\lib\\site-packages\\spacy\\language.py:482: UserWarning: [W030] Some entities could not be aligned in the text \"grape tomatoes halved\" with entities \"[(6, 12, 'PRODUCT')]\". Use `spacy.gold.biluo_tags_from_offsets(nlp.make_doc(text), entities)` to check the alignment. Misaligned entities (with BILUO tag '-') will be ignored during training.\n",
      "  gold = GoldParse(doc, **gold)\n",
      "  2%|█▋                                                                              | 30/1409 [00:02<01:47, 12.81it/s]C:\\Users\\Suzy\\anaconda3\\lib\\site-packages\\spacy\\language.py:482: UserWarning: [W030] Some entities could not be aligned in the text \"coarsely chopped fresh mushrooms\" with entities \"[(23, 31, 'PRODUCT')]\". Use `spacy.gold.biluo_tags_from_offsets(nlp.make_doc(text), entities)` to check the alignment. Misaligned entities (with BILUO tag '-') will be ignored during training.\n",
      "  gold = GoldParse(doc, **gold)\n",
      "  2%|█▉                                                                              | 34/1409 [00:02<01:46, 12.93it/s]C:\\Users\\Suzy\\anaconda3\\lib\\site-packages\\spacy\\language.py:482: UserWarning: [W030] Some entities could not be aligned in the text \"canned crushed tomatoes drained\" with entities \"[(15, 21, 'PRODUCT')]\". Use `spacy.gold.biluo_tags_from_offsets(nlp.make_doc(text), entities)` to check the alignment. Misaligned entities (with BILUO tag '-') will be ignored during training.\n",
      "  gold = GoldParse(doc, **gold)\n",
      "  3%|██                                                                              | 36/1409 [00:02<01:41, 13.50it/s]C:\\Users\\Suzy\\anaconda3\\lib\\site-packages\\spacy\\language.py:482: UserWarning: [W030] Some entities could not be aligned in the text \"dried chile negro (pasilla) pepper\" with entities \"[(-1, 12, 'PRODUCT')]\". Use `spacy.gold.biluo_tags_from_offsets(nlp.make_doc(text), entities)` to check the alignment. Misaligned entities (with BILUO tag '-') will be ignored during training.\n",
      "  gold = GoldParse(doc, **gold)\n",
      "  3%|██▌                                                                             | 46/1409 [00:03<01:41, 13.44it/s]C:\\Users\\Suzy\\anaconda3\\lib\\site-packages\\spacy\\language.py:482: UserWarning: [W030] Some entities could not be aligned in the text \"quartered red potatoes\" with entities \"[(14, 20, 'PRODUCT')]\". Use `spacy.gold.biluo_tags_from_offsets(nlp.make_doc(text), entities)` to check the alignment. Misaligned entities (with BILUO tag '-') will be ignored during training.\n",
      "  gold = GoldParse(doc, **gold)\n",
      "C:\\Users\\Suzy\\anaconda3\\lib\\site-packages\\spacy\\language.py:482: UserWarning: [W030] Some entities could not be aligned in the text \"diced green bell pepper (optional)\" with entities \"[(-1, 6, 'PRODUCT')]\". Use `spacy.gold.biluo_tags_from_offsets(nlp.make_doc(text), entities)` to check the alignment. Misaligned entities (with BILUO tag '-') will be ignored during training.\n",
      "  gold = GoldParse(doc, **gold)\n",
      "  3%|██▋                                                                             | 48/1409 [00:03<01:42, 13.32it/s]C:\\Users\\Suzy\\anaconda3\\lib\\site-packages\\spacy\\language.py:482: UserWarning: [W030] Some entities could not be aligned in the text \"cornish game hens halved lengthwise\" with entities \"[(0, 16, 'PRODUCT')]\". Use `spacy.gold.biluo_tags_from_offsets(nlp.make_doc(text), entities)` to check the alignment. Misaligned entities (with BILUO tag '-') will be ignored during training.\n",
      "  gold = GoldParse(doc, **gold)\n"
     ]
    },
    {
     "name": "stderr",
     "output_type": "stream",
     "text": [
      "  4%|██▊                                                                             | 50/1409 [00:03<01:38, 13.79it/s]C:\\Users\\Suzy\\anaconda3\\lib\\site-packages\\spacy\\language.py:482: UserWarning: [W030] Some entities could not be aligned in the text \"cremini mushrooms chopped\" with entities \"[(-1, 18, 'PRODUCT')]\". Use `spacy.gold.biluo_tags_from_offsets(nlp.make_doc(text), entities)` to check the alignment. Misaligned entities (with BILUO tag '-') will be ignored during training.\n",
      "  gold = GoldParse(doc, **gold)\n",
      "  4%|██▉                                                                             | 52/1409 [00:04<01:52, 12.03it/s]C:\\Users\\Suzy\\anaconda3\\lib\\site-packages\\spacy\\language.py:482: UserWarning: [W030] Some entities could not be aligned in the text \"avocados halved pitted flesh spooned out\" with entities \"[(0, 7, 'PRODUCT')]\". Use `spacy.gold.biluo_tags_from_offsets(nlp.make_doc(text), entities)` to check the alignment. Misaligned entities (with BILUO tag '-') will be ignored during training.\n",
      "  gold = GoldParse(doc, **gold)\n",
      "  4%|███                                                                             | 54/1409 [00:04<01:52, 12.02it/s]C:\\Users\\Suzy\\anaconda3\\lib\\site-packages\\spacy\\language.py:482: UserWarning: [W030] Some entities could not be aligned in the text \"hard peppermint candies\" with entities \"[(-1, 15, 'PRODUCT')]\". Use `spacy.gold.biluo_tags_from_offsets(nlp.make_doc(text), entities)` to check the alignment. Misaligned entities (with BILUO tag '-') will be ignored during training.\n",
      "  gold = GoldParse(doc, **gold)\n",
      "C:\\Users\\Suzy\\anaconda3\\lib\\site-packages\\spacy\\language.py:482: UserWarning: [W030] Some entities could not be aligned in the text \"canned red beans drained and rinsed\" with entities \"[(7, 15, 'PRODUCT')]\". Use `spacy.gold.biluo_tags_from_offsets(nlp.make_doc(text), entities)` to check the alignment. Misaligned entities (with BILUO tag '-') will be ignored during training.\n",
      "  gold = GoldParse(doc, **gold)\n",
      "  4%|███▏                                                                            | 56/1409 [00:04<01:51, 12.12it/s]C:\\Users\\Suzy\\anaconda3\\lib\\site-packages\\spacy\\language.py:482: UserWarning: [W030] Some entities could not be aligned in the text \"grapefruit salsa\" with entities \"[(5, 16, 'PRODUCT')]\". Use `spacy.gold.biluo_tags_from_offsets(nlp.make_doc(text), entities)` to check the alignment. Misaligned entities (with BILUO tag '-') will be ignored during training.\n",
      "  gold = GoldParse(doc, **gold)\n",
      "  5%|███▋                                                                            | 66/1409 [00:05<01:42, 13.13it/s]C:\\Users\\Suzy\\anaconda3\\lib\\site-packages\\spacy\\language.py:482: UserWarning: [W030] Some entities could not be aligned in the text \"canned kidney beans drained\" with entities \"[(7, 18, 'PRODUCT')]\". Use `spacy.gold.biluo_tags_from_offsets(nlp.make_doc(text), entities)` to check the alignment. Misaligned entities (with BILUO tag '-') will be ignored during training.\n",
      "  gold = GoldParse(doc, **gold)\n",
      "  5%|███▊                                                                            | 68/1409 [00:05<01:39, 13.54it/s]C:\\Users\\Suzy\\anaconda3\\lib\\site-packages\\spacy\\language.py:482: UserWarning: [W030] Some entities could not be aligned in the text \"string beans trimmed\" with entities \"[(0, 11, 'PRODUCT')]\". Use `spacy.gold.biluo_tags_from_offsets(nlp.make_doc(text), entities)` to check the alignment. Misaligned entities (with BILUO tag '-') will be ignored during training.\n",
      "  gold = GoldParse(doc, **gold)\n",
      "  5%|████▎                                                                           | 76/1409 [00:05<01:51, 11.98it/s]C:\\Users\\Suzy\\anaconda3\\lib\\site-packages\\spacy\\language.py:482: UserWarning: [W030] Some entities could not be aligned in the text \"vegetarian ground beef\" with entities \"[(-1, 8, 'PRODUCT')]\". Use `spacy.gold.biluo_tags_from_offsets(nlp.make_doc(text), entities)` to check the alignment. Misaligned entities (with BILUO tag '-') will be ignored during training.\n",
      "  gold = GoldParse(doc, **gold)\n",
      "  6%|████▍                                                                           | 78/1409 [00:06<02:10, 10.18it/s]C:\\Users\\Suzy\\anaconda3\\lib\\site-packages\\spacy\\language.py:482: UserWarning: [W030] Some entities could not be aligned in the text \"diced serrano pepper\" with entities \"[(-1, 6, 'PRODUCT')]\". Use `spacy.gold.biluo_tags_from_offsets(nlp.make_doc(text), entities)` to check the alignment. Misaligned entities (with BILUO tag '-') will be ignored during training.\n",
      "  gold = GoldParse(doc, **gold)\n",
      "  6%|████▌                                                                           | 80/1409 [00:06<02:14,  9.91it/s]C:\\Users\\Suzy\\anaconda3\\lib\\site-packages\\spacy\\language.py:482: UserWarning: [W030] Some entities could not be aligned in the text \"green chile enchilada sauce\" with entities \"[(-1, 10, 'PRODUCT')]\". Use `spacy.gold.biluo_tags_from_offsets(nlp.make_doc(text), entities)` to check the alignment. Misaligned entities (with BILUO tag '-') will be ignored during training.\n",
      "  gold = GoldParse(doc, **gold)\n",
      "  6%|████▋                                                                           | 82/1409 [00:06<02:09, 10.26it/s]C:\\Users\\Suzy\\anaconda3\\lib\\site-packages\\spacy\\language.py:482: UserWarning: [W030] Some entities could not be aligned in the text \"apples cored and sliced\" with entities \"[(0, 5, 'PRODUCT')]\". Use `spacy.gold.biluo_tags_from_offsets(nlp.make_doc(text), entities)` to check the alignment. Misaligned entities (with BILUO tag '-') will be ignored during training.\n",
      "  gold = GoldParse(doc, **gold)\n",
      "  6%|████▊                                                                           | 84/1409 [00:06<02:10, 10.16it/s]C:\\Users\\Suzy\\anaconda3\\lib\\site-packages\\spacy\\language.py:482: UserWarning: [W030] Some entities could not be aligned in the text \"large unpeeled new potatoes\" with entities \"[(19, 25, 'PRODUCT')]\". Use `spacy.gold.biluo_tags_from_offsets(nlp.make_doc(text), entities)` to check the alignment. Misaligned entities (with BILUO tag '-') will be ignored during training.\n",
      "  gold = GoldParse(doc, **gold)\n",
      "  7%|█████▌                                                                          | 99/1409 [00:08<01:48, 12.10it/s]C:\\Users\\Suzy\\anaconda3\\lib\\site-packages\\spacy\\language.py:482: UserWarning: [W030] Some entities could not be aligned in the text \"french-style green beans drained\" with entities \"[(13, 23, 'PRODUCT')]\". Use `spacy.gold.biluo_tags_from_offsets(nlp.make_doc(text), entities)` to check the alignment. Misaligned entities (with BILUO tag '-') will be ignored during training.\n",
      "  gold = GoldParse(doc, **gold)\n",
      "  7%|█████▋                                                                         | 101/1409 [00:08<01:43, 12.60it/s]C:\\Users\\Suzy\\anaconda3\\lib\\site-packages\\spacy\\language.py:482: UserWarning: [W030] Some entities could not be aligned in the text \"small tomatoes seeded and sliced\" with entities \"[(6, 12, 'PRODUCT')]\". Use `spacy.gold.biluo_tags_from_offsets(nlp.make_doc(text), entities)` to check the alignment. Misaligned entities (with BILUO tag '-') will be ignored during training.\n",
      "  gold = GoldParse(doc, **gold)\n",
      "  7%|█████▊                                                                         | 103/1409 [00:08<01:40, 13.04it/s]C:\\Users\\Suzy\\anaconda3\\lib\\site-packages\\spacy\\language.py:482: UserWarning: [W030] Some entities could not be aligned in the text \"chopped cooked white-meat chicken\" with entities \"[(-1, 13, 'PRODUCT')]\". Use `spacy.gold.biluo_tags_from_offsets(nlp.make_doc(text), entities)` to check the alignment. Misaligned entities (with BILUO tag '-') will be ignored during training.\n",
      "  gold = GoldParse(doc, **gold)\n",
      "  8%|█████▉                                                                         | 107/1409 [00:08<01:33, 13.97it/s]C:\\Users\\Suzy\\anaconda3\\lib\\site-packages\\spacy\\language.py:482: UserWarning: [W030] Some entities could not be aligned in the text \"fresh morel mushrooms halved\" with entities \"[(6, 20, 'PRODUCT')]\". Use `spacy.gold.biluo_tags_from_offsets(nlp.make_doc(text), entities)` to check the alignment. Misaligned entities (with BILUO tag '-') will be ignored during training.\n",
      "  gold = GoldParse(doc, **gold)\n"
     ]
    },
    {
     "name": "stderr",
     "output_type": "stream",
     "text": [
      "  8%|██████▏                                                                        | 111/1409 [00:09<01:38, 13.24it/s]C:\\Users\\Suzy\\anaconda3\\lib\\site-packages\\spacy\\language.py:482: UserWarning: [W030] Some entities could not be aligned in the text \"seasoned diced tomatoes\" with entities \"[(15, 21, 'PRODUCT')]\". Use `spacy.gold.biluo_tags_from_offsets(nlp.make_doc(text), entities)` to check the alignment. Misaligned entities (with BILUO tag '-') will be ignored during training.\n",
      "  gold = GoldParse(doc, **gold)\n",
      "C:\\Users\\Suzy\\anaconda3\\lib\\site-packages\\spacy\\language.py:482: UserWarning: [W030] Some entities could not be aligned in the text \"chocolate-flavored syrup\" with entities \"[(-1, 14, 'PRODUCT')]\". Use `spacy.gold.biluo_tags_from_offsets(nlp.make_doc(text), entities)` to check the alignment. Misaligned entities (with BILUO tag '-') will be ignored during training.\n",
      "  gold = GoldParse(doc, **gold)\n",
      "  8%|██████▋                                                                        | 119/1409 [00:09<01:28, 14.63it/s]C:\\Users\\Suzy\\anaconda3\\lib\\site-packages\\spacy\\language.py:482: UserWarning: [W030] Some entities could not be aligned in the text \"hard apple cider\" with entities \"[(-1, 8, 'PRODUCT')]\". Use `spacy.gold.biluo_tags_from_offsets(nlp.make_doc(text), entities)` to check the alignment. Misaligned entities (with BILUO tag '-') will be ignored during training.\n",
      "  gold = GoldParse(doc, **gold)\n",
      "  9%|██████▊                                                                        | 121/1409 [00:09<01:41, 12.64it/s]C:\\Users\\Suzy\\anaconda3\\lib\\site-packages\\spacy\\language.py:482: UserWarning: [W030] Some entities could not be aligned in the text \"marrons glaces (candied chestnuts)\" with entities \"[(24, 32, 'PRODUCT')]\". Use `spacy.gold.biluo_tags_from_offsets(nlp.make_doc(text), entities)` to check the alignment. Misaligned entities (with BILUO tag '-') will be ignored during training.\n",
      "  gold = GoldParse(doc, **gold)\n",
      "C:\\Users\\Suzy\\anaconda3\\lib\\site-packages\\spacy\\language.py:482: UserWarning: [W030] Some entities could not be aligned in the text \"peeled and diced tomatoes drained\" with entities \"[(17, 23, 'PRODUCT')]\". Use `spacy.gold.biluo_tags_from_offsets(nlp.make_doc(text), entities)` to check the alignment. Misaligned entities (with BILUO tag '-') will be ignored during training.\n",
      "  gold = GoldParse(doc, **gold)\n",
      "  9%|███████                                                                        | 125/1409 [00:10<02:01, 10.58it/s]C:\\Users\\Suzy\\anaconda3\\lib\\site-packages\\spacy\\language.py:482: UserWarning: [W030] Some entities could not be aligned in the text \"popsicle sticks\" with entities \"[(0, 14, 'PRODUCT')]\". Use `spacy.gold.biluo_tags_from_offsets(nlp.make_doc(text), entities)` to check the alignment. Misaligned entities (with BILUO tag '-') will be ignored during training.\n",
      "  gold = GoldParse(doc, **gold)\n",
      "C:\\Users\\Suzy\\anaconda3\\lib\\site-packages\\spacy\\language.py:482: UserWarning: [W030] Some entities could not be aligned in the text \"large apples cored and sliced with peel\" with entities \"[(6, 11, 'PRODUCT')]\". Use `spacy.gold.biluo_tags_from_offsets(nlp.make_doc(text), entities)` to check the alignment. Misaligned entities (with BILUO tag '-') will be ignored during training.\n",
      "  gold = GoldParse(doc, **gold)\n",
      "  9%|███████                                                                        | 127/1409 [00:10<01:48, 11.82it/s]C:\\Users\\Suzy\\anaconda3\\lib\\site-packages\\spacy\\language.py:482: UserWarning: [W030] Some entities could not be aligned in the text \"cream sauce\" with entities \"[(-1, 12, 'PRODUCT')]\". Use `spacy.gold.biluo_tags_from_offsets(nlp.make_doc(text), entities)` to check the alignment. Misaligned entities (with BILUO tag '-') will be ignored during training.\n",
      "  gold = GoldParse(doc, **gold)\n",
      "  9%|███████▎                                                                       | 131/1409 [00:10<02:07, 10.01it/s]C:\\Users\\Suzy\\anaconda3\\lib\\site-packages\\spacy\\language.py:482: UserWarning: [W030] Some entities could not be aligned in the text \"mccormickÃ¢Â® red pepper crushed\" with entities \"[(-1, 13, 'PRODUCT')]\". Use `spacy.gold.biluo_tags_from_offsets(nlp.make_doc(text), entities)` to check the alignment. Misaligned entities (with BILUO tag '-') will be ignored during training.\n",
      "  gold = GoldParse(doc, **gold)\n",
      "  9%|███████▍                                                                       | 133/1409 [00:11<01:56, 10.94it/s]C:\\Users\\Suzy\\anaconda3\\lib\\site-packages\\spacy\\language.py:482: UserWarning: [W030] Some entities could not be aligned in the text \"dry cannellini beans\" with entities \"[(4, 19, 'PRODUCT')]\". Use `spacy.gold.biluo_tags_from_offsets(nlp.make_doc(text), entities)` to check the alignment. Misaligned entities (with BILUO tag '-') will be ignored during training.\n",
      "  gold = GoldParse(doc, **gold)\n",
      " 10%|███████▋                                                                       | 137/1409 [00:11<01:42, 12.42it/s]C:\\Users\\Suzy\\anaconda3\\lib\\site-packages\\spacy\\language.py:482: UserWarning: [W030] Some entities could not be aligned in the text \"for the shrimp stock\" with entities \"[(-1, 5, 'PRODUCT')]\". Use `spacy.gold.biluo_tags_from_offsets(nlp.make_doc(text), entities)` to check the alignment. Misaligned entities (with BILUO tag '-') will be ignored during training.\n",
      "  gold = GoldParse(doc, **gold)\n",
      " 10%|███████▉                                                                       | 141/1409 [00:11<01:29, 14.11it/s]C:\\Users\\Suzy\\anaconda3\\lib\\site-packages\\spacy\\language.py:482: UserWarning: [W030] Some entities could not be aligned in the text \"frozen lima beans thawed\" with entities \"[(7, 16, 'PRODUCT')]\". Use `spacy.gold.biluo_tags_from_offsets(nlp.make_doc(text), entities)` to check the alignment. Misaligned entities (with BILUO tag '-') will be ignored during training.\n",
      "  gold = GoldParse(doc, **gold)\n",
      " 10%|████████                                                                       | 143/1409 [00:11<01:31, 13.89it/s]C:\\Users\\Suzy\\anaconda3\\lib\\site-packages\\spacy\\language.py:482: UserWarning: [W030] Some entities could not be aligned in the text \"peeled cored and chopped red tomatoes\" with entities \"[(29, 35, 'PRODUCT')]\". Use `spacy.gold.biluo_tags_from_offsets(nlp.make_doc(text), entities)` to check the alignment. Misaligned entities (with BILUO tag '-') will be ignored during training.\n",
      "  gold = GoldParse(doc, **gold)\n",
      " 10%|████████▏                                                                      | 147/1409 [00:12<01:52, 11.20it/s]C:\\Users\\Suzy\\anaconda3\\lib\\site-packages\\spacy\\language.py:482: UserWarning: [W030] Some entities could not be aligned in the text \"white beans\" with entities \"[(0, 10, 'PRODUCT')]\". Use `spacy.gold.biluo_tags_from_offsets(nlp.make_doc(text), entities)` to check the alignment. Misaligned entities (with BILUO tag '-') will be ignored during training.\n",
      "  gold = GoldParse(doc, **gold)\n",
      " 11%|████████▍                                                                      | 151/1409 [00:12<01:34, 13.31it/s]C:\\Users\\Suzy\\anaconda3\\lib\\site-packages\\spacy\\language.py:482: UserWarning: [W030] Some entities could not be aligned in the text \"lime crema\" with entities \"[(-1, 4, 'PRODUCT')]\". Use `spacy.gold.biluo_tags_from_offsets(nlp.make_doc(text), entities)` to check the alignment. Misaligned entities (with BILUO tag '-') will be ignored during training.\n",
      "  gold = GoldParse(doc, **gold)\n",
      "C:\\Users\\Suzy\\anaconda3\\lib\\site-packages\\spacy\\language.py:482: UserWarning: [W030] Some entities could not be aligned in the text \"diced tomatoes\" with entities \"[(6, 12, 'PRODUCT')]\". Use `spacy.gold.biluo_tags_from_offsets(nlp.make_doc(text), entities)` to check the alignment. Misaligned entities (with BILUO tag '-') will be ignored during training.\n",
      "  gold = GoldParse(doc, **gold)\n",
      " 11%|████████▉                                                                      | 159/1409 [00:12<01:30, 13.80it/s]C:\\Users\\Suzy\\anaconda3\\lib\\site-packages\\spacy\\language.py:482: UserWarning: [W030] Some entities could not be aligned in the text \"finely chopped pickled jalapeno pepper\" with entities \"[(-1, 15, 'PRODUCT')]\". Use `spacy.gold.biluo_tags_from_offsets(nlp.make_doc(text), entities)` to check the alignment. Misaligned entities (with BILUO tag '-') will be ignored during training.\n",
      "  gold = GoldParse(doc, **gold)\n"
     ]
    },
    {
     "name": "stderr",
     "output_type": "stream",
     "text": [
      " 11%|█████████                                                                      | 161/1409 [00:13<01:34, 13.15it/s]C:\\Users\\Suzy\\anaconda3\\lib\\site-packages\\spacy\\language.py:482: UserWarning: [W030] Some entities could not be aligned in the text \"ripe avocados cubed\" with entities \"[(5, 12, 'PRODUCT')]\". Use `spacy.gold.biluo_tags_from_offsets(nlp.make_doc(text), entities)` to check the alignment. Misaligned entities (with BILUO tag '-') will be ignored during training.\n",
      "  gold = GoldParse(doc, **gold)\n",
      " 12%|█████████▏                                                                     | 163/1409 [00:13<01:31, 13.69it/s]C:\\Users\\Suzy\\anaconda3\\lib\\site-packages\\spacy\\language.py:482: UserWarning: [W030] Some entities could not be aligned in the text \"chopped roasted peanuts\" with entities \"[(16, 22, 'PRODUCT')]\". Use `spacy.gold.biluo_tags_from_offsets(nlp.make_doc(text), entities)` to check the alignment. Misaligned entities (with BILUO tag '-') will be ignored during training.\n",
      "  gold = GoldParse(doc, **gold)\n",
      " 12%|█████████▎                                                                     | 165/1409 [00:13<01:28, 14.12it/s]C:\\Users\\Suzy\\anaconda3\\lib\\site-packages\\spacy\\language.py:482: UserWarning: [W030] Some entities could not be aligned in the text \"chicken wings\" with entities \"[(0, 12, 'PRODUCT')]\". Use `spacy.gold.biluo_tags_from_offsets(nlp.make_doc(text), entities)` to check the alignment. Misaligned entities (with BILUO tag '-') will be ignored during training.\n",
      "  gold = GoldParse(doc, **gold)\n",
      " 12%|█████████▍                                                                     | 169/1409 [00:13<01:36, 12.86it/s]C:\\Users\\Suzy\\anaconda3\\lib\\site-packages\\spacy\\language.py:482: UserWarning: [W030] Some entities could not be aligned in the text \"cooking apples\" with entities \"[(8, 13, 'PRODUCT')]\". Use `spacy.gold.biluo_tags_from_offsets(nlp.make_doc(text), entities)` to check the alignment. Misaligned entities (with BILUO tag '-') will be ignored during training.\n",
      "  gold = GoldParse(doc, **gold)\n",
      " 12%|█████████▋                                                                     | 173/1409 [00:13<01:28, 13.93it/s]C:\\Users\\Suzy\\anaconda3\\lib\\site-packages\\spacy\\language.py:482: UserWarning: [W030] Some entities could not be aligned in the text \"pitted prunes finely chopped\" with entities \"[(7, 12, 'PRODUCT')]\". Use `spacy.gold.biluo_tags_from_offsets(nlp.make_doc(text), entities)` to check the alignment. Misaligned entities (with BILUO tag '-') will be ignored during training.\n",
      "  gold = GoldParse(doc, **gold)\n",
      " 13%|██████████                                                                     | 179/1409 [00:14<01:33, 13.09it/s]C:\\Users\\Suzy\\anaconda3\\lib\\site-packages\\spacy\\language.py:482: UserWarning: [W030] Some entities could not be aligned in the text \"clamshell mushrooms\" with entities \"[(0, 18, 'PRODUCT')]\". Use `spacy.gold.biluo_tags_from_offsets(nlp.make_doc(text), entities)` to check the alignment. Misaligned entities (with BILUO tag '-') will be ignored during training.\n",
      "  gold = GoldParse(doc, **gold)\n",
      " 13%|██████████▎                                                                    | 183/1409 [00:14<01:41, 12.11it/s]C:\\Users\\Suzy\\anaconda3\\lib\\site-packages\\spacy\\language.py:482: UserWarning: [W030] Some entities could not be aligned in the text \"diced tomatoes drained\" with entities \"[(6, 12, 'PRODUCT')]\". Use `spacy.gold.biluo_tags_from_offsets(nlp.make_doc(text), entities)` to check the alignment. Misaligned entities (with BILUO tag '-') will be ignored during training.\n",
      "  gold = GoldParse(doc, **gold)\n",
      "C:\\Users\\Suzy\\anaconda3\\lib\\site-packages\\spacy\\language.py:482: UserWarning: [W030] Some entities could not be aligned in the text \"benedictineÃ¢Â® liqueur\" with entities \"[(0, 11, 'PRODUCT')]\". Use `spacy.gold.biluo_tags_from_offsets(nlp.make_doc(text), entities)` to check the alignment. Misaligned entities (with BILUO tag '-') will be ignored during training.\n",
      "  gold = GoldParse(doc, **gold)\n",
      " 13%|██████████▎                                                                    | 185/1409 [00:14<01:34, 12.88it/s]C:\\Users\\Suzy\\anaconda3\\lib\\site-packages\\spacy\\language.py:482: UserWarning: [W030] Some entities could not be aligned in the text \"dry navy beans\" with entities \"[(4, 13, 'PRODUCT')]\". Use `spacy.gold.biluo_tags_from_offsets(nlp.make_doc(text), entities)` to check the alignment. Misaligned entities (with BILUO tag '-') will be ignored during training.\n",
      "  gold = GoldParse(doc, **gold)\n",
      " 13%|██████████▍                                                                    | 187/1409 [00:15<01:44, 11.74it/s]C:\\Users\\Suzy\\anaconda3\\lib\\site-packages\\spacy\\language.py:482: UserWarning: [W030] Some entities could not be aligned in the text \"hot mashed potatoes\" with entities \"[(11, 17, 'PRODUCT')]\". Use `spacy.gold.biluo_tags_from_offsets(nlp.make_doc(text), entities)` to check the alignment. Misaligned entities (with BILUO tag '-') will be ignored during training.\n",
      "  gold = GoldParse(doc, **gold)\n",
      " 14%|██████████▋                                                                    | 191/1409 [00:15<01:40, 12.14it/s]C:\\Users\\Suzy\\anaconda3\\lib\\site-packages\\spacy\\language.py:482: UserWarning: [W030] Some entities could not be aligned in the text \"becelÃ¢Â® buttery taste\" with entities \"[(-1, 8, 'PRODUCT')]\". Use `spacy.gold.biluo_tags_from_offsets(nlp.make_doc(text), entities)` to check the alignment. Misaligned entities (with BILUO tag '-') will be ignored during training.\n",
      "  gold = GoldParse(doc, **gold)\n",
      " 14%|██████████▉                                                                    | 195/1409 [00:15<01:36, 12.61it/s]C:\\Users\\Suzy\\anaconda3\\lib\\site-packages\\spacy\\language.py:482: UserWarning: [W030] Some entities could not be aligned in the text \"apple-maple sauce\" with entities \"[(-1, 9, 'PRODUCT')]\". Use `spacy.gold.biluo_tags_from_offsets(nlp.make_doc(text), entities)` to check the alignment. Misaligned entities (with BILUO tag '-') will be ignored during training.\n",
      "  gold = GoldParse(doc, **gold)\n",
      " 14%|███████████▏                                                                   | 199/1409 [00:16<01:42, 11.76it/s]C:\\Users\\Suzy\\anaconda3\\lib\\site-packages\\spacy\\language.py:482: UserWarning: [W030] Some entities could not be aligned in the text \"firm green mangoes\" with entities \"[(11, 16, 'PRODUCT')]\". Use `spacy.gold.biluo_tags_from_offsets(nlp.make_doc(text), entities)` to check the alignment. Misaligned entities (with BILUO tag '-') will be ignored during training.\n",
      "  gold = GoldParse(doc, **gold)\n",
      " 14%|███████████▎                                                                   | 201/1409 [00:16<01:34, 12.85it/s]C:\\Users\\Suzy\\anaconda3\\lib\\site-packages\\spacy\\language.py:482: UserWarning: [W030] Some entities could not be aligned in the text \"red goldÃ¢Â® crushed tomatoes\" with entities \"[(21, 27, 'PRODUCT')]\". Use `spacy.gold.biluo_tags_from_offsets(nlp.make_doc(text), entities)` to check the alignment. Misaligned entities (with BILUO tag '-') will be ignored during training.\n",
      "  gold = GoldParse(doc, **gold)\n",
      " 15%|███████████▍                                                                   | 205/1409 [00:16<01:26, 13.97it/s]C:\\Users\\Suzy\\anaconda3\\lib\\site-packages\\spacy\\language.py:482: UserWarning: [W030] Some entities could not be aligned in the text \"ground beef (80% lean)\" with entities \"[(-1, 8, 'PRODUCT')]\". Use `spacy.gold.biluo_tags_from_offsets(nlp.make_doc(text), entities)` to check the alignment. Misaligned entities (with BILUO tag '-') will be ignored during training.\n",
      "  gold = GoldParse(doc, **gold)\n",
      " 15%|███████████▌                                                                   | 207/1409 [00:16<01:24, 14.29it/s]C:\\Users\\Suzy\\anaconda3\\lib\\site-packages\\spacy\\language.py:482: UserWarning: [W030] Some entities could not be aligned in the text \"stir fry sauce\" with entities \"[(-1, 8, 'PRODUCT')]\". Use `spacy.gold.biluo_tags_from_offsets(nlp.make_doc(text), entities)` to check the alignment. Misaligned entities (with BILUO tag '-') will be ignored during training.\n",
      "  gold = GoldParse(doc, **gold)\n"
     ]
    },
    {
     "name": "stderr",
     "output_type": "stream",
     "text": [
      " 15%|███████████▋                                                                   | 209/1409 [00:16<01:34, 12.69it/s]C:\\Users\\Suzy\\anaconda3\\lib\\site-packages\\spacy\\language.py:482: UserWarning: [W030] Some entities could not be aligned in the text \"garbanzo beans half the liquid reserved\" with entities \"[(0, 13, 'PRODUCT')]\". Use `spacy.gold.biluo_tags_from_offsets(nlp.make_doc(text), entities)` to check the alignment. Misaligned entities (with BILUO tag '-') will be ignored during training.\n",
      "  gold = GoldParse(doc, **gold)\n",
      " 15%|████████████                                                                   | 215/1409 [00:17<01:26, 13.81it/s]C:\\Users\\Suzy\\anaconda3\\lib\\site-packages\\spacy\\language.py:482: UserWarning: [W030] Some entities could not be aligned in the text \"fresh green chilies for garnish\" with entities \"[(-1, 12, 'PRODUCT')]\". Use `spacy.gold.biluo_tags_from_offsets(nlp.make_doc(text), entities)` to check the alignment. Misaligned entities (with BILUO tag '-') will be ignored during training.\n",
      "  gold = GoldParse(doc, **gold)\n",
      " 16%|████████████▎                                                                  | 219/1409 [00:17<01:36, 12.30it/s]C:\\Users\\Suzy\\anaconda3\\lib\\site-packages\\spacy\\language.py:482: UserWarning: [W030] Some entities could not be aligned in the text \"small orange bell pepper\" with entities \"[(-1, 6, 'PRODUCT')]\". Use `spacy.gold.biluo_tags_from_offsets(nlp.make_doc(text), entities)` to check the alignment. Misaligned entities (with BILUO tag '-') will be ignored during training.\n",
      "  gold = GoldParse(doc, **gold)\n",
      " 16%|████████████▊                                                                  | 229/1409 [00:18<01:20, 14.57it/s]C:\\Users\\Suzy\\anaconda3\\lib\\site-packages\\spacy\\language.py:482: UserWarning: [W030] Some entities could not be aligned in the text \"large white mushrooms stems removed\" with entities \"[(12, 20, 'PRODUCT')]\". Use `spacy.gold.biluo_tags_from_offsets(nlp.make_doc(text), entities)` to check the alignment. Misaligned entities (with BILUO tag '-') will be ignored during training.\n",
      "  gold = GoldParse(doc, **gold)\n",
      " 17%|█████████████▏                                                                 | 235/1409 [00:18<01:18, 15.02it/s]C:\\Users\\Suzy\\anaconda3\\lib\\site-packages\\spacy\\language.py:482: UserWarning: [W030] Some entities could not be aligned in the text \"pickled jalapeno pepper juice\" with entities \"[(-1, 15, 'PRODUCT')]\". Use `spacy.gold.biluo_tags_from_offsets(nlp.make_doc(text), entities)` to check the alignment. Misaligned entities (with BILUO tag '-') will be ignored during training.\n",
      "  gold = GoldParse(doc, **gold)\n",
      " 17%|█████████████▎                                                                 | 237/1409 [00:18<01:18, 14.96it/s]C:\\Users\\Suzy\\anaconda3\\lib\\site-packages\\spacy\\language.py:482: UserWarning: [W030] Some entities could not be aligned in the text \"great northern beans undrained\" with entities \"[(6, 19, 'PRODUCT')]\". Use `spacy.gold.biluo_tags_from_offsets(nlp.make_doc(text), entities)` to check the alignment. Misaligned entities (with BILUO tag '-') will be ignored during training.\n",
      "  gold = GoldParse(doc, **gold)\n",
      "C:\\Users\\Suzy\\anaconda3\\lib\\site-packages\\spacy\\language.py:482: UserWarning: [W030] Some entities could not be aligned in the text \"bunches beet greens stems removed\" with entities \"[(8, 18, 'PRODUCT')]\". Use `spacy.gold.biluo_tags_from_offsets(nlp.make_doc(text), entities)` to check the alignment. Misaligned entities (with BILUO tag '-') will be ignored during training.\n",
      "  gold = GoldParse(doc, **gold)\n",
      " 17%|█████████████▍                                                                 | 239/1409 [00:18<01:18, 14.94it/s]C:\\Users\\Suzy\\anaconda3\\lib\\site-packages\\spacy\\language.py:482: UserWarning: [W030] Some entities could not be aligned in the text \"large red pepper\" with entities \"[(-1, 6, 'PRODUCT')]\". Use `spacy.gold.biluo_tags_from_offsets(nlp.make_doc(text), entities)` to check the alignment. Misaligned entities (with BILUO tag '-') will be ignored during training.\n",
      "  gold = GoldParse(doc, **gold)\n",
      "C:\\Users\\Suzy\\anaconda3\\lib\\site-packages\\spacy\\language.py:482: UserWarning: [W030] Some entities could not be aligned in the text \"finely diced shallots\" with entities \"[(13, 20, 'PRODUCT')]\". Use `spacy.gold.biluo_tags_from_offsets(nlp.make_doc(text), entities)` to check the alignment. Misaligned entities (with BILUO tag '-') will be ignored during training.\n",
      "  gold = GoldParse(doc, **gold)\n",
      " 17%|█████████████▌                                                                 | 243/1409 [00:19<01:51, 10.48it/s]C:\\Users\\Suzy\\anaconda3\\lib\\site-packages\\spacy\\language.py:482: UserWarning: [W030] Some entities could not be aligned in the text \"chopped tomatoes\" with entities \"[(8, 14, 'PRODUCT')]\". Use `spacy.gold.biluo_tags_from_offsets(nlp.make_doc(text), entities)` to check the alignment. Misaligned entities (with BILUO tag '-') will be ignored during training.\n",
      "  gold = GoldParse(doc, **gold)\n",
      "C:\\Users\\Suzy\\anaconda3\\lib\\site-packages\\spacy\\language.py:482: UserWarning: [W030] Some entities could not be aligned in the text \"dried white pea beans\" with entities \"[(-1, 9, 'PRODUCT')]\". Use `spacy.gold.biluo_tags_from_offsets(nlp.make_doc(text), entities)` to check the alignment. Misaligned entities (with BILUO tag '-') will be ignored during training.\n",
      "  gold = GoldParse(doc, **gold)\n",
      " 18%|█████████████▊                                                                 | 247/1409 [00:19<01:34, 12.33it/s]C:\\Users\\Suzy\\anaconda3\\lib\\site-packages\\spacy\\language.py:482: UserWarning: [W030] Some entities could not be aligned in the text \"small shallots minced\" with entities \"[(6, 13, 'PRODUCT')]\". Use `spacy.gold.biluo_tags_from_offsets(nlp.make_doc(text), entities)` to check the alignment. Misaligned entities (with BILUO tag '-') will be ignored during training.\n",
      "  gold = GoldParse(doc, **gold)\n",
      " 18%|█████████████▉                                                                 | 249/1409 [00:19<01:31, 12.71it/s]C:\\Users\\Suzy\\anaconda3\\lib\\site-packages\\spacy\\language.py:482: UserWarning: [W030] Some entities could not be aligned in the text \"button mushrooms quartered\" with entities \"[(0, 15, 'PRODUCT')]\". Use `spacy.gold.biluo_tags_from_offsets(nlp.make_doc(text), entities)` to check the alignment. Misaligned entities (with BILUO tag '-') will be ignored during training.\n",
      "  gold = GoldParse(doc, **gold)\n",
      " 18%|██████████████                                                                 | 251/1409 [00:20<01:28, 13.02it/s]C:\\Users\\Suzy\\anaconda3\\lib\\site-packages\\spacy\\language.py:482: UserWarning: [W030] Some entities could not be aligned in the text \"red goldÃ¢Â® diced tomatoes drained\" with entities \"[(19, 25, 'PRODUCT')]\". Use `spacy.gold.biluo_tags_from_offsets(nlp.make_doc(text), entities)` to check the alignment. Misaligned entities (with BILUO tag '-') will be ignored during training.\n",
      "  gold = GoldParse(doc, **gold)\n",
      " 18%|██████████████▏                                                                | 253/1409 [00:20<01:27, 13.19it/s]C:\\Users\\Suzy\\anaconda3\\lib\\site-packages\\spacy\\language.py:482: UserWarning: [W030] Some entities could not be aligned in the text \"whole wheat saltine crackers\" with entities \"[(20, 27, 'PRODUCT')]\". Use `spacy.gold.biluo_tags_from_offsets(nlp.make_doc(text), entities)` to check the alignment. Misaligned entities (with BILUO tag '-') will be ignored during training.\n",
      "  gold = GoldParse(doc, **gold)\n",
      " 18%|██████████████▎                                                                | 255/1409 [00:20<01:20, 14.33it/s]C:\\Users\\Suzy\\anaconda3\\lib\\site-packages\\spacy\\language.py:482: UserWarning: [W030] Some entities could not be aligned in the text \"italian cheese blend (parmesan\" with entities \"[(-1, 14, 'PRODUCT')]\". Use `spacy.gold.biluo_tags_from_offsets(nlp.make_doc(text), entities)` to check the alignment. Misaligned entities (with BILUO tag '-') will be ignored during training.\n",
      "  gold = GoldParse(doc, **gold)\n",
      " 18%|██████████████▍                                                                | 257/1409 [00:20<01:22, 13.89it/s]C:\\Users\\Suzy\\anaconda3\\lib\\site-packages\\spacy\\language.py:482: UserWarning: [W030] Some entities could not be aligned in the text \"bone-in center-cut pork chops\" with entities \"[(19, 28, 'PRODUCT')]\". Use `spacy.gold.biluo_tags_from_offsets(nlp.make_doc(text), entities)` to check the alignment. Misaligned entities (with BILUO tag '-') will be ignored during training.\n",
      "  gold = GoldParse(doc, **gold)\n"
     ]
    },
    {
     "name": "stderr",
     "output_type": "stream",
     "text": [
      " 18%|██████████████▌                                                                | 259/1409 [00:20<01:24, 13.58it/s]C:\\Users\\Suzy\\anaconda3\\lib\\site-packages\\spacy\\language.py:482: UserWarning: [W030] Some entities could not be aligned in the text \"steamer clams in shell scrubbed\" with entities \"[(8, 12, 'PRODUCT')]\". Use `spacy.gold.biluo_tags_from_offsets(nlp.make_doc(text), entities)` to check the alignment. Misaligned entities (with BILUO tag '-') will be ignored during training.\n",
      "  gold = GoldParse(doc, **gold)\n",
      " 19%|██████████████▋                                                                | 261/1409 [00:20<01:23, 13.69it/s]C:\\Users\\Suzy\\anaconda3\\lib\\site-packages\\spacy\\language.py:482: UserWarning: [W030] Some entities could not be aligned in the text \"small jellybeans\" with entities \"[(6, 15, 'PRODUCT')]\". Use `spacy.gold.biluo_tags_from_offsets(nlp.make_doc(text), entities)` to check the alignment. Misaligned entities (with BILUO tag '-') will be ignored during training.\n",
      "  gold = GoldParse(doc, **gold)\n",
      " 19%|██████████████▋                                                                | 263/1409 [00:20<01:26, 13.18it/s]C:\\Users\\Suzy\\anaconda3\\lib\\site-packages\\spacy\\language.py:482: UserWarning: [W030] Some entities could not be aligned in the text \"shredded yukon gold potatoes\" with entities \"[(20, 26, 'PRODUCT')]\". Use `spacy.gold.biluo_tags_from_offsets(nlp.make_doc(text), entities)` to check the alignment. Misaligned entities (with BILUO tag '-') will be ignored during training.\n",
      "  gold = GoldParse(doc, **gold)\n",
      " 19%|██████████████▊                                                                | 265/1409 [00:21<01:31, 12.51it/s]C:\\Users\\Suzy\\anaconda3\\lib\\site-packages\\spacy\\language.py:482: UserWarning: [W030] Some entities could not be aligned in the text \"hard-boiled eggs peeled and diced\" with entities \"[(12, 15, 'PRODUCT')]\". Use `spacy.gold.biluo_tags_from_offsets(nlp.make_doc(text), entities)` to check the alignment. Misaligned entities (with BILUO tag '-') will be ignored during training.\n",
      "  gold = GoldParse(doc, **gold)\n",
      "C:\\Users\\Suzy\\anaconda3\\lib\\site-packages\\spacy\\language.py:482: UserWarning: [W030] Some entities could not be aligned in the text \"large jalapeno pepper\" with entities \"[(-1, 15, 'PRODUCT')]\". Use `spacy.gold.biluo_tags_from_offsets(nlp.make_doc(text), entities)` to check the alignment. Misaligned entities (with BILUO tag '-') will be ignored during training.\n",
      "  gold = GoldParse(doc, **gold)\n",
      " 20%|███████████████▌                                                               | 277/1409 [00:22<01:45, 10.73it/s]C:\\Users\\Suzy\\anaconda3\\lib\\site-packages\\spacy\\language.py:482: UserWarning: [W030] Some entities could not be aligned in the text \"fresh fish stock\" with entities \"[(-1, 9, 'PRODUCT')]\". Use `spacy.gold.biluo_tags_from_offsets(nlp.make_doc(text), entities)` to check the alignment. Misaligned entities (with BILUO tag '-') will be ignored during training.\n",
      "  gold = GoldParse(doc, **gold)\n",
      " 20%|███████████████▊                                                               | 281/1409 [00:22<01:56,  9.66it/s]C:\\Users\\Suzy\\anaconda3\\lib\\site-packages\\spacy\\language.py:482: UserWarning: [W030] Some entities could not be aligned in the text \"cardamom pods divided\" with entities \"[(-1, 7, 'PRODUCT')]\". Use `spacy.gold.biluo_tags_from_offsets(nlp.make_doc(text), entities)` to check the alignment. Misaligned entities (with BILUO tag '-') will be ignored during training.\n",
      "  gold = GoldParse(doc, **gold)\n",
      " 20%|████████████████                                                               | 287/1409 [00:23<01:47, 10.42it/s]C:\\Users\\Suzy\\anaconda3\\lib\\site-packages\\spacy\\language.py:482: UserWarning: [W030] Some entities could not be aligned in the text \"ciabatta rolls sliced in half\" with entities \"[(0, 13, 'PRODUCT')]\". Use `spacy.gold.biluo_tags_from_offsets(nlp.make_doc(text), entities)` to check the alignment. Misaligned entities (with BILUO tag '-') will be ignored during training.\n",
      "  gold = GoldParse(doc, **gold)\n",
      " 21%|████████████████▏                                                              | 289/1409 [00:23<01:42, 10.95it/s]C:\\Users\\Suzy\\anaconda3\\lib\\site-packages\\spacy\\language.py:482: UserWarning: [W030] Some entities could not be aligned in the text \"medium apples grated\" with entities \"[(7, 12, 'PRODUCT')]\". Use `spacy.gold.biluo_tags_from_offsets(nlp.make_doc(text), entities)` to check the alignment. Misaligned entities (with BILUO tag '-') will be ignored during training.\n",
      "  gold = GoldParse(doc, **gold)\n",
      " 21%|████████████████▍                                                              | 293/1409 [00:23<01:40, 11.11it/s]C:\\Users\\Suzy\\anaconda3\\lib\\site-packages\\spacy\\language.py:482: UserWarning: [W030] Some entities could not be aligned in the text \"green tomatoes chopped\" with entities \"[(0, 12, 'PRODUCT')]\". Use `spacy.gold.biluo_tags_from_offsets(nlp.make_doc(text), entities)` to check the alignment. Misaligned entities (with BILUO tag '-') will be ignored during training.\n",
      "  gold = GoldParse(doc, **gold)\n",
      " 21%|████████████████▉                                                              | 301/1409 [00:24<01:26, 12.82it/s]C:\\Users\\Suzy\\anaconda3\\lib\\site-packages\\spacy\\language.py:482: UserWarning: [W030] Some entities could not be aligned in the text \"minced raisins\" with entities \"[(7, 13, 'PRODUCT')]\". Use `spacy.gold.biluo_tags_from_offsets(nlp.make_doc(text), entities)` to check the alignment. Misaligned entities (with BILUO tag '-') will be ignored during training.\n",
      "  gold = GoldParse(doc, **gold)\n",
      " 22%|████████████████▉                                                              | 303/1409 [00:24<01:22, 13.38it/s]C:\\Users\\Suzy\\anaconda3\\lib\\site-packages\\spacy\\language.py:482: UserWarning: [W030] Some entities could not be aligned in the text \"minced serrano chili pepper\" with entities \"[(-1, 12, 'PRODUCT')]\". Use `spacy.gold.biluo_tags_from_offsets(nlp.make_doc(text), entities)` to check the alignment. Misaligned entities (with BILUO tag '-') will be ignored during training.\n",
      "  gold = GoldParse(doc, **gold)\n",
      " 22%|█████████████████▏                                                             | 307/1409 [00:24<01:19, 13.93it/s]C:\\Users\\Suzy\\anaconda3\\lib\\site-packages\\spacy\\language.py:482: UserWarning: [W030] Some entities could not be aligned in the text \"snipped dried apricots\" with entities \"[(14, 21, 'PRODUCT')]\". Use `spacy.gold.biluo_tags_from_offsets(nlp.make_doc(text), entities)` to check the alignment. Misaligned entities (with BILUO tag '-') will be ignored during training.\n",
      "  gold = GoldParse(doc, **gold)\n",
      "C:\\Users\\Suzy\\anaconda3\\lib\\site-packages\\spacy\\language.py:482: UserWarning: [W030] Some entities could not be aligned in the text \"large plum tomatoes diced\" with entities \"[(11, 17, 'PRODUCT')]\". Use `spacy.gold.biluo_tags_from_offsets(nlp.make_doc(text), entities)` to check the alignment. Misaligned entities (with BILUO tag '-') will be ignored during training.\n",
      "  gold = GoldParse(doc, **gold)\n",
      " 22%|█████████████████▎                                                             | 309/1409 [00:24<01:20, 13.73it/s]C:\\Users\\Suzy\\anaconda3\\lib\\site-packages\\spacy\\language.py:482: UserWarning: [W030] Some entities could not be aligned in the text \"chopped green onions (optional)\" with entities \"[(8, 19, 'PRODUCT')]\". Use `spacy.gold.biluo_tags_from_offsets(nlp.make_doc(text), entities)` to check the alignment. Misaligned entities (with BILUO tag '-') will be ignored during training.\n",
      "  gold = GoldParse(doc, **gold)\n",
      " 22%|█████████████████▍                                                             | 311/1409 [00:24<01:22, 13.31it/s]C:\\Users\\Suzy\\anaconda3\\lib\\site-packages\\spacy\\language.py:482: UserWarning: [W030] Some entities could not be aligned in the text \"ground cinnamon for sprinkling\" with entities \"[(-1, 6, 'PRODUCT')]\". Use `spacy.gold.biluo_tags_from_offsets(nlp.make_doc(text), entities)` to check the alignment. Misaligned entities (with BILUO tag '-') will be ignored during training.\n",
      "  gold = GoldParse(doc, **gold)\n",
      " 22%|█████████████████▌                                                             | 313/1409 [00:25<01:20, 13.56it/s]C:\\Users\\Suzy\\anaconda3\\lib\\site-packages\\spacy\\language.py:482: UserWarning: [W030] Some entities could not be aligned in the text \"pint small cherry tomatoes halved\" with entities \"[(18, 24, 'PRODUCT')]\". Use `spacy.gold.biluo_tags_from_offsets(nlp.make_doc(text), entities)` to check the alignment. Misaligned entities (with BILUO tag '-') will be ignored during training.\n",
      "  gold = GoldParse(doc, **gold)\n"
     ]
    },
    {
     "name": "stderr",
     "output_type": "stream",
     "text": [
      "C:\\Users\\Suzy\\anaconda3\\lib\\site-packages\\spacy\\language.py:482: UserWarning: [W030] Some entities could not be aligned in the text \"dry black garbanzo beans (kala channa)\" with entities \"[(10, 23, 'PRODUCT')]\". Use `spacy.gold.biluo_tags_from_offsets(nlp.make_doc(text), entities)` to check the alignment. Misaligned entities (with BILUO tag '-') will be ignored during training.\n",
      "  gold = GoldParse(doc, **gold)\n",
      " 22%|█████████████████▋                                                             | 315/1409 [00:25<01:24, 12.93it/s]C:\\Users\\Suzy\\anaconda3\\lib\\site-packages\\spacy\\language.py:482: UserWarning: [W030] Some entities could not be aligned in the text \"onions\" with entities \"[(0, 5, 'PRODUCT')]\". Use `spacy.gold.biluo_tags_from_offsets(nlp.make_doc(text), entities)` to check the alignment. Misaligned entities (with BILUO tag '-') will be ignored during training.\n",
      "  gold = GoldParse(doc, **gold)\n",
      " 23%|█████████████████▉                                                             | 321/1409 [00:25<01:18, 13.91it/s]C:\\Users\\Suzy\\anaconda3\\lib\\site-packages\\spacy\\language.py:482: UserWarning: [W030] Some entities could not be aligned in the text \"pitted kalamata olives drained chopped\" with entities \"[(16, 21, 'PRODUCT')]\". Use `spacy.gold.biluo_tags_from_offsets(nlp.make_doc(text), entities)` to check the alignment. Misaligned entities (with BILUO tag '-') will be ignored during training.\n",
      "  gold = GoldParse(doc, **gold)\n",
      " 23%|██████████████████                                                             | 323/1409 [00:25<01:14, 14.66it/s]C:\\Users\\Suzy\\anaconda3\\lib\\site-packages\\spacy\\language.py:482: UserWarning: [W030] Some entities could not be aligned in the text \"medium shallots finely minced divided\" with entities \"[(7, 14, 'PRODUCT')]\". Use `spacy.gold.biluo_tags_from_offsets(nlp.make_doc(text), entities)` to check the alignment. Misaligned entities (with BILUO tag '-') will be ignored during training.\n",
      "  gold = GoldParse(doc, **gold)\n",
      " 23%|██████████████████▏                                                            | 325/1409 [00:25<01:16, 14.19it/s]C:\\Users\\Suzy\\anaconda3\\lib\\site-packages\\spacy\\language.py:482: UserWarning: [W030] Some entities could not be aligned in the text \"dry black beans\" with entities \"[(4, 14, 'PRODUCT')]\". Use `spacy.gold.biluo_tags_from_offsets(nlp.make_doc(text), entities)` to check the alignment. Misaligned entities (with BILUO tag '-') will be ignored during training.\n",
      "  gold = GoldParse(doc, **gold)\n",
      " 23%|██████████████████▌                                                            | 331/1409 [00:26<01:14, 14.48it/s]C:\\Users\\Suzy\\anaconda3\\lib\\site-packages\\spacy\\language.py:482: UserWarning: [W030] Some entities could not be aligned in the text \"mini fresh mozzarella balls\" with entities \"[(-1, 16, 'PRODUCT')]\". Use `spacy.gold.biluo_tags_from_offsets(nlp.make_doc(text), entities)` to check the alignment. Misaligned entities (with BILUO tag '-') will be ignored during training.\n",
      "  gold = GoldParse(doc, **gold)\n",
      " 24%|██████████████████▋                                                            | 333/1409 [00:26<01:10, 15.19it/s]C:\\Users\\Suzy\\anaconda3\\lib\\site-packages\\spacy\\language.py:482: UserWarning: [W030] Some entities could not be aligned in the text \"peeled cubed potatoes\" with entities \"[(13, 19, 'PRODUCT')]\". Use `spacy.gold.biluo_tags_from_offsets(nlp.make_doc(text), entities)` to check the alignment. Misaligned entities (with BILUO tag '-') will be ignored during training.\n",
      "  gold = GoldParse(doc, **gold)\n",
      " 24%|██████████████████▊                                                            | 335/1409 [00:26<01:14, 14.44it/s]C:\\Users\\Suzy\\anaconda3\\lib\\site-packages\\spacy\\language.py:482: UserWarning: [W030] Some entities could not be aligned in the text \"finely chopped yellow onions\" with entities \"[(15, 27, 'PRODUCT')]\". Use `spacy.gold.biluo_tags_from_offsets(nlp.make_doc(text), entities)` to check the alignment. Misaligned entities (with BILUO tag '-') will be ignored during training.\n",
      "  gold = GoldParse(doc, **gold)\n",
      " 24%|██████████████████▉                                                            | 337/1409 [00:26<01:18, 13.70it/s]C:\\Users\\Suzy\\anaconda3\\lib\\site-packages\\spacy\\language.py:482: UserWarning: [W030] Some entities could not be aligned in the text \"seeded and chopped tomatoes\" with entities \"[(19, 25, 'PRODUCT')]\". Use `spacy.gold.biluo_tags_from_offsets(nlp.make_doc(text), entities)` to check the alignment. Misaligned entities (with BILUO tag '-') will be ignored during training.\n",
      "  gold = GoldParse(doc, **gold)\n",
      "C:\\Users\\Suzy\\anaconda3\\lib\\site-packages\\spacy\\language.py:482: UserWarning: [W030] Some entities could not be aligned in the text \"bow tie pasta\" with entities \"[(-1, 7, 'PRODUCT')]\". Use `spacy.gold.biluo_tags_from_offsets(nlp.make_doc(text), entities)` to check the alignment. Misaligned entities (with BILUO tag '-') will be ignored during training.\n",
      "  gold = GoldParse(doc, **gold)\n",
      " 24%|███████████████████                                                            | 341/1409 [00:27<01:15, 14.12it/s]C:\\Users\\Suzy\\anaconda3\\lib\\site-packages\\spacy\\language.py:482: UserWarning: [W030] Some entities could not be aligned in the text \"medium fresh tomatoes\" with entities \"[(13, 19, 'PRODUCT')]\". Use `spacy.gold.biluo_tags_from_offsets(nlp.make_doc(text), entities)` to check the alignment. Misaligned entities (with BILUO tag '-') will be ignored during training.\n",
      "  gold = GoldParse(doc, **gold)\n",
      " 24%|███████████████████▏                                                           | 343/1409 [00:27<01:17, 13.70it/s]C:\\Users\\Suzy\\anaconda3\\lib\\site-packages\\spacy\\language.py:482: UserWarning: [W030] Some entities could not be aligned in the text \"cherry tomatoes (optional)\" with entities \"[(7, 13, 'PRODUCT')]\". Use `spacy.gold.biluo_tags_from_offsets(nlp.make_doc(text), entities)` to check the alignment. Misaligned entities (with BILUO tag '-') will be ignored during training.\n",
      "  gold = GoldParse(doc, **gold)\n",
      " 24%|███████████████████▎                                                           | 345/1409 [00:27<01:16, 13.96it/s]C:\\Users\\Suzy\\anaconda3\\lib\\site-packages\\spacy\\language.py:482: UserWarning: [W030] Some entities could not be aligned in the text \"kraft light mayo reduced fat mayonnaise\" with entities \"[(-1, 8, 'PRODUCT')]\". Use `spacy.gold.biluo_tags_from_offsets(nlp.make_doc(text), entities)` to check the alignment. Misaligned entities (with BILUO tag '-') will be ignored during training.\n",
      "  gold = GoldParse(doc, **gold)\n",
      " 25%|████████████████████                                                           | 357/1409 [00:28<01:05, 16.10it/s]C:\\Users\\Suzy\\anaconda3\\lib\\site-packages\\spacy\\language.py:482: UserWarning: [W030] Some entities could not be aligned in the text \"dried great northern beans\" with entities \"[(12, 25, 'PRODUCT')]\". Use `spacy.gold.biluo_tags_from_offsets(nlp.make_doc(text), entities)` to check the alignment. Misaligned entities (with BILUO tag '-') will be ignored during training.\n",
      "  gold = GoldParse(doc, **gold)\n",
      "C:\\Users\\Suzy\\anaconda3\\lib\\site-packages\\spacy\\language.py:482: UserWarning: [W030] Some entities could not be aligned in the text \"avocados cubed\" with entities \"[(0, 7, 'PRODUCT')]\". Use `spacy.gold.biluo_tags_from_offsets(nlp.make_doc(text), entities)` to check the alignment. Misaligned entities (with BILUO tag '-') will be ignored during training.\n",
      "  gold = GoldParse(doc, **gold)\n",
      " 26%|████████████████████▏                                                          | 361/1409 [00:28<01:10, 14.81it/s]C:\\Users\\Suzy\\anaconda3\\lib\\site-packages\\spacy\\language.py:482: UserWarning: [W030] Some entities could not be aligned in the text \"small white (irish) potatoes\" with entities \"[(20, 26, 'PRODUCT')]\". Use `spacy.gold.biluo_tags_from_offsets(nlp.make_doc(text), entities)` to check the alignment. Misaligned entities (with BILUO tag '-') will be ignored during training.\n",
      "  gold = GoldParse(doc, **gold)\n",
      " 26%|████████████████████▎                                                          | 363/1409 [00:28<01:08, 15.34it/s]C:\\Users\\Suzy\\anaconda3\\lib\\site-packages\\spacy\\language.py:482: UserWarning: [W030] Some entities could not be aligned in the text \"hot dogs (beef and pork frankfurters)\" with entities \"[(0, 7, 'PRODUCT')]\". Use `spacy.gold.biluo_tags_from_offsets(nlp.make_doc(text), entities)` to check the alignment. Misaligned entities (with BILUO tag '-') will be ignored during training.\n",
      "  gold = GoldParse(doc, **gold)\n"
     ]
    },
    {
     "name": "stderr",
     "output_type": "stream",
     "text": [
      " 26%|████████████████████▍                                                          | 365/1409 [00:28<01:11, 14.69it/s]C:\\Users\\Suzy\\anaconda3\\lib\\site-packages\\spacy\\language.py:482: UserWarning: [W030] Some entities could not be aligned in the text \"banana pepper\" with entities \"[(-1, 6, 'PRODUCT')]\". Use `spacy.gold.biluo_tags_from_offsets(nlp.make_doc(text), entities)` to check the alignment. Misaligned entities (with BILUO tag '-') will be ignored during training.\n",
      "  gold = GoldParse(doc, **gold)\n",
      " 26%|████████████████████▌                                                          | 367/1409 [00:28<01:10, 14.68it/s]C:\\Users\\Suzy\\anaconda3\\lib\\site-packages\\spacy\\language.py:482: UserWarning: [W030] Some entities could not be aligned in the text \"grass-fed ground beef patties\" with entities \"[(-1, 8, 'PRODUCT')]\". Use `spacy.gold.biluo_tags_from_offsets(nlp.make_doc(text), entities)` to check the alignment. Misaligned entities (with BILUO tag '-') will be ignored during training.\n",
      "  gold = GoldParse(doc, **gold)\n",
      "C:\\Users\\Suzy\\anaconda3\\lib\\site-packages\\spacy\\language.py:482: UserWarning: [W030] Some entities could not be aligned in the text \"fresh unshelled fava beans\" with entities \"[(16, 25, 'PRODUCT')]\". Use `spacy.gold.biluo_tags_from_offsets(nlp.make_doc(text), entities)` to check the alignment. Misaligned entities (with BILUO tag '-') will be ignored during training.\n",
      "  gold = GoldParse(doc, **gold)\n",
      " 26%|████████████████████▋                                                          | 369/1409 [00:28<01:10, 14.78it/s]C:\\Users\\Suzy\\anaconda3\\lib\\site-packages\\spacy\\language.py:482: UserWarning: [W030] Some entities could not be aligned in the text \"dried minced shallots (optional)\" with entities \"[(13, 20, 'PRODUCT')]\". Use `spacy.gold.biluo_tags_from_offsets(nlp.make_doc(text), entities)` to check the alignment. Misaligned entities (with BILUO tag '-') will be ignored during training.\n",
      "  gold = GoldParse(doc, **gold)\n",
      " 26%|████████████████████▊                                                          | 371/1409 [00:29<01:12, 14.41it/s]C:\\Users\\Suzy\\anaconda3\\lib\\site-packages\\spacy\\language.py:482: UserWarning: [W030] Some entities could not be aligned in the text \"seeded and diced roma (plum) tomatoes\" with entities \"[(29, 35, 'PRODUCT')]\". Use `spacy.gold.biluo_tags_from_offsets(nlp.make_doc(text), entities)` to check the alignment. Misaligned entities (with BILUO tag '-') will be ignored during training.\n",
      "  gold = GoldParse(doc, **gold)\n",
      " 26%|████████████████████▉                                                          | 373/1409 [00:29<01:11, 14.48it/s]C:\\Users\\Suzy\\anaconda3\\lib\\site-packages\\spacy\\language.py:482: UserWarning: [W030] Some entities could not be aligned in the text \"drained canned french style green beans\" with entities \"[(28, 38, 'PRODUCT')]\". Use `spacy.gold.biluo_tags_from_offsets(nlp.make_doc(text), entities)` to check the alignment. Misaligned entities (with BILUO tag '-') will be ignored during training.\n",
      "  gold = GoldParse(doc, **gold)\n",
      " 27%|█████████████████████                                                          | 375/1409 [00:29<01:10, 14.73it/s]C:\\Users\\Suzy\\anaconda3\\lib\\site-packages\\spacy\\language.py:482: UserWarning: [W030] Some entities could not be aligned in the text \"unsalted saltine crackers\" with entities \"[(17, 24, 'PRODUCT')]\". Use `spacy.gold.biluo_tags_from_offsets(nlp.make_doc(text), entities)` to check the alignment. Misaligned entities (with BILUO tag '-') will be ignored during training.\n",
      "  gold = GoldParse(doc, **gold)\n",
      " 27%|█████████████████████▏                                                         | 377/1409 [00:29<01:10, 14.73it/s]C:\\Users\\Suzy\\anaconda3\\lib\\site-packages\\spacy\\language.py:482: UserWarning: [W030] Some entities could not be aligned in the text \"low-sodium chicken base\" with entities \"[(-1, 12, 'PRODUCT')]\". Use `spacy.gold.biluo_tags_from_offsets(nlp.make_doc(text), entities)` to check the alignment. Misaligned entities (with BILUO tag '-') will be ignored during training.\n",
      "  gold = GoldParse(doc, **gold)\n",
      " 27%|█████████████████████▏                                                         | 379/1409 [00:29<01:08, 14.95it/s]C:\\Users\\Suzy\\anaconda3\\lib\\site-packages\\spacy\\language.py:482: UserWarning: [W030] Some entities could not be aligned in the text \"idahoanÃ¢Â® original mashed potatoes dry\" with entities \"[(28, 34, 'PRODUCT')]\". Use `spacy.gold.biluo_tags_from_offsets(nlp.make_doc(text), entities)` to check the alignment. Misaligned entities (with BILUO tag '-') will be ignored during training.\n",
      "  gold = GoldParse(doc, **gold)\n",
      " 27%|█████████████████████▍                                                         | 383/1409 [00:29<01:25, 12.01it/s]C:\\Users\\Suzy\\anaconda3\\lib\\site-packages\\spacy\\language.py:482: UserWarning: [W030] Some entities could not be aligned in the text \"fresh oyster mushrooms cut in half\" with entities \"[(6, 21, 'PRODUCT')]\". Use `spacy.gold.biluo_tags_from_offsets(nlp.make_doc(text), entities)` to check the alignment. Misaligned entities (with BILUO tag '-') will be ignored during training.\n",
      "  gold = GoldParse(doc, **gold)\n",
      " 27%|█████████████████████▌                                                         | 385/1409 [00:30<01:23, 12.20it/s]C:\\Users\\Suzy\\anaconda3\\lib\\site-packages\\spacy\\language.py:482: UserWarning: [W030] Some entities could not be aligned in the text \"hard-boiled (cooked) eggs peeled\" with entities \"[(21, 24, 'PRODUCT')]\". Use `spacy.gold.biluo_tags_from_offsets(nlp.make_doc(text), entities)` to check the alignment. Misaligned entities (with BILUO tag '-') will be ignored during training.\n",
      "  gold = GoldParse(doc, **gold)\n",
      " 27%|█████████████████████▋                                                         | 387/1409 [00:30<01:22, 12.45it/s]C:\\Users\\Suzy\\anaconda3\\lib\\site-packages\\spacy\\language.py:482: UserWarning: [W030] Some entities could not be aligned in the text \"hard-boiled eggs thinly sliced\" with entities \"[(12, 15, 'PRODUCT')]\". Use `spacy.gold.biluo_tags_from_offsets(nlp.make_doc(text), entities)` to check the alignment. Misaligned entities (with BILUO tag '-') will be ignored during training.\n",
      "  gold = GoldParse(doc, **gold)\n",
      " 28%|█████████████████████▉                                                         | 391/1409 [00:30<01:16, 13.39it/s]C:\\Users\\Suzy\\anaconda3\\lib\\site-packages\\spacy\\language.py:482: UserWarning: [W030] Some entities could not be aligned in the text \"tomato-basil pasta sauce\" with entities \"[(-1, 11, 'PRODUCT')]\". Use `spacy.gold.biluo_tags_from_offsets(nlp.make_doc(text), entities)` to check the alignment. Misaligned entities (with BILUO tag '-') will be ignored during training.\n",
      "  gold = GoldParse(doc, **gold)\n",
      " 28%|██████████████████████                                                         | 393/1409 [00:30<01:17, 13.09it/s]C:\\Users\\Suzy\\anaconda3\\lib\\site-packages\\spacy\\language.py:482: UserWarning: [W030] Some entities could not be aligned in the text \"jelly beans in assorted colors\" with entities \"[(0, 10, 'PRODUCT')]\". Use `spacy.gold.biluo_tags_from_offsets(nlp.make_doc(text), entities)` to check the alignment. Misaligned entities (with BILUO tag '-') will be ignored during training.\n",
      "  gold = GoldParse(doc, **gold)\n",
      " 28%|██████████████████████▎                                                        | 397/1409 [00:31<01:16, 13.24it/s]C:\\Users\\Suzy\\anaconda3\\lib\\site-packages\\spacy\\language.py:482: UserWarning: [W030] Some entities could not be aligned in the text \"ripe persimmons peeled and pureed\" with entities \"[(5, 14, 'PRODUCT')]\". Use `spacy.gold.biluo_tags_from_offsets(nlp.make_doc(text), entities)` to check the alignment. Misaligned entities (with BILUO tag '-') will be ignored during training.\n",
      "  gold = GoldParse(doc, **gold)\n",
      " 28%|██████████████████████▎                                                        | 399/1409 [00:31<01:14, 13.62it/s]C:\\Users\\Suzy\\anaconda3\\lib\\site-packages\\spacy\\language.py:482: UserWarning: [W030] Some entities could not be aligned in the text \"chopped peanuts\" with entities \"[(8, 14, 'PRODUCT')]\". Use `spacy.gold.biluo_tags_from_offsets(nlp.make_doc(text), entities)` to check the alignment. Misaligned entities (with BILUO tag '-') will be ignored during training.\n",
      "  gold = GoldParse(doc, **gold)\n"
     ]
    },
    {
     "name": "stderr",
     "output_type": "stream",
     "text": [
      " 28%|██████████████████████▍                                                        | 401/1409 [00:31<01:12, 13.90it/s]C:\\Users\\Suzy\\anaconda3\\lib\\site-packages\\spacy\\language.py:482: UserWarning: [W030] Some entities could not be aligned in the text \"grated parmesan-romano cheese blend\" with entities \"[(-1, 14, 'PRODUCT')]\". Use `spacy.gold.biluo_tags_from_offsets(nlp.make_doc(text), entities)` to check the alignment. Misaligned entities (with BILUO tag '-') will be ignored during training.\n",
      "  gold = GoldParse(doc, **gold)\n",
      " 29%|██████████████████████▌                                                        | 403/1409 [00:31<01:10, 14.34it/s]C:\\Users\\Suzy\\anaconda3\\lib\\site-packages\\spacy\\language.py:482: UserWarning: [W030] Some entities could not be aligned in the text \"thinly-sliced beef top round steak\" with entities \"[(-1, 9, 'PRODUCT')]\". Use `spacy.gold.biluo_tags_from_offsets(nlp.make_doc(text), entities)` to check the alignment. Misaligned entities (with BILUO tag '-') will be ignored during training.\n",
      "  gold = GoldParse(doc, **gold)\n",
      " 29%|██████████████████████▋                                                        | 405/1409 [00:31<01:10, 14.20it/s]C:\\Users\\Suzy\\anaconda3\\lib\\site-packages\\spacy\\language.py:482: UserWarning: [W030] Some entities could not be aligned in the text \"dried chipotle chile pepper (optional)\" with entities \"[(-1, 9, 'PRODUCT')]\". Use `spacy.gold.biluo_tags_from_offsets(nlp.make_doc(text), entities)` to check the alignment. Misaligned entities (with BILUO tag '-') will be ignored during training.\n",
      "  gold = GoldParse(doc, **gold)\n",
      " 29%|██████████████████████▊                                                        | 407/1409 [00:31<01:07, 14.83it/s]C:\\Users\\Suzy\\anaconda3\\lib\\site-packages\\spacy\\language.py:482: UserWarning: [W030] Some entities could not be aligned in the text \"fresh chile pepper\" with entities \"[(-1, 12, 'PRODUCT')]\". Use `spacy.gold.biluo_tags_from_offsets(nlp.make_doc(text), entities)` to check the alignment. Misaligned entities (with BILUO tag '-') will be ignored during training.\n",
      "  gold = GoldParse(doc, **gold)\n",
      " 29%|███████████████████████▏                                                       | 413/1409 [00:32<01:10, 14.09it/s]C:\\Users\\Suzy\\anaconda3\\lib\\site-packages\\spacy\\language.py:482: UserWarning: [W030] Some entities could not be aligned in the text \"frozen chicken nuggets\" with entities \"[(-1, 13, 'PRODUCT')]\". Use `spacy.gold.biluo_tags_from_offsets(nlp.make_doc(text), entities)` to check the alignment. Misaligned entities (with BILUO tag '-') will be ignored during training.\n",
      "  gold = GoldParse(doc, **gold)\n",
      " 29%|███████████████████████▎                                                       | 415/1409 [00:32<01:09, 14.23it/s]C:\\Users\\Suzy\\anaconda3\\lib\\site-packages\\spacy\\language.py:482: UserWarning: [W030] Some entities could not be aligned in the text \"pimento-stuffed green olives sliced\" with entities \"[(22, 27, 'PRODUCT')]\". Use `spacy.gold.biluo_tags_from_offsets(nlp.make_doc(text), entities)` to check the alignment. Misaligned entities (with BILUO tag '-') will be ignored during training.\n",
      "  gold = GoldParse(doc, **gold)\n",
      " 30%|███████████████████████▍                                                       | 417/1409 [00:32<01:12, 13.77it/s]C:\\Users\\Suzy\\anaconda3\\lib\\site-packages\\spacy\\language.py:482: UserWarning: [W030] Some entities could not be aligned in the text \"dried red chili pepper\" with entities \"[(-1, 12, 'PRODUCT')]\". Use `spacy.gold.biluo_tags_from_offsets(nlp.make_doc(text), entities)` to check the alignment. Misaligned entities (with BILUO tag '-') will be ignored during training.\n",
      "  gold = GoldParse(doc, **gold)\n",
      "C:\\Users\\Suzy\\anaconda3\\lib\\site-packages\\spacy\\language.py:482: UserWarning: [W030] Some entities could not be aligned in the text \"diced stewed tomatoes\" with entities \"[(13, 19, 'PRODUCT')]\". Use `spacy.gold.biluo_tags_from_offsets(nlp.make_doc(text), entities)` to check the alignment. Misaligned entities (with BILUO tag '-') will be ignored during training.\n",
      "  gold = GoldParse(doc, **gold)\n",
      " 30%|███████████████████████▍                                                       | 419/1409 [00:32<01:16, 13.02it/s]C:\\Users\\Suzy\\anaconda3\\lib\\site-packages\\spacy\\language.py:482: UserWarning: [W030] Some entities could not be aligned in the text \"apples cored and cut into 8 wedges\" with entities \"[(0, 5, 'PRODUCT')]\". Use `spacy.gold.biluo_tags_from_offsets(nlp.make_doc(text), entities)` to check the alignment. Misaligned entities (with BILUO tag '-') will be ignored during training.\n",
      "  gold = GoldParse(doc, **gold)\n",
      "C:\\Users\\Suzy\\anaconda3\\lib\\site-packages\\spacy\\language.py:482: UserWarning: [W030] Some entities could not be aligned in the text \"pitted prunes halved\" with entities \"[(7, 12, 'PRODUCT')]\". Use `spacy.gold.biluo_tags_from_offsets(nlp.make_doc(text), entities)` to check the alignment. Misaligned entities (with BILUO tag '-') will be ignored during training.\n",
      "  gold = GoldParse(doc, **gold)\n",
      " 30%|███████████████████████▋                                                       | 423/1409 [00:32<01:20, 12.24it/s]C:\\Users\\Suzy\\anaconda3\\lib\\site-packages\\spacy\\language.py:482: UserWarning: [W030] Some entities could not be aligned in the text \"green olives with pimento\" with entities \"[(0, 11, 'PRODUCT')]\". Use `spacy.gold.biluo_tags_from_offsets(nlp.make_doc(text), entities)` to check the alignment. Misaligned entities (with BILUO tag '-') will be ignored during training.\n",
      "  gold = GoldParse(doc, **gold)\n",
      " 30%|███████████████████████▊                                                       | 425/1409 [00:33<01:16, 12.87it/s]C:\\Users\\Suzy\\anaconda3\\lib\\site-packages\\spacy\\language.py:482: UserWarning: [W030] Some entities could not be aligned in the text \"condensed beef consomme\" with entities \"[(-1, 9, 'PRODUCT')]\". Use `spacy.gold.biluo_tags_from_offsets(nlp.make_doc(text), entities)` to check the alignment. Misaligned entities (with BILUO tag '-') will be ignored during training.\n",
      "  gold = GoldParse(doc, **gold)\n",
      " 30%|████████████████████████                                                       | 429/1409 [00:33<01:14, 13.15it/s]C:\\Users\\Suzy\\anaconda3\\lib\\site-packages\\spacy\\language.py:482: UserWarning: [W030] Some entities could not be aligned in the text \"dry green lentils\" with entities \"[(4, 16, 'PRODUCT')]\". Use `spacy.gold.biluo_tags_from_offsets(nlp.make_doc(text), entities)` to check the alignment. Misaligned entities (with BILUO tag '-') will be ignored during training.\n",
      "  gold = GoldParse(doc, **gold)\n",
      " 31%|████████████████████████▏                                                      | 431/1409 [00:33<01:12, 13.56it/s]C:\\Users\\Suzy\\anaconda3\\lib\\site-packages\\spacy\\language.py:482: UserWarning: [W030] Some entities could not be aligned in the text \"morel mushrooms\" with entities \"[(0, 14, 'PRODUCT')]\". Use `spacy.gold.biluo_tags_from_offsets(nlp.make_doc(text), entities)` to check the alignment. Misaligned entities (with BILUO tag '-') will be ignored during training.\n",
      "  gold = GoldParse(doc, **gold)\n",
      " 31%|████████████████████████▍                                                      | 435/1409 [00:33<01:07, 14.38it/s]C:\\Users\\Suzy\\anaconda3\\lib\\site-packages\\spacy\\language.py:482: UserWarning: [W030] Some entities could not be aligned in the text \"large fresh jalapeno pepper\" with entities \"[(-1, 15, 'PRODUCT')]\". Use `spacy.gold.biluo_tags_from_offsets(nlp.make_doc(text), entities)` to check the alignment. Misaligned entities (with BILUO tag '-') will be ignored during training.\n",
      "  gold = GoldParse(doc, **gold)\n",
      " 31%|████████████████████████▌                                                      | 437/1409 [00:33<01:06, 14.67it/s]C:\\Users\\Suzy\\anaconda3\\lib\\site-packages\\spacy\\language.py:482: UserWarning: [W030] Some entities could not be aligned in the text \"macintosh apples cored and chopped\" with entities \"[(10, 15, 'PRODUCT')]\". Use `spacy.gold.biluo_tags_from_offsets(nlp.make_doc(text), entities)` to check the alignment. Misaligned entities (with BILUO tag '-') will be ignored during training.\n",
      "  gold = GoldParse(doc, **gold)\n",
      "C:\\Users\\Suzy\\anaconda3\\lib\\site-packages\\spacy\\language.py:482: UserWarning: [W030] Some entities could not be aligned in the text \"chopped stewed tomatoes drained\" with entities \"[(15, 21, 'PRODUCT')]\". Use `spacy.gold.biluo_tags_from_offsets(nlp.make_doc(text), entities)` to check the alignment. Misaligned entities (with BILUO tag '-') will be ignored during training.\n",
      "  gold = GoldParse(doc, **gold)\n"
     ]
    },
    {
     "name": "stderr",
     "output_type": "stream",
     "text": [
      " 31%|████████████████████████▌                                                      | 439/1409 [00:34<01:06, 14.57it/s]C:\\Users\\Suzy\\anaconda3\\lib\\site-packages\\spacy\\language.py:482: UserWarning: [W030] Some entities could not be aligned in the text \"contadinaÃ¢Â® crushed tomatoes\" with entities \"[(22, 28, 'PRODUCT')]\". Use `spacy.gold.biluo_tags_from_offsets(nlp.make_doc(text), entities)` to check the alignment. Misaligned entities (with BILUO tag '-') will be ignored during training.\n",
      "  gold = GoldParse(doc, **gold)\n",
      " 31%|████████████████████████▊                                                      | 443/1409 [00:34<01:05, 14.84it/s]C:\\Users\\Suzy\\anaconda3\\lib\\site-packages\\spacy\\language.py:482: UserWarning: [W030] Some entities could not be aligned in the text \"chocolate-covered peppermint patties\" with entities \"[(-1, 15, 'PRODUCT')]\". Use `spacy.gold.biluo_tags_from_offsets(nlp.make_doc(text), entities)` to check the alignment. Misaligned entities (with BILUO tag '-') will be ignored during training.\n",
      "  gold = GoldParse(doc, **gold)\n",
      " 32%|█████████████████████████                                                      | 447/1409 [00:34<01:06, 14.46it/s]C:\\Users\\Suzy\\anaconda3\\lib\\site-packages\\spacy\\language.py:482: UserWarning: [W030] Some entities could not be aligned in the text \"small yellow summer squash\" with entities \"[(-1, 12, 'PRODUCT')]\". Use `spacy.gold.biluo_tags_from_offsets(nlp.make_doc(text), entities)` to check the alignment. Misaligned entities (with BILUO tag '-') will be ignored during training.\n",
      "  gold = GoldParse(doc, **gold)\n",
      " 32%|█████████████████████████▏                                                     | 449/1409 [00:34<01:08, 14.09it/s]C:\\Users\\Suzy\\anaconda3\\lib\\site-packages\\spacy\\language.py:482: UserWarning: [W030] Some entities could not be aligned in the text \"large new potatoes\" with entities \"[(10, 16, 'PRODUCT')]\". Use `spacy.gold.biluo_tags_from_offsets(nlp.make_doc(text), entities)` to check the alignment. Misaligned entities (with BILUO tag '-') will be ignored during training.\n",
      "  gold = GoldParse(doc, **gold)\n",
      " 32%|█████████████████████████▌                                                     | 457/1409 [00:35<01:12, 13.06it/s]C:\\Users\\Suzy\\anaconda3\\lib\\site-packages\\spacy\\language.py:482: UserWarning: [W030] Some entities could not be aligned in the text \"canned pinto beans drained\" with entities \"[(7, 17, 'PRODUCT')]\". Use `spacy.gold.biluo_tags_from_offsets(nlp.make_doc(text), entities)` to check the alignment. Misaligned entities (with BILUO tag '-') will be ignored during training.\n",
      "  gold = GoldParse(doc, **gold)\n",
      " 33%|██████████████████████████▍                                                    | 471/1409 [00:36<01:01, 15.33it/s]C:\\Users\\Suzy\\anaconda3\\lib\\site-packages\\spacy\\language.py:482: UserWarning: [W030] Some entities could not be aligned in the text \"multigrain saltine crackers\" with entities \"[(19, 26, 'PRODUCT')]\". Use `spacy.gold.biluo_tags_from_offsets(nlp.make_doc(text), entities)` to check the alignment. Misaligned entities (with BILUO tag '-') will be ignored during training.\n",
      "  gold = GoldParse(doc, **gold)\n",
      " 34%|██████████████████████████▌                                                    | 473/1409 [00:36<01:01, 15.12it/s]C:\\Users\\Suzy\\anaconda3\\lib\\site-packages\\spacy\\language.py:482: UserWarning: [W030] Some entities could not be aligned in the text \"chopped dry-roasted salted peanuts\" with entities \"[(27, 33, 'PRODUCT')]\". Use `spacy.gold.biluo_tags_from_offsets(nlp.make_doc(text), entities)` to check the alignment. Misaligned entities (with BILUO tag '-') will be ignored during training.\n",
      "  gold = GoldParse(doc, **gold)\n",
      " 34%|██████████████████████████▋                                                    | 475/1409 [00:36<01:04, 14.50it/s]C:\\Users\\Suzy\\anaconda3\\lib\\site-packages\\spacy\\language.py:482: UserWarning: [W030] Some entities could not be aligned in the text \"beef hot dogs\" with entities \"[(-1, 10, 'PRODUCT')]\". Use `spacy.gold.biluo_tags_from_offsets(nlp.make_doc(text), entities)` to check the alignment. Misaligned entities (with BILUO tag '-') will be ignored during training.\n",
      "  gold = GoldParse(doc, **gold)\n",
      " 34%|██████████████████████████▋                                                    | 477/1409 [00:36<01:05, 14.29it/s]C:\\Users\\Suzy\\anaconda3\\lib\\site-packages\\spacy\\language.py:482: UserWarning: [W030] Some entities could not be aligned in the text \"thin green beans trimmed\" with entities \"[(5, 15, 'PRODUCT')]\". Use `spacy.gold.biluo_tags_from_offsets(nlp.make_doc(text), entities)` to check the alignment. Misaligned entities (with BILUO tag '-') will be ignored during training.\n",
      "  gold = GoldParse(doc, **gold)\n",
      "C:\\Users\\Suzy\\anaconda3\\lib\\site-packages\\spacy\\language.py:482: UserWarning: [W030] Some entities could not be aligned in the text \"large eggs beaten with\" with entities \"[(6, 9, 'PRODUCT')]\". Use `spacy.gold.biluo_tags_from_offsets(nlp.make_doc(text), entities)` to check the alignment. Misaligned entities (with BILUO tag '-') will be ignored during training.\n",
      "  gold = GoldParse(doc, **gold)\n",
      " 34%|███████████████████████████                                                    | 483/1409 [00:37<01:09, 13.28it/s]C:\\Users\\Suzy\\anaconda3\\lib\\site-packages\\spacy\\language.py:482: UserWarning: [W030] Some entities could not be aligned in the text \"large apples diced into 1/2-inch cubes\" with entities \"[(6, 11, 'PRODUCT')]\". Use `spacy.gold.biluo_tags_from_offsets(nlp.make_doc(text), entities)` to check the alignment. Misaligned entities (with BILUO tag '-') will be ignored during training.\n",
      "  gold = GoldParse(doc, **gold)\n",
      " 35%|███████████████████████████▎                                                   | 487/1409 [00:37<01:06, 13.77it/s]C:\\Users\\Suzy\\anaconda3\\lib\\site-packages\\spacy\\language.py:482: UserWarning: [W030] Some entities could not be aligned in the text \"chopped mushrooms drained\" with entities \"[(8, 16, 'PRODUCT')]\". Use `spacy.gold.biluo_tags_from_offsets(nlp.make_doc(text), entities)` to check the alignment. Misaligned entities (with BILUO tag '-') will be ignored during training.\n",
      "  gold = GoldParse(doc, **gold)\n",
      "C:\\Users\\Suzy\\anaconda3\\lib\\site-packages\\spacy\\language.py:482: UserWarning: [W030] Some entities could not be aligned in the text \"cracked peppercorns\" with entities \"[(8, 14, 'PRODUCT')]\". Use `spacy.gold.biluo_tags_from_offsets(nlp.make_doc(text), entities)` to check the alignment. Misaligned entities (with BILUO tag '-') will be ignored during training.\n",
      "  gold = GoldParse(doc, **gold)\n",
      " 35%|███████████████████████████▍                                                   | 489/1409 [00:37<01:02, 14.62it/s]C:\\Users\\Suzy\\anaconda3\\lib\\site-packages\\spacy\\language.py:482: UserWarning: [W030] Some entities could not be aligned in the text \"coarsely chopped dry roasted peanuts\" with entities \"[(29, 35, 'PRODUCT')]\". Use `spacy.gold.biluo_tags_from_offsets(nlp.make_doc(text), entities)` to check the alignment. Misaligned entities (with BILUO tag '-') will be ignored during training.\n",
      "  gold = GoldParse(doc, **gold)\n",
      " 35%|███████████████████████████▌                                                   | 491/1409 [00:37<01:04, 14.28it/s]C:\\Users\\Suzy\\anaconda3\\lib\\site-packages\\spacy\\language.py:482: UserWarning: [W030] Some entities could not be aligned in the text \"small fresh button mushrooms\" with entities \"[(12, 27, 'PRODUCT')]\". Use `spacy.gold.biluo_tags_from_offsets(nlp.make_doc(text), entities)` to check the alignment. Misaligned entities (with BILUO tag '-') will be ignored during training.\n",
      "  gold = GoldParse(doc, **gold)\n",
      " 35%|███████████████████████████▊                                                   | 495/1409 [00:38<01:12, 12.55it/s]C:\\Users\\Suzy\\anaconda3\\lib\\site-packages\\spacy\\language.py:482: UserWarning: [W030] Some entities could not be aligned in the text \"hunt'sÃ¢Â® diced tomatoes\" with entities \"[(17, 23, 'PRODUCT')]\". Use `spacy.gold.biluo_tags_from_offsets(nlp.make_doc(text), entities)` to check the alignment. Misaligned entities (with BILUO tag '-') will be ignored during training.\n",
      "  gold = GoldParse(doc, **gold)\n",
      "C:\\Users\\Suzy\\anaconda3\\lib\\site-packages\\spacy\\language.py:482: UserWarning: [W030] Some entities could not be aligned in the text \"bunches radishes trimmed\" with entities \"[(8, 14, 'PRODUCT')]\". Use `spacy.gold.biluo_tags_from_offsets(nlp.make_doc(text), entities)` to check the alignment. Misaligned entities (with BILUO tag '-') will be ignored during training.\n",
      "  gold = GoldParse(doc, **gold)\n"
     ]
    },
    {
     "name": "stderr",
     "output_type": "stream",
     "text": [
      " 36%|████████████████████████████▍                                                  | 507/1409 [00:39<01:23, 10.74it/s]C:\\Users\\Suzy\\anaconda3\\lib\\site-packages\\spacy\\language.py:482: UserWarning: [W030] Some entities could not be aligned in the text \"cooked pork cutlets\" with entities \"[(-1, 8, 'PRODUCT')]\". Use `spacy.gold.biluo_tags_from_offsets(nlp.make_doc(text), entities)` to check the alignment. Misaligned entities (with BILUO tag '-') will be ignored during training.\n",
      "  gold = GoldParse(doc, **gold)\n",
      "C:\\Users\\Suzy\\anaconda3\\lib\\site-packages\\spacy\\language.py:482: UserWarning: [W030] Some entities could not be aligned in the text \"kellogg'sÃ¢Â® rice krispiesÃ¢Â® cereal\" with entities \"[(-1, 10, 'PRODUCT')]\". Use `spacy.gold.biluo_tags_from_offsets(nlp.make_doc(text), entities)` to check the alignment. Misaligned entities (with BILUO tag '-') will be ignored during training.\n",
      "  gold = GoldParse(doc, **gold)\n",
      " 36%|████████████████████████████▌                                                  | 509/1409 [00:39<01:22, 10.92it/s]C:\\Users\\Suzy\\anaconda3\\lib\\site-packages\\spacy\\language.py:482: UserWarning: [W030] Some entities could not be aligned in the text \"fat-free graham crackers\" with entities \"[(9, 23, 'PRODUCT')]\". Use `spacy.gold.biluo_tags_from_offsets(nlp.make_doc(text), entities)` to check the alignment. Misaligned entities (with BILUO tag '-') will be ignored during training.\n",
      "  gold = GoldParse(doc, **gold)\n",
      " 37%|████████████████████████████▉                                                  | 515/1409 [00:39<01:14, 12.05it/s]C:\\Users\\Suzy\\anaconda3\\lib\\site-packages\\spacy\\language.py:482: UserWarning: [W030] Some entities could not be aligned in the text \"large ripe tomatoes thinly sliced\" with entities \"[(11, 17, 'PRODUCT')]\". Use `spacy.gold.biluo_tags_from_offsets(nlp.make_doc(text), entities)` to check the alignment. Misaligned entities (with BILUO tag '-') will be ignored during training.\n",
      "  gold = GoldParse(doc, **gold)\n",
      " 37%|████████████████████████████▉                                                  | 517/1409 [00:40<01:11, 12.47it/s]C:\\Users\\Suzy\\anaconda3\\lib\\site-packages\\spacy\\language.py:482: UserWarning: [W030] Some entities could not be aligned in the text \"red delicious apples cored\" with entities \"[(14, 19, 'PRODUCT')]\". Use `spacy.gold.biluo_tags_from_offsets(nlp.make_doc(text), entities)` to check the alignment. Misaligned entities (with BILUO tag '-') will be ignored during training.\n",
      "  gold = GoldParse(doc, **gold)\n",
      " 37%|█████████████████████████████▎                                                 | 523/1409 [00:40<01:04, 13.75it/s]C:\\Users\\Suzy\\anaconda3\\lib\\site-packages\\spacy\\language.py:482: UserWarning: [W030] Some entities could not be aligned in the text \"onion and garlic spaghetti sauce\" with entities \"[(-1, 11, 'PRODUCT')]\". Use `spacy.gold.biluo_tags_from_offsets(nlp.make_doc(text), entities)` to check the alignment. Misaligned entities (with BILUO tag '-') will be ignored during training.\n",
      "  gold = GoldParse(doc, **gold)\n",
      " 37%|█████████████████████████████▌                                                 | 527/1409 [00:40<01:01, 14.30it/s]C:\\Users\\Suzy\\anaconda3\\lib\\site-packages\\spacy\\language.py:482: UserWarning: [W030] Some entities could not be aligned in the text \"fully cooked luncheon meat (e.g. spam)\" with entities \"[(-1, 2, 'PRODUCT')]\". Use `spacy.gold.biluo_tags_from_offsets(nlp.make_doc(text), entities)` to check the alignment. Misaligned entities (with BILUO tag '-') will be ignored during training.\n",
      "  gold = GoldParse(doc, **gold)\n",
      " 38%|█████████████████████████████▋                                                 | 529/1409 [00:40<01:02, 14.09it/s]C:\\Users\\Suzy\\anaconda3\\lib\\site-packages\\spacy\\language.py:482: UserWarning: [W030] Some entities could not be aligned in the text \"peeled chopped sweet potatoes\" with entities \"[(15, 27, 'PRODUCT')]\". Use `spacy.gold.biluo_tags_from_offsets(nlp.make_doc(text), entities)` to check the alignment. Misaligned entities (with BILUO tag '-') will be ignored during training.\n",
      "  gold = GoldParse(doc, **gold)\n",
      " 38%|█████████████████████████████▊                                                 | 531/1409 [00:41<01:01, 14.37it/s]C:\\Users\\Suzy\\anaconda3\\lib\\site-packages\\spacy\\language.py:482: UserWarning: [W030] Some entities could not be aligned in the text \"chicken sausages\" with entities \"[(0, 15, 'PRODUCT')]\". Use `spacy.gold.biluo_tags_from_offsets(nlp.make_doc(text), entities)` to check the alignment. Misaligned entities (with BILUO tag '-') will be ignored during training.\n",
      "  gold = GoldParse(doc, **gold)\n",
      "C:\\Users\\Suzy\\anaconda3\\lib\\site-packages\\spacy\\language.py:482: UserWarning: [W030] Some entities could not be aligned in the text \"matzo crackers\" with entities \"[(6, 13, 'PRODUCT')]\". Use `spacy.gold.biluo_tags_from_offsets(nlp.make_doc(text), entities)` to check the alignment. Misaligned entities (with BILUO tag '-') will be ignored during training.\n",
      "  gold = GoldParse(doc, **gold)\n",
      " 38%|█████████████████████████████▉                                                 | 535/1409 [00:41<00:58, 15.02it/s]C:\\Users\\Suzy\\anaconda3\\lib\\site-packages\\spacy\\language.py:482: UserWarning: [W030] Some entities could not be aligned in the text \"cooked chickpeas (garbanzo beans)\" with entities \"[(18, 31, 'PRODUCT')]\". Use `spacy.gold.biluo_tags_from_offsets(nlp.make_doc(text), entities)` to check the alignment. Misaligned entities (with BILUO tag '-') will be ignored during training.\n",
      "  gold = GoldParse(doc, **gold)\n",
      "C:\\Users\\Suzy\\anaconda3\\lib\\site-packages\\spacy\\language.py:482: UserWarning: [W030] Some entities could not be aligned in the text \"jerusalem artichokes roughly chopped\" with entities \"[(10, 19, 'PRODUCT')]\". Use `spacy.gold.biluo_tags_from_offsets(nlp.make_doc(text), entities)` to check the alignment. Misaligned entities (with BILUO tag '-') will be ignored during training.\n",
      "  gold = GoldParse(doc, **gold)\n",
      " 38%|██████████████████████████████▎                                                | 541/1409 [00:41<00:54, 15.88it/s]C:\\Users\\Suzy\\anaconda3\\lib\\site-packages\\spacy\\language.py:482: UserWarning: [W030] Some entities could not be aligned in the text \"quart shucked clams with liquid\" with entities \"[(14, 18, 'PRODUCT')]\". Use `spacy.gold.biluo_tags_from_offsets(nlp.make_doc(text), entities)` to check the alignment. Misaligned entities (with BILUO tag '-') will be ignored during training.\n",
      "  gold = GoldParse(doc, **gold)\n",
      " 39%|██████████████████████████████▌                                                | 545/1409 [00:42<01:09, 12.39it/s]C:\\Users\\Suzy\\anaconda3\\lib\\site-packages\\spacy\\language.py:482: UserWarning: [W030] Some entities could not be aligned in the text \"small shell pasta\" with entities \"[(-1, 5, 'PRODUCT')]\". Use `spacy.gold.biluo_tags_from_offsets(nlp.make_doc(text), entities)` to check the alignment. Misaligned entities (with BILUO tag '-') will be ignored during training.\n",
      "  gold = GoldParse(doc, **gold)\n",
      " 39%|██████████████████████████████▋                                                | 547/1409 [00:42<01:05, 13.11it/s]C:\\Users\\Suzy\\anaconda3\\lib\\site-packages\\spacy\\language.py:482: UserWarning: [W030] Some entities could not be aligned in the text \"green onions (white parts only)\" with entities \"[(0, 11, 'PRODUCT')]\". Use `spacy.gold.biluo_tags_from_offsets(nlp.make_doc(text), entities)` to check the alignment. Misaligned entities (with BILUO tag '-') will be ignored during training.\n",
      "  gold = GoldParse(doc, **gold)\n",
      " 39%|███████████████████████████████                                                | 553/1409 [00:42<01:04, 13.37it/s]C:\\Users\\Suzy\\anaconda3\\lib\\site-packages\\spacy\\language.py:482: UserWarning: [W030] Some entities could not be aligned in the text \"green beans with liquid\" with entities \"[(0, 10, 'PRODUCT')]\". Use `spacy.gold.biluo_tags_from_offsets(nlp.make_doc(text), entities)` to check the alignment. Misaligned entities (with BILUO tag '-') will be ignored during training.\n",
      "  gold = GoldParse(doc, **gold)\n",
      " 39%|███████████████████████████████                                                | 555/1409 [00:42<01:06, 12.78it/s]C:\\Users\\Suzy\\anaconda3\\lib\\site-packages\\spacy\\language.py:482: UserWarning: [W030] Some entities could not be aligned in the text \"canned pinto beans\" with entities \"[(7, 17, 'PRODUCT')]\". Use `spacy.gold.biluo_tags_from_offsets(nlp.make_doc(text), entities)` to check the alignment. Misaligned entities (with BILUO tag '-') will be ignored during training.\n",
      "  gold = GoldParse(doc, **gold)\n"
     ]
    },
    {
     "name": "stderr",
     "output_type": "stream",
     "text": [
      " 40%|███████████████████████████████▏                                               | 557/1409 [00:42<01:02, 13.55it/s]C:\\Users\\Suzy\\anaconda3\\lib\\site-packages\\spacy\\language.py:482: UserWarning: [W030] Some entities could not be aligned in the text \"smoked pork chops\" with entities \"[(7, 16, 'PRODUCT')]\". Use `spacy.gold.biluo_tags_from_offsets(nlp.make_doc(text), entities)` to check the alignment. Misaligned entities (with BILUO tag '-') will be ignored during training.\n",
      "  gold = GoldParse(doc, **gold)\n",
      "C:\\Users\\Suzy\\anaconda3\\lib\\site-packages\\spacy\\language.py:482: UserWarning: [W030] Some entities could not be aligned in the text \"eggs beaten\" with entities \"[(0, 3, 'PRODUCT')]\". Use `spacy.gold.biluo_tags_from_offsets(nlp.make_doc(text), entities)` to check the alignment. Misaligned entities (with BILUO tag '-') will be ignored during training.\n",
      "  gold = GoldParse(doc, **gold)\n",
      " 40%|███████████████████████████████▎                                               | 559/1409 [00:43<01:03, 13.30it/s]C:\\Users\\Suzy\\anaconda3\\lib\\site-packages\\spacy\\language.py:482: UserWarning: [W030] Some entities could not be aligned in the text \"fava beans rinsed and drained\" with entities \"[(0, 9, 'PRODUCT')]\". Use `spacy.gold.biluo_tags_from_offsets(nlp.make_doc(text), entities)` to check the alignment. Misaligned entities (with BILUO tag '-') will be ignored during training.\n",
      "  gold = GoldParse(doc, **gold)\n",
      "C:\\Users\\Suzy\\anaconda3\\lib\\site-packages\\spacy\\language.py:482: UserWarning: [W030] Some entities could not be aligned in the text \"small apples cored and halved\" with entities \"[(6, 11, 'PRODUCT')]\". Use `spacy.gold.biluo_tags_from_offsets(nlp.make_doc(text), entities)` to check the alignment. Misaligned entities (with BILUO tag '-') will be ignored during training.\n",
      "  gold = GoldParse(doc, **gold)\n",
      " 40%|███████████████████████████████▍                                               | 561/1409 [00:43<01:02, 13.47it/s]C:\\Users\\Suzy\\anaconda3\\lib\\site-packages\\spacy\\language.py:482: UserWarning: [W030] Some entities could not be aligned in the text \"quarts chicken stock\" with entities \"[(-1, 12, 'PRODUCT')]\". Use `spacy.gold.biluo_tags_from_offsets(nlp.make_doc(text), entities)` to check the alignment. Misaligned entities (with BILUO tag '-') will be ignored during training.\n",
      "  gold = GoldParse(doc, **gold)\n",
      "C:\\Users\\Suzy\\anaconda3\\lib\\site-packages\\spacy\\language.py:482: UserWarning: [W030] Some entities could not be aligned in the text \"rice chexÃ¢Â® cereal\" with entities \"[(-1, 10, 'PRODUCT')]\". Use `spacy.gold.biluo_tags_from_offsets(nlp.make_doc(text), entities)` to check the alignment. Misaligned entities (with BILUO tag '-') will be ignored during training.\n",
      "  gold = GoldParse(doc, **gold)\n",
      " 40%|███████████████████████████████▌                                               | 563/1409 [00:43<01:06, 12.75it/s]C:\\Users\\Suzy\\anaconda3\\lib\\site-packages\\spacy\\language.py:482: UserWarning: [W030] Some entities could not be aligned in the text \"vine-ripe tomatoes diced\" with entities \"[(10, 16, 'PRODUCT')]\". Use `spacy.gold.biluo_tags_from_offsets(nlp.make_doc(text), entities)` to check the alignment. Misaligned entities (with BILUO tag '-') will be ignored during training.\n",
      "  gold = GoldParse(doc, **gold)\n",
      " 40%|███████████████████████████████▋                                               | 565/1409 [00:43<01:03, 13.24it/s]C:\\Users\\Suzy\\anaconda3\\lib\\site-packages\\spacy\\language.py:482: UserWarning: [W030] Some entities could not be aligned in the text \"green bell pepper strips\" with entities \"[(-1, 6, 'PRODUCT')]\". Use `spacy.gold.biluo_tags_from_offsets(nlp.make_doc(text), entities)` to check the alignment. Misaligned entities (with BILUO tag '-') will be ignored during training.\n",
      "  gold = GoldParse(doc, **gold)\n",
      " 40%|███████████████████████████████▊                                               | 567/1409 [00:43<01:01, 13.71it/s]C:\\Users\\Suzy\\anaconda3\\lib\\site-packages\\spacy\\language.py:482: UserWarning: [W030] Some entities could not be aligned in the text \"thin cut pork chops\" with entities \"[(9, 18, 'PRODUCT')]\". Use `spacy.gold.biluo_tags_from_offsets(nlp.make_doc(text), entities)` to check the alignment. Misaligned entities (with BILUO tag '-') will be ignored during training.\n",
      "  gold = GoldParse(doc, **gold)\n",
      " 40%|███████████████████████████████▉                                               | 569/1409 [00:43<01:00, 13.89it/s]C:\\Users\\Suzy\\anaconda3\\lib\\site-packages\\spacy\\language.py:482: UserWarning: [W030] Some entities could not be aligned in the text \"grape tomatoes quartered\" with entities \"[(6, 12, 'PRODUCT')]\". Use `spacy.gold.biluo_tags_from_offsets(nlp.make_doc(text), entities)` to check the alignment. Misaligned entities (with BILUO tag '-') will be ignored during training.\n",
      "  gold = GoldParse(doc, **gold)\n",
      " 41%|████████████████████████████████                                               | 571/1409 [00:43<00:58, 14.31it/s]C:\\Users\\Suzy\\anaconda3\\lib\\site-packages\\spacy\\language.py:482: UserWarning: [W030] Some entities could not be aligned in the text \"smoky bbq sauce\" with entities \"[(-1, 13, 'PRODUCT')]\". Use `spacy.gold.biluo_tags_from_offsets(nlp.make_doc(text), entities)` to check the alignment. Misaligned entities (with BILUO tag '-') will be ignored during training.\n",
      "  gold = GoldParse(doc, **gold)\n",
      "C:\\Users\\Suzy\\anaconda3\\lib\\site-packages\\spacy\\language.py:482: UserWarning: [W030] Some entities could not be aligned in the text \"chopped olives\" with entities \"[(8, 13, 'PRODUCT')]\". Use `spacy.gold.biluo_tags_from_offsets(nlp.make_doc(text), entities)` to check the alignment. Misaligned entities (with BILUO tag '-') will be ignored during training.\n",
      "  gold = GoldParse(doc, **gold)\n",
      " 42%|████████████████████████████████▉                                              | 587/1409 [00:45<00:56, 14.51it/s]C:\\Users\\Suzy\\anaconda3\\lib\\site-packages\\spacy\\language.py:482: UserWarning: [W030] Some entities could not be aligned in the text \"tomatoes seeded and finely chopped\" with entities \"[(0, 6, 'PRODUCT')]\". Use `spacy.gold.biluo_tags_from_offsets(nlp.make_doc(text), entities)` to check the alignment. Misaligned entities (with BILUO tag '-') will be ignored during training.\n",
      "  gold = GoldParse(doc, **gold)\n",
      " 42%|█████████████████████████████████                                              | 589/1409 [00:45<00:56, 14.58it/s]C:\\Users\\Suzy\\anaconda3\\lib\\site-packages\\spacy\\language.py:482: UserWarning: [W030] Some entities could not be aligned in the text \"top round steak trimmed and sliced thin\" with entities \"[(-1, 12, 'PRODUCT')]\". Use `spacy.gold.biluo_tags_from_offsets(nlp.make_doc(text), entities)` to check the alignment. Misaligned entities (with BILUO tag '-') will be ignored during training.\n",
      "  gold = GoldParse(doc, **gold)\n",
      "C:\\Users\\Suzy\\anaconda3\\lib\\site-packages\\spacy\\language.py:482: UserWarning: [W030] Some entities could not be aligned in the text \"canned diced tomatoes and green chiles\" with entities \"[(13, 19, 'PRODUCT')]\". Use `spacy.gold.biluo_tags_from_offsets(nlp.make_doc(text), entities)` to check the alignment. Misaligned entities (with BILUO tag '-') will be ignored during training.\n",
      "  gold = GoldParse(doc, **gold)\n",
      " 42%|█████████████████████████████████▏                                             | 591/1409 [00:45<00:59, 13.73it/s]C:\\Users\\Suzy\\anaconda3\\lib\\site-packages\\spacy\\language.py:482: UserWarning: [W030] Some entities could not be aligned in the text \"peeled raw sweet potatoes\" with entities \"[(11, 23, 'PRODUCT')]\". Use `spacy.gold.biluo_tags_from_offsets(nlp.make_doc(text), entities)` to check the alignment. Misaligned entities (with BILUO tag '-') will be ignored during training.\n",
      "  gold = GoldParse(doc, **gold)\n",
      " 42%|█████████████████████████████████▏                                             | 593/1409 [00:45<00:59, 13.67it/s]C:\\Users\\Suzy\\anaconda3\\lib\\site-packages\\spacy\\language.py:482: UserWarning: [W030] Some entities could not be aligned in the text \"whole-wheat crackers\" with entities \"[(12, 19, 'PRODUCT')]\". Use `spacy.gold.biluo_tags_from_offsets(nlp.make_doc(text), entities)` to check the alignment. Misaligned entities (with BILUO tag '-') will be ignored during training.\n",
      "  gold = GoldParse(doc, **gold)\n"
     ]
    },
    {
     "name": "stderr",
     "output_type": "stream",
     "text": [
      "C:\\Users\\Suzy\\anaconda3\\lib\\site-packages\\spacy\\language.py:482: UserWarning: [W030] Some entities could not be aligned in the text \"yellow summer squash sliced\" with entities \"[(-1, 12, 'PRODUCT')]\". Use `spacy.gold.biluo_tags_from_offsets(nlp.make_doc(text), entities)` to check the alignment. Misaligned entities (with BILUO tag '-') will be ignored during training.\n",
      "  gold = GoldParse(doc, **gold)\n",
      " 43%|█████████████████████████████████▌                                             | 599/1409 [00:45<00:59, 13.52it/s]C:\\Users\\Suzy\\anaconda3\\lib\\site-packages\\spacy\\language.py:482: UserWarning: [W030] Some entities could not be aligned in the text \"extra-lean (95%) ground beef\" with entities \"[(-1, 8, 'PRODUCT')]\". Use `spacy.gold.biluo_tags_from_offsets(nlp.make_doc(text), entities)` to check the alignment. Misaligned entities (with BILUO tag '-') will be ignored during training.\n",
      "  gold = GoldParse(doc, **gold)\n",
      " 43%|█████████████████████████████████▋                                             | 601/1409 [00:46<00:56, 14.27it/s]C:\\Users\\Suzy\\anaconda3\\lib\\site-packages\\spacy\\language.py:482: UserWarning: [W030] Some entities could not be aligned in the text \"cherry tomatoes chopped\" with entities \"[(7, 13, 'PRODUCT')]\". Use `spacy.gold.biluo_tags_from_offsets(nlp.make_doc(text), entities)` to check the alignment. Misaligned entities (with BILUO tag '-') will be ignored during training.\n",
      "  gold = GoldParse(doc, **gold)\n",
      " 43%|█████████████████████████████████▊                                             | 603/1409 [00:46<00:57, 14.10it/s]C:\\Users\\Suzy\\anaconda3\\lib\\site-packages\\spacy\\language.py:482: UserWarning: [W030] Some entities could not be aligned in the text \"jet's master sauce\" with entities \"[(-1, 13, 'PRODUCT')]\". Use `spacy.gold.biluo_tags_from_offsets(nlp.make_doc(text), entities)` to check the alignment. Misaligned entities (with BILUO tag '-') will be ignored during training.\n",
      "  gold = GoldParse(doc, **gold)\n",
      " 43%|██████████████████████████████████                                             | 607/1409 [00:46<00:59, 13.58it/s]C:\\Users\\Suzy\\anaconda3\\lib\\site-packages\\spacy\\language.py:482: UserWarning: [W030] Some entities could not be aligned in the text \"tortillas cut into strips\" with entities \"[(0, 8, 'PRODUCT')]\". Use `spacy.gold.biluo_tags_from_offsets(nlp.make_doc(text), entities)` to check the alignment. Misaligned entities (with BILUO tag '-') will be ignored during training.\n",
      "  gold = GoldParse(doc, **gold)\n",
      " 44%|██████████████████████████████████▍                                            | 615/1409 [00:47<00:55, 14.19it/s]C:\\Users\\Suzy\\anaconda3\\lib\\site-packages\\spacy\\language.py:482: UserWarning: [W030] Some entities could not be aligned in the text \"refried beans\" with entities \"[(0, 12, 'PRODUCT')]\". Use `spacy.gold.biluo_tags_from_offsets(nlp.make_doc(text), entities)` to check the alignment. Misaligned entities (with BILUO tag '-') will be ignored during training.\n",
      "  gold = GoldParse(doc, **gold)\n",
      " 44%|██████████████████████████████████▋                                            | 619/1409 [00:47<00:56, 14.01it/s]C:\\Users\\Suzy\\anaconda3\\lib\\site-packages\\spacy\\language.py:482: UserWarning: [W030] Some entities could not be aligned in the text \"white onions\" with entities \"[(0, 11, 'PRODUCT')]\". Use `spacy.gold.biluo_tags_from_offsets(nlp.make_doc(text), entities)` to check the alignment. Misaligned entities (with BILUO tag '-') will be ignored during training.\n",
      "  gold = GoldParse(doc, **gold)\n",
      " 44%|██████████████████████████████████▉                                            | 623/1409 [00:47<00:55, 14.29it/s]C:\\Users\\Suzy\\anaconda3\\lib\\site-packages\\spacy\\language.py:482: UserWarning: [W030] Some entities could not be aligned in the text \"vine-ripened tomatoes diced small\" with entities \"[(13, 19, 'PRODUCT')]\". Use `spacy.gold.biluo_tags_from_offsets(nlp.make_doc(text), entities)` to check the alignment. Misaligned entities (with BILUO tag '-') will be ignored during training.\n",
      "  gold = GoldParse(doc, **gold)\n",
      " 45%|███████████████████████████████████▎                                           | 629/1409 [00:48<01:02, 12.56it/s]C:\\Users\\Suzy\\anaconda3\\lib\\site-packages\\spacy\\language.py:482: UserWarning: [W030] Some entities could not be aligned in the text \"halved cherry tomatoes divided\" with entities \"[(14, 20, 'PRODUCT')]\". Use `spacy.gold.biluo_tags_from_offsets(nlp.make_doc(text), entities)` to check the alignment. Misaligned entities (with BILUO tag '-') will be ignored during training.\n",
      "  gold = GoldParse(doc, **gold)\n",
      "C:\\Users\\Suzy\\anaconda3\\lib\\site-packages\\spacy\\language.py:482: UserWarning: [W030] Some entities could not be aligned in the text \"pinto beans drained and rinsed\" with entities \"[(0, 10, 'PRODUCT')]\". Use `spacy.gold.biluo_tags_from_offsets(nlp.make_doc(text), entities)` to check the alignment. Misaligned entities (with BILUO tag '-') will be ignored during training.\n",
      "  gold = GoldParse(doc, **gold)\n",
      " 45%|███████████████████████████████████▍                                           | 631/1409 [00:48<01:04, 12.13it/s]C:\\Users\\Suzy\\anaconda3\\lib\\site-packages\\spacy\\language.py:482: UserWarning: [W030] Some entities could not be aligned in the text \"tomatoes peeled and chopped\" with entities \"[(0, 6, 'PRODUCT')]\". Use `spacy.gold.biluo_tags_from_offsets(nlp.make_doc(text), entities)` to check the alignment. Misaligned entities (with BILUO tag '-') will be ignored during training.\n",
      "  gold = GoldParse(doc, **gold)\n",
      " 45%|███████████████████████████████████▍                                           | 633/1409 [00:48<01:11, 10.83it/s]C:\\Users\\Suzy\\anaconda3\\lib\\site-packages\\spacy\\language.py:482: UserWarning: [W030] Some entities could not be aligned in the text \"chicken spice rub\" with entities \"[(-1, 10, 'PRODUCT')]\". Use `spacy.gold.biluo_tags_from_offsets(nlp.make_doc(text), entities)` to check the alignment. Misaligned entities (with BILUO tag '-') will be ignored during training.\n",
      "  gold = GoldParse(doc, **gold)\n",
      " 45%|███████████████████████████████████▊                                           | 639/1409 [00:49<01:11, 10.76it/s]C:\\Users\\Suzy\\anaconda3\\lib\\site-packages\\spacy\\language.py:482: UserWarning: [W030] Some entities could not be aligned in the text \"chocolate confectioners' coating\" with entities \"[(-1, 17, 'PRODUCT')]\". Use `spacy.gold.biluo_tags_from_offsets(nlp.make_doc(text), entities)` to check the alignment. Misaligned entities (with BILUO tag '-') will be ignored during training.\n",
      "  gold = GoldParse(doc, **gold)\n",
      " 46%|████████████████████████████████████                                           | 643/1409 [00:49<01:07, 11.29it/s]C:\\Users\\Suzy\\anaconda3\\lib\\site-packages\\spacy\\language.py:482: UserWarning: [W030] Some entities could not be aligned in the text \"large tomatoes seeded and chopped\" with entities \"[(6, 12, 'PRODUCT')]\". Use `spacy.gold.biluo_tags_from_offsets(nlp.make_doc(text), entities)` to check the alignment. Misaligned entities (with BILUO tag '-') will be ignored during training.\n",
      "  gold = GoldParse(doc, **gold)\n",
      " 46%|████████████████████████████████████▍                                          | 649/1409 [00:49<01:02, 12.25it/s]C:\\Users\\Suzy\\anaconda3\\lib\\site-packages\\spacy\\language.py:482: UserWarning: [W030] Some entities could not be aligned in the text \"honeydew melons\" with entities \"[(0, 14, 'PRODUCT')]\". Use `spacy.gold.biluo_tags_from_offsets(nlp.make_doc(text), entities)` to check the alignment. Misaligned entities (with BILUO tag '-') will be ignored during training.\n",
      "  gold = GoldParse(doc, **gold)\n",
      "C:\\Users\\Suzy\\anaconda3\\lib\\site-packages\\spacy\\language.py:482: UserWarning: [W030] Some entities could not be aligned in the text \"lasagna noodles cooked and drained\" with entities \"[(8, 14, 'PRODUCT')]\". Use `spacy.gold.biluo_tags_from_offsets(nlp.make_doc(text), entities)` to check the alignment. Misaligned entities (with BILUO tag '-') will be ignored during training.\n",
      "  gold = GoldParse(doc, **gold)\n",
      " 46%|████████████████████████████████████▌                                          | 651/1409 [00:50<01:03, 11.88it/s]C:\\Users\\Suzy\\anaconda3\\lib\\site-packages\\spacy\\language.py:482: UserWarning: [W030] Some entities could not be aligned in the text \"peppercorns\" with entities \"[(0, 6, 'PRODUCT')]\". Use `spacy.gold.biluo_tags_from_offsets(nlp.make_doc(text), entities)` to check the alignment. Misaligned entities (with BILUO tag '-') will be ignored during training.\n",
      "  gold = GoldParse(doc, **gold)\n"
     ]
    },
    {
     "name": "stderr",
     "output_type": "stream",
     "text": [
      " 46%|████████████████████████████████████▌                                          | 653/1409 [00:50<00:59, 12.78it/s]C:\\Users\\Suzy\\anaconda3\\lib\\site-packages\\spacy\\language.py:482: UserWarning: [W030] Some entities could not be aligned in the text \"beef eye of round steaks\" with entities \"[(-1, 9, 'PRODUCT')]\". Use `spacy.gold.biluo_tags_from_offsets(nlp.make_doc(text), entities)` to check the alignment. Misaligned entities (with BILUO tag '-') will be ignored during training.\n",
      "  gold = GoldParse(doc, **gold)\n",
      " 47%|████████████████████████████████████▊                                          | 657/1409 [00:50<01:04, 11.66it/s]C:\\Users\\Suzy\\anaconda3\\lib\\site-packages\\spacy\\language.py:482: UserWarning: [W030] Some entities could not be aligned in the text \"leftover roast pork\" with entities \"[(-1, 9, 'PRODUCT')]\". Use `spacy.gold.biluo_tags_from_offsets(nlp.make_doc(text), entities)` to check the alignment. Misaligned entities (with BILUO tag '-') will be ignored during training.\n",
      "  gold = GoldParse(doc, **gold)\n",
      " 47%|█████████████████████████████████████▍                                         | 667/1409 [00:51<01:06, 11.19it/s]C:\\Users\\Suzy\\anaconda3\\lib\\site-packages\\spacy\\language.py:482: UserWarning: [W030] Some entities could not be aligned in the text \"assorted cut-up vegetables (broccoli\" with entities \"[(16, 25, 'PRODUCT')]\". Use `spacy.gold.biluo_tags_from_offsets(nlp.make_doc(text), entities)` to check the alignment. Misaligned entities (with BILUO tag '-') will be ignored during training.\n",
      "  gold = GoldParse(doc, **gold)\n",
      " 47%|█████████████████████████████████████▌                                         | 669/1409 [00:51<01:05, 11.35it/s]C:\\Users\\Suzy\\anaconda3\\lib\\site-packages\\spacy\\language.py:482: UserWarning: [W030] Some entities could not be aligned in the text \"large red tomatoes diced\" with entities \"[(10, 16, 'PRODUCT')]\". Use `spacy.gold.biluo_tags_from_offsets(nlp.make_doc(text), entities)` to check the alignment. Misaligned entities (with BILUO tag '-') will be ignored during training.\n",
      "  gold = GoldParse(doc, **gold)\n",
      " 48%|█████████████████████████████████████▋                                         | 673/1409 [00:52<00:57, 12.72it/s]C:\\Users\\Suzy\\anaconda3\\lib\\site-packages\\spacy\\language.py:482: UserWarning: [W030] Some entities could not be aligned in the text \"tomatoes seeded and coarsely chopped\" with entities \"[(0, 6, 'PRODUCT')]\". Use `spacy.gold.biluo_tags_from_offsets(nlp.make_doc(text), entities)` to check the alignment. Misaligned entities (with BILUO tag '-') will be ignored during training.\n",
      "  gold = GoldParse(doc, **gold)\n",
      " 48%|█████████████████████████████████████▊                                         | 675/1409 [00:52<00:53, 13.62it/s]C:\\Users\\Suzy\\anaconda3\\lib\\site-packages\\spacy\\language.py:482: UserWarning: [W030] Some entities could not be aligned in the text \"sliced mushrooms\" with entities \"[(7, 15, 'PRODUCT')]\". Use `spacy.gold.biluo_tags_from_offsets(nlp.make_doc(text), entities)` to check the alignment. Misaligned entities (with BILUO tag '-') will be ignored during training.\n",
      "  gold = GoldParse(doc, **gold)\n",
      " 48%|██████████████████████████████████████▏                                        | 681/1409 [00:52<00:57, 12.70it/s]C:\\Users\\Suzy\\anaconda3\\lib\\site-packages\\spacy\\language.py:482: UserWarning: [W030] Some entities could not be aligned in the text \"minced poblano pepper\" with entities \"[(-1, 6, 'PRODUCT')]\". Use `spacy.gold.biluo_tags_from_offsets(nlp.make_doc(text), entities)` to check the alignment. Misaligned entities (with BILUO tag '-') will be ignored during training.\n",
      "  gold = GoldParse(doc, **gold)\n",
      " 48%|██████████████████████████████████████▎                                        | 683/1409 [00:52<00:51, 13.99it/s]C:\\Users\\Suzy\\anaconda3\\lib\\site-packages\\spacy\\language.py:482: UserWarning: [W030] Some entities could not be aligned in the text \"for potato crust\" with entities \"[(-1, 5, 'PRODUCT')]\". Use `spacy.gold.biluo_tags_from_offsets(nlp.make_doc(text), entities)` to check the alignment. Misaligned entities (with BILUO tag '-') will be ignored during training.\n",
      "  gold = GoldParse(doc, **gold)\n",
      "C:\\Users\\Suzy\\anaconda3\\lib\\site-packages\\spacy\\language.py:482: UserWarning: [W030] Some entities could not be aligned in the text \"strips frozen french fried potatoes\" with entities \"[(27, 33, 'PRODUCT')]\". Use `spacy.gold.biluo_tags_from_offsets(nlp.make_doc(text), entities)` to check the alignment. Misaligned entities (with BILUO tag '-') will be ignored during training.\n",
      "  gold = GoldParse(doc, **gold)\n",
      " 49%|██████████████████████████████████████▊                                        | 693/1409 [00:53<00:56, 12.68it/s]C:\\Users\\Suzy\\anaconda3\\lib\\site-packages\\spacy\\language.py:482: UserWarning: [W030] Some entities could not be aligned in the text \"small mangoes peeled and cubed\" with entities \"[(6, 11, 'PRODUCT')]\". Use `spacy.gold.biluo_tags_from_offsets(nlp.make_doc(text), entities)` to check the alignment. Misaligned entities (with BILUO tag '-') will be ignored during training.\n",
      "  gold = GoldParse(doc, **gold)\n",
      " 49%|██████████████████████████████████████▉                                        | 695/1409 [00:53<00:51, 13.88it/s]C:\\Users\\Suzy\\anaconda3\\lib\\site-packages\\spacy\\language.py:482: UserWarning: [W030] Some entities could not be aligned in the text \"medium tomatoes halved lengthwise\" with entities \"[(7, 13, 'PRODUCT')]\". Use `spacy.gold.biluo_tags_from_offsets(nlp.make_doc(text), entities)` to check the alignment. Misaligned entities (with BILUO tag '-') will be ignored during training.\n",
      "  gold = GoldParse(doc, **gold)\n",
      " 50%|███████████████████████████████████████▏                                       | 699/1409 [00:53<00:47, 14.97it/s]C:\\Users\\Suzy\\anaconda3\\lib\\site-packages\\spacy\\language.py:482: UserWarning: [W030] Some entities could not be aligned in the text \"bag thin green beans trimmed\" with entities \"[(9, 19, 'PRODUCT')]\". Use `spacy.gold.biluo_tags_from_offsets(nlp.make_doc(text), entities)` to check the alignment. Misaligned entities (with BILUO tag '-') will be ignored during training.\n",
      "  gold = GoldParse(doc, **gold)\n",
      " 50%|███████████████████████████████████████▋                                       | 707/1409 [00:54<00:57, 12.13it/s]C:\\Users\\Suzy\\anaconda3\\lib\\site-packages\\spacy\\language.py:482: UserWarning: [W030] Some entities could not be aligned in the text \"sliced yellow onions\" with entities \"[(7, 19, 'PRODUCT')]\". Use `spacy.gold.biluo_tags_from_offsets(nlp.make_doc(text), entities)` to check the alignment. Misaligned entities (with BILUO tag '-') will be ignored during training.\n",
      "  gold = GoldParse(doc, **gold)\n",
      " 50%|███████████████████████████████████████▊                                       | 711/1409 [00:55<01:04, 10.86it/s]C:\\Users\\Suzy\\anaconda3\\lib\\site-packages\\spacy\\language.py:482: UserWarning: [W030] Some entities could not be aligned in the text \"large tomatoes cored\" with entities \"[(6, 12, 'PRODUCT')]\". Use `spacy.gold.biluo_tags_from_offsets(nlp.make_doc(text), entities)` to check the alignment. Misaligned entities (with BILUO tag '-') will be ignored during training.\n",
      "  gold = GoldParse(doc, **gold)\n",
      " 51%|███████████████████████████████████████▉                                       | 713/1409 [00:55<01:05, 10.59it/s]C:\\Users\\Suzy\\anaconda3\\lib\\site-packages\\spacy\\language.py:482: UserWarning: [W030] Some entities could not be aligned in the text \"fat-free cream of chicken soup\" with entities \"[(-1, 12, 'PRODUCT')]\". Use `spacy.gold.biluo_tags_from_offsets(nlp.make_doc(text), entities)` to check the alignment. Misaligned entities (with BILUO tag '-') will be ignored during training.\n",
      "  gold = GoldParse(doc, **gold)\n",
      " 51%|████████████████████████████████████████                                       | 715/1409 [00:55<01:06, 10.48it/s]C:\\Users\\Suzy\\anaconda3\\lib\\site-packages\\spacy\\language.py:482: UserWarning: [W030] Some entities could not be aligned in the text \"orange bell pepper\" with entities \"[(-1, 6, 'PRODUCT')]\". Use `spacy.gold.biluo_tags_from_offsets(nlp.make_doc(text), entities)` to check the alignment. Misaligned entities (with BILUO tag '-') will be ignored during training.\n",
      "  gold = GoldParse(doc, **gold)\n"
     ]
    },
    {
     "name": "stderr",
     "output_type": "stream",
     "text": [
      " 51%|████████████████████████████████████████▏                                      | 717/1409 [00:55<01:01, 11.19it/s]C:\\Users\\Suzy\\anaconda3\\lib\\site-packages\\spacy\\language.py:482: UserWarning: [W030] Some entities could not be aligned in the text \"italian-style diced tomatoes\" with entities \"[(20, 26, 'PRODUCT')]\". Use `spacy.gold.biluo_tags_from_offsets(nlp.make_doc(text), entities)` to check the alignment. Misaligned entities (with BILUO tag '-') will be ignored during training.\n",
      "  gold = GoldParse(doc, **gold)\n",
      " 51%|████████████████████████████████████████▎                                      | 719/1409 [00:55<00:57, 12.10it/s]C:\\Users\\Suzy\\anaconda3\\lib\\site-packages\\spacy\\language.py:482: UserWarning: [W030] Some entities could not be aligned in the text \"seasoned black beans\" with entities \"[(9, 19, 'PRODUCT')]\". Use `spacy.gold.biluo_tags_from_offsets(nlp.make_doc(text), entities)` to check the alignment. Misaligned entities (with BILUO tag '-') will be ignored during training.\n",
      "  gold = GoldParse(doc, **gold)\n",
      " 51%|████████████████████████████████████████▍                                      | 721/1409 [00:55<00:53, 12.92it/s]C:\\Users\\Suzy\\anaconda3\\lib\\site-packages\\spacy\\language.py:482: UserWarning: [W030] Some entities could not be aligned in the text \"marinara sauce heated\" with entities \"[(-1, 11, 'PRODUCT')]\". Use `spacy.gold.biluo_tags_from_offsets(nlp.make_doc(text), entities)` to check the alignment. Misaligned entities (with BILUO tag '-') will be ignored during training.\n",
      "  gold = GoldParse(doc, **gold)\n",
      " 51%|████████████████████████████████████████▌                                      | 723/1409 [00:55<00:49, 13.95it/s]C:\\Users\\Suzy\\anaconda3\\lib\\site-packages\\spacy\\language.py:482: UserWarning: [W030] Some entities could not be aligned in the text \"oil-packed sun-dried tomatoes chopped\" with entities \"[(11, 27, 'PRODUCT')]\". Use `spacy.gold.biluo_tags_from_offsets(nlp.make_doc(text), entities)` to check the alignment. Misaligned entities (with BILUO tag '-') will be ignored during training.\n",
      "  gold = GoldParse(doc, **gold)\n",
      "C:\\Users\\Suzy\\anaconda3\\lib\\site-packages\\spacy\\language.py:482: UserWarning: [W030] Some entities could not be aligned in the text \"avocado sour cream spread\" with entities \"[(-1, 13, 'PRODUCT')]\". Use `spacy.gold.biluo_tags_from_offsets(nlp.make_doc(text), entities)` to check the alignment. Misaligned entities (with BILUO tag '-') will be ignored during training.\n",
      "  gold = GoldParse(doc, **gold)\n",
      " 51%|████████████████████████████████████████▋                                      | 725/1409 [00:56<00:46, 14.85it/s]C:\\Users\\Suzy\\anaconda3\\lib\\site-packages\\spacy\\language.py:482: UserWarning: [W030] Some entities could not be aligned in the text \"button mushrooms stemmed\" with entities \"[(0, 15, 'PRODUCT')]\". Use `spacy.gold.biluo_tags_from_offsets(nlp.make_doc(text), entities)` to check the alignment. Misaligned entities (with BILUO tag '-') will be ignored during training.\n",
      "  gold = GoldParse(doc, **gold)\n",
      "C:\\Users\\Suzy\\anaconda3\\lib\\site-packages\\spacy\\language.py:482: UserWarning: [W030] Some entities could not be aligned in the text \"malted wheat hamburger bun\" with entities \"[(-1, 3, 'PRODUCT')]\". Use `spacy.gold.biluo_tags_from_offsets(nlp.make_doc(text), entities)` to check the alignment. Misaligned entities (with BILUO tag '-') will be ignored during training.\n",
      "  gold = GoldParse(doc, **gold)\n",
      " 52%|████████████████████████████████████████▊                                      | 727/1409 [00:56<00:48, 14.20it/s]C:\\Users\\Suzy\\anaconda3\\lib\\site-packages\\spacy\\language.py:482: UserWarning: [W030] Some entities could not be aligned in the text \"beef rib eye steaks\" with entities \"[(5, 18, 'PRODUCT')]\". Use `spacy.gold.biluo_tags_from_offsets(nlp.make_doc(text), entities)` to check the alignment. Misaligned entities (with BILUO tag '-') will be ignored during training.\n",
      "  gold = GoldParse(doc, **gold)\n",
      " 52%|████████████████████████████████████████▊                                      | 729/1409 [00:56<00:46, 14.67it/s]C:\\Users\\Suzy\\anaconda3\\lib\\site-packages\\spacy\\language.py:482: UserWarning: [W030] Some entities could not be aligned in the text \"cooked shrimps tails removed\" with entities \"[(7, 13, 'PRODUCT')]\". Use `spacy.gold.biluo_tags_from_offsets(nlp.make_doc(text), entities)` to check the alignment. Misaligned entities (with BILUO tag '-') will be ignored during training.\n",
      "  gold = GoldParse(doc, **gold)\n",
      " 53%|█████████████████████████████████████████▊                                     | 745/1409 [00:57<00:42, 15.80it/s]C:\\Users\\Suzy\\anaconda3\\lib\\site-packages\\spacy\\language.py:482: UserWarning: [W030] Some entities could not be aligned in the text \"rice-bread crumbs (such as panerisoÃ¢â€žÂ¢)\" with entities \"[(-1, 10, 'PRODUCT')]\". Use `spacy.gold.biluo_tags_from_offsets(nlp.make_doc(text), entities)` to check the alignment. Misaligned entities (with BILUO tag '-') will be ignored during training.\n",
      "  gold = GoldParse(doc, **gold)\n",
      " 53%|██████████████████████████████████████████                                     | 751/1409 [00:57<00:42, 15.41it/s]C:\\Users\\Suzy\\anaconda3\\lib\\site-packages\\spacy\\language.py:482: UserWarning: [W030] Some entities could not be aligned in the text \"assorted mushrooms sliced\" with entities \"[(9, 17, 'PRODUCT')]\". Use `spacy.gold.biluo_tags_from_offsets(nlp.make_doc(text), entities)` to check the alignment. Misaligned entities (with BILUO tag '-') will be ignored during training.\n",
      "  gold = GoldParse(doc, **gold)\n",
      " 53%|██████████████████████████████████████████▏                                    | 753/1409 [00:57<00:42, 15.59it/s]C:\\Users\\Suzy\\anaconda3\\lib\\site-packages\\spacy\\language.py:482: UserWarning: [W030] Some entities could not be aligned in the text \"large yellow summer squash shredded\" with entities \"[(-1, 12, 'PRODUCT')]\". Use `spacy.gold.biluo_tags_from_offsets(nlp.make_doc(text), entities)` to check the alignment. Misaligned entities (with BILUO tag '-') will be ignored during training.\n",
      "  gold = GoldParse(doc, **gold)\n",
      "C:\\Users\\Suzy\\anaconda3\\lib\\site-packages\\spacy\\language.py:482: UserWarning: [W030] Some entities could not be aligned in the text \"diced fire-roasted tomatoes\" with entities \"[(6, 25, 'PRODUCT')]\". Use `spacy.gold.biluo_tags_from_offsets(nlp.make_doc(text), entities)` to check the alignment. Misaligned entities (with BILUO tag '-') will be ignored during training.\n",
      "  gold = GoldParse(doc, **gold)\n",
      " 54%|██████████████████████████████████████████▎                                    | 755/1409 [00:58<00:40, 16.05it/s]C:\\Users\\Suzy\\anaconda3\\lib\\site-packages\\spacy\\language.py:482: UserWarning: [W030] Some entities could not be aligned in the text \"pints cherry tomatoes halved\" with entities \"[(13, 19, 'PRODUCT')]\". Use `spacy.gold.biluo_tags_from_offsets(nlp.make_doc(text), entities)` to check the alignment. Misaligned entities (with BILUO tag '-') will be ignored during training.\n",
      "  gold = GoldParse(doc, **gold)\n",
      " 54%|██████████████████████████████████████████▋                                    | 761/1409 [00:58<00:41, 15.65it/s]C:\\Users\\Suzy\\anaconda3\\lib\\site-packages\\spacy\\language.py:482: UserWarning: [W030] Some entities could not be aligned in the text \"quart apple juice\" with entities \"[(-1, 10, 'PRODUCT')]\". Use `spacy.gold.biluo_tags_from_offsets(nlp.make_doc(text), entities)` to check the alignment. Misaligned entities (with BILUO tag '-') will be ignored during training.\n",
      "  gold = GoldParse(doc, **gold)\n",
      " 54%|██████████████████████████████████████████▉                                    | 765/1409 [00:58<00:40, 16.05it/s]C:\\Users\\Suzy\\anaconda3\\lib\\site-packages\\spacy\\language.py:482: UserWarning: [W030] Some entities could not be aligned in the text \"tomatoes thickly sliced\" with entities \"[(0, 6, 'PRODUCT')]\". Use `spacy.gold.biluo_tags_from_offsets(nlp.make_doc(text), entities)` to check the alignment. Misaligned entities (with BILUO tag '-') will be ignored during training.\n",
      "  gold = GoldParse(doc, **gold)\n",
      "C:\\Users\\Suzy\\anaconda3\\lib\\site-packages\\spacy\\language.py:482: UserWarning: [W030] Some entities could not be aligned in the text \"large tomatoes sliced 1/4-inch thick\" with entities \"[(6, 12, 'PRODUCT')]\". Use `spacy.gold.biluo_tags_from_offsets(nlp.make_doc(text), entities)` to check the alignment. Misaligned entities (with BILUO tag '-') will be ignored during training.\n",
      "  gold = GoldParse(doc, **gold)\n"
     ]
    },
    {
     "name": "stderr",
     "output_type": "stream",
     "text": [
      " 55%|███████████████████████████████████████████▎                                   | 773/1409 [00:59<00:43, 14.58it/s]C:\\Users\\Suzy\\anaconda3\\lib\\site-packages\\spacy\\language.py:482: UserWarning: [W030] Some entities could not be aligned in the text \"pistachio nuts chopped\" with entities \"[(0, 13, 'PRODUCT')]\". Use `spacy.gold.biluo_tags_from_offsets(nlp.make_doc(text), entities)` to check the alignment. Misaligned entities (with BILUO tag '-') will be ignored during training.\n",
      "  gold = GoldParse(doc, **gold)\n",
      "C:\\Users\\Suzy\\anaconda3\\lib\\site-packages\\spacy\\language.py:482: UserWarning: [W030] Some entities could not be aligned in the text \"large dole green onions\" with entities \"[(11, 22, 'PRODUCT')]\". Use `spacy.gold.biluo_tags_from_offsets(nlp.make_doc(text), entities)` to check the alignment. Misaligned entities (with BILUO tag '-') will be ignored during training.\n",
      "  gold = GoldParse(doc, **gold)\n",
      " 55%|███████████████████████████████████████████▍                                   | 775/1409 [00:59<00:43, 14.65it/s]C:\\Users\\Suzy\\anaconda3\\lib\\site-packages\\spacy\\language.py:482: UserWarning: [W030] Some entities could not be aligned in the text \"tomatoes cut into 1-inch dice\" with entities \"[(0, 6, 'PRODUCT')]\". Use `spacy.gold.biluo_tags_from_offsets(nlp.make_doc(text), entities)` to check the alignment. Misaligned entities (with BILUO tag '-') will be ignored during training.\n",
      "  gold = GoldParse(doc, **gold)\n",
      " 55%|███████████████████████████████████████████▌                                   | 777/1409 [00:59<00:42, 14.76it/s]C:\\Users\\Suzy\\anaconda3\\lib\\site-packages\\spacy\\language.py:482: UserWarning: [W030] Some entities could not be aligned in the text \"roma tomatoes seeded diced\" with entities \"[(5, 11, 'PRODUCT')]\". Use `spacy.gold.biluo_tags_from_offsets(nlp.make_doc(text), entities)` to check the alignment. Misaligned entities (with BILUO tag '-') will be ignored during training.\n",
      "  gold = GoldParse(doc, **gold)\n",
      " 55%|███████████████████████████████████████████▋                                   | 779/1409 [00:59<00:41, 15.36it/s]C:\\Users\\Suzy\\anaconda3\\lib\\site-packages\\spacy\\language.py:482: UserWarning: [W030] Some entities could not be aligned in the text \"green onions (green portion only)\" with entities \"[(0, 11, 'PRODUCT')]\". Use `spacy.gold.biluo_tags_from_offsets(nlp.make_doc(text), entities)` to check the alignment. Misaligned entities (with BILUO tag '-') will be ignored during training.\n",
      "  gold = GoldParse(doc, **gold)\n",
      " 56%|███████████████████████████████████████████▉                                   | 783/1409 [00:59<00:39, 15.66it/s]C:\\Users\\Suzy\\anaconda3\\lib\\site-packages\\spacy\\language.py:482: UserWarning: [W030] Some entities could not be aligned in the text \"shallots julienned\" with entities \"[(0, 7, 'PRODUCT')]\". Use `spacy.gold.biluo_tags_from_offsets(nlp.make_doc(text), entities)` to check the alignment. Misaligned entities (with BILUO tag '-') will be ignored during training.\n",
      "  gold = GoldParse(doc, **gold)\n",
      " 56%|████████████████████████████████████████████                                   | 785/1409 [01:00<00:40, 15.47it/s]C:\\Users\\Suzy\\anaconda3\\lib\\site-packages\\spacy\\language.py:482: UserWarning: [W030] Some entities could not be aligned in the text \"seasoned rye crackers\" with entities \"[(13, 20, 'PRODUCT')]\". Use `spacy.gold.biluo_tags_from_offsets(nlp.make_doc(text), entities)` to check the alignment. Misaligned entities (with BILUO tag '-') will be ignored during training.\n",
      "  gold = GoldParse(doc, **gold)\n",
      " 56%|████████████████████████████████████████████▏                                  | 787/1409 [01:00<00:45, 13.76it/s]C:\\Users\\Suzy\\anaconda3\\lib\\site-packages\\spacy\\language.py:482: UserWarning: [W030] Some entities could not be aligned in the text \"pouches uncle ben'sÃ¢Â® ready riceÃ¢Â®\" with entities \"[(30, 34, 'PRODUCT')]\". Use `spacy.gold.biluo_tags_from_offsets(nlp.make_doc(text), entities)` to check the alignment. Misaligned entities (with BILUO tag '-') will be ignored during training.\n",
      "  gold = GoldParse(doc, **gold)\n",
      "C:\\Users\\Suzy\\anaconda3\\lib\\site-packages\\spacy\\language.py:482: UserWarning: [W030] Some entities could not be aligned in the text \"large rome beauty apples\" with entities \"[(18, 23, 'PRODUCT')]\". Use `spacy.gold.biluo_tags_from_offsets(nlp.make_doc(text), entities)` to check the alignment. Misaligned entities (with BILUO tag '-') will be ignored during training.\n",
      "  gold = GoldParse(doc, **gold)\n",
      " 56%|████████████████████████████████████████████▍                                  | 793/1409 [01:00<00:44, 13.74it/s]C:\\Users\\Suzy\\anaconda3\\lib\\site-packages\\spacy\\language.py:482: UserWarning: [W030] Some entities could not be aligned in the text \"chopped green beans\" with entities \"[(8, 18, 'PRODUCT')]\". Use `spacy.gold.biluo_tags_from_offsets(nlp.make_doc(text), entities)` to check the alignment. Misaligned entities (with BILUO tag '-') will be ignored during training.\n",
      "  gold = GoldParse(doc, **gold)\n",
      " 57%|████████████████████████████████████████████▋                                  | 797/1409 [01:00<00:42, 14.38it/s]C:\\Users\\Suzy\\anaconda3\\lib\\site-packages\\spacy\\language.py:482: UserWarning: [W030] Some entities could not be aligned in the text \"sofrito (such as goyaÃ¢Â®)\" with entities \"[(-1, 29, 'PRODUCT')]\". Use `spacy.gold.biluo_tags_from_offsets(nlp.make_doc(text), entities)` to check the alignment. Misaligned entities (with BILUO tag '-') will be ignored during training.\n",
      "  gold = GoldParse(doc, **gold)\n",
      " 57%|████████████████████████████████████████████▊                                  | 799/1409 [01:01<00:39, 15.56it/s]C:\\Users\\Suzy\\anaconda3\\lib\\site-packages\\spacy\\language.py:482: UserWarning: [W030] Some entities could not be aligned in the text \"honey barbeque sauce\" with entities \"[(-1, 13, 'PRODUCT')]\". Use `spacy.gold.biluo_tags_from_offsets(nlp.make_doc(text), entities)` to check the alignment. Misaligned entities (with BILUO tag '-') will be ignored during training.\n",
      "  gold = GoldParse(doc, **gold)\n",
      " 57%|████████████████████████████████████████████▉                                  | 801/1409 [01:01<00:39, 15.24it/s]C:\\Users\\Suzy\\anaconda3\\lib\\site-packages\\spacy\\language.py:482: UserWarning: [W030] Some entities could not be aligned in the text \"diced roma tomatoes\" with entities \"[(11, 17, 'PRODUCT')]\". Use `spacy.gold.biluo_tags_from_offsets(nlp.make_doc(text), entities)` to check the alignment. Misaligned entities (with BILUO tag '-') will be ignored during training.\n",
      "  gold = GoldParse(doc, **gold)\n",
      " 57%|█████████████████████████████████████████████▏                                 | 807/1409 [01:01<00:38, 15.60it/s]C:\\Users\\Suzy\\anaconda3\\lib\\site-packages\\spacy\\language.py:482: UserWarning: [W030] Some entities could not be aligned in the text \"peeled tomatoes with liquid\" with entities \"[(7, 13, 'PRODUCT')]\". Use `spacy.gold.biluo_tags_from_offsets(nlp.make_doc(text), entities)` to check the alignment. Misaligned entities (with BILUO tag '-') will be ignored during training.\n",
      "  gold = GoldParse(doc, **gold)\n",
      "C:\\Users\\Suzy\\anaconda3\\lib\\site-packages\\spacy\\language.py:482: UserWarning: [W030] Some entities could not be aligned in the text \"green onions (white part only)\" with entities \"[(0, 11, 'PRODUCT')]\". Use `spacy.gold.biluo_tags_from_offsets(nlp.make_doc(text), entities)` to check the alignment. Misaligned entities (with BILUO tag '-') will be ignored during training.\n",
      "  gold = GoldParse(doc, **gold)\n",
      " 58%|█████████████████████████████████████████████▍                                 | 811/1409 [01:01<00:37, 16.14it/s]C:\\Users\\Suzy\\anaconda3\\lib\\site-packages\\spacy\\language.py:482: UserWarning: [W030] Some entities could not be aligned in the text \"unsalted roasted peanuts chopped\" with entities \"[(17, 23, 'PRODUCT')]\". Use `spacy.gold.biluo_tags_from_offsets(nlp.make_doc(text), entities)` to check the alignment. Misaligned entities (with BILUO tag '-') will be ignored during training.\n",
      "  gold = GoldParse(doc, **gold)\n",
      " 58%|█████████████████████████████████████████████▌                                 | 813/1409 [01:01<00:35, 16.87it/s]C:\\Users\\Suzy\\anaconda3\\lib\\site-packages\\spacy\\language.py:482: UserWarning: [W030] Some entities could not be aligned in the text \"ground dried jalapeno pepper\" with entities \"[(-1, 9, 'PRODUCT')]\". Use `spacy.gold.biluo_tags_from_offsets(nlp.make_doc(text), entities)` to check the alignment. Misaligned entities (with BILUO tag '-') will be ignored during training.\n",
      "  gold = GoldParse(doc, **gold)\n"
     ]
    },
    {
     "name": "stderr",
     "output_type": "stream",
     "text": [
      " 58%|█████████████████████████████████████████████▋                                 | 815/1409 [01:01<00:35, 16.88it/s]C:\\Users\\Suzy\\anaconda3\\lib\\site-packages\\spacy\\language.py:482: UserWarning: [W030] Some entities could not be aligned in the text \"basil marinara sauce\" with entities \"[(-1, 11, 'PRODUCT')]\". Use `spacy.gold.biluo_tags_from_offsets(nlp.make_doc(text), entities)` to check the alignment. Misaligned entities (with BILUO tag '-') will be ignored during training.\n",
      "  gold = GoldParse(doc, **gold)\n",
      " 58%|█████████████████████████████████████████████▊                                 | 817/1409 [01:02<00:38, 15.42it/s]C:\\Users\\Suzy\\anaconda3\\lib\\site-packages\\spacy\\language.py:482: UserWarning: [W030] Some entities could not be aligned in the text \"cooked navy beans rinsed and drained\" with entities \"[(7, 16, 'PRODUCT')]\". Use `spacy.gold.biluo_tags_from_offsets(nlp.make_doc(text), entities)` to check the alignment. Misaligned entities (with BILUO tag '-') will be ignored during training.\n",
      "  gold = GoldParse(doc, **gold)\n",
      "C:\\Users\\Suzy\\anaconda3\\lib\\site-packages\\spacy\\language.py:482: UserWarning: [W030] Some entities could not be aligned in the text \"clamshell mushrooms separated\" with entities \"[(0, 18, 'PRODUCT')]\". Use `spacy.gold.biluo_tags_from_offsets(nlp.make_doc(text), entities)` to check the alignment. Misaligned entities (with BILUO tag '-') will be ignored during training.\n",
      "  gold = GoldParse(doc, **gold)\n",
      " 58%|█████████████████████████████████████████████▉                                 | 819/1409 [01:02<00:41, 14.38it/s]C:\\Users\\Suzy\\anaconda3\\lib\\site-packages\\spacy\\language.py:482: UserWarning: [W030] Some entities could not be aligned in the text \"spring onion (green part only)\" with entities \"[(-1, 10, 'PRODUCT')]\". Use `spacy.gold.biluo_tags_from_offsets(nlp.make_doc(text), entities)` to check the alignment. Misaligned entities (with BILUO tag '-') will be ignored during training.\n",
      "  gold = GoldParse(doc, **gold)\n",
      " 58%|██████████████████████████████████████████████▏                                | 823/1409 [01:02<00:41, 14.11it/s]C:\\Users\\Suzy\\anaconda3\\lib\\site-packages\\spacy\\language.py:482: UserWarning: [W030] Some entities could not be aligned in the text \"romano beans drained\" with entities \"[(0, 11, 'PRODUCT')]\". Use `spacy.gold.biluo_tags_from_offsets(nlp.make_doc(text), entities)` to check the alignment. Misaligned entities (with BILUO tag '-') will be ignored during training.\n",
      "  gold = GoldParse(doc, **gold)\n",
      " 59%|██████████████████████████████████████████████▎                                | 825/1409 [01:02<00:39, 14.88it/s]C:\\Users\\Suzy\\anaconda3\\lib\\site-packages\\spacy\\language.py:482: UserWarning: [W030] Some entities could not be aligned in the text \"medium tomatoes finely chopped\" with entities \"[(7, 13, 'PRODUCT')]\". Use `spacy.gold.biluo_tags_from_offsets(nlp.make_doc(text), entities)` to check the alignment. Misaligned entities (with BILUO tag '-') will be ignored during training.\n",
      "  gold = GoldParse(doc, **gold)\n",
      " 59%|██████████████████████████████████████████████▎                                | 827/1409 [01:02<00:39, 14.62it/s]C:\\Users\\Suzy\\anaconda3\\lib\\site-packages\\spacy\\language.py:482: UserWarning: [W030] Some entities could not be aligned in the text \"french baguette cut into 3/4-inch slices\" with entities \"[(-1, 4, 'PRODUCT')]\". Use `spacy.gold.biluo_tags_from_offsets(nlp.make_doc(text), entities)` to check the alignment. Misaligned entities (with BILUO tag '-') will be ignored during training.\n",
      "  gold = GoldParse(doc, **gold)\n",
      " 59%|██████████████████████████████████████████████▋                                | 833/1409 [01:03<00:38, 14.86it/s]C:\\Users\\Suzy\\anaconda3\\lib\\site-packages\\spacy\\language.py:482: UserWarning: [W030] Some entities could not be aligned in the text \"habanero pepper (optional)\" with entities \"[(-1, 15, 'PRODUCT')]\". Use `spacy.gold.biluo_tags_from_offsets(nlp.make_doc(text), entities)` to check the alignment. Misaligned entities (with BILUO tag '-') will be ignored during training.\n",
      "  gold = GoldParse(doc, **gold)\n",
      " 59%|██████████████████████████████████████████████▊                                | 835/1409 [01:03<00:38, 14.96it/s]C:\\Users\\Suzy\\anaconda3\\lib\\site-packages\\spacy\\language.py:482: UserWarning: [W030] Some entities could not be aligned in the text \"no-salt-added diced tomatoes with basil\" with entities \"[(20, 26, 'PRODUCT')]\". Use `spacy.gold.biluo_tags_from_offsets(nlp.make_doc(text), entities)` to check the alignment. Misaligned entities (with BILUO tag '-') will be ignored during training.\n",
      "  gold = GoldParse(doc, **gold)\n",
      " 60%|███████████████████████████████████████████████▌                               | 848/1409 [01:04<00:35, 16.01it/s]C:\\Users\\Suzy\\anaconda3\\lib\\site-packages\\spacy\\language.py:482: UserWarning: [W030] Some entities could not be aligned in the text \"crescenza-stracchino cheese\" with entities \"[(-1, 25, 'PRODUCT')]\". Use `spacy.gold.biluo_tags_from_offsets(nlp.make_doc(text), entities)` to check the alignment. Misaligned entities (with BILUO tag '-') will be ignored during training.\n",
      "  gold = GoldParse(doc, **gold)\n",
      " 60%|███████████████████████████████████████████████▋                               | 850/1409 [01:04<00:34, 16.20it/s]C:\\Users\\Suzy\\anaconda3\\lib\\site-packages\\spacy\\language.py:482: UserWarning: [W030] Some entities could not be aligned in the text \"quart fish stock\" with entities \"[(-1, 9, 'PRODUCT')]\". Use `spacy.gold.biluo_tags_from_offsets(nlp.make_doc(text), entities)` to check the alignment. Misaligned entities (with BILUO tag '-') will be ignored during training.\n",
      "  gold = GoldParse(doc, **gold)\n",
      " 60%|███████████████████████████████████████████████▊                               | 852/1409 [01:04<00:37, 14.91it/s]C:\\Users\\Suzy\\anaconda3\\lib\\site-packages\\spacy\\language.py:482: UserWarning: [W030] Some entities could not be aligned in the text \"tortilla chips divided\" with entities \"[(0, 13, 'PRODUCT')]\". Use `spacy.gold.biluo_tags_from_offsets(nlp.make_doc(text), entities)` to check the alignment. Misaligned entities (with BILUO tag '-') will be ignored during training.\n",
      "  gold = GoldParse(doc, **gold)\n",
      " 61%|███████████████████████████████████████████████▉                               | 854/1409 [01:04<00:38, 14.28it/s]C:\\Users\\Suzy\\anaconda3\\lib\\site-packages\\spacy\\language.py:482: UserWarning: [W030] Some entities could not be aligned in the text \"crushed dried chile pepper\" with entities \"[(-1, 9, 'PRODUCT')]\". Use `spacy.gold.biluo_tags_from_offsets(nlp.make_doc(text), entities)` to check the alignment. Misaligned entities (with BILUO tag '-') will be ignored during training.\n",
      "  gold = GoldParse(doc, **gold)\n",
      " 61%|████████████████████████████████████████████████                               | 858/1409 [01:04<00:38, 14.19it/s]C:\\Users\\Suzy\\anaconda3\\lib\\site-packages\\spacy\\language.py:482: UserWarning: [W030] Some entities could not be aligned in the text \"fresh white mushrooms sliced\" with entities \"[(12, 20, 'PRODUCT')]\". Use `spacy.gold.biluo_tags_from_offsets(nlp.make_doc(text), entities)` to check the alignment. Misaligned entities (with BILUO tag '-') will be ignored during training.\n",
      "  gold = GoldParse(doc, **gold)\n",
      "C:\\Users\\Suzy\\anaconda3\\lib\\site-packages\\spacy\\language.py:482: UserWarning: [W030] Some entities could not be aligned in the text \"finely chopped pepperoncini\" with entities \"[(-1, 6, 'PRODUCT')]\". Use `spacy.gold.biluo_tags_from_offsets(nlp.make_doc(text), entities)` to check the alignment. Misaligned entities (with BILUO tag '-') will be ignored during training.\n",
      "  gold = GoldParse(doc, **gold)\n",
      " 61%|████████████████████████████████████████████████▏                              | 860/1409 [01:05<00:37, 14.48it/s]C:\\Users\\Suzy\\anaconda3\\lib\\site-packages\\spacy\\language.py:482: UserWarning: [W030] Some entities could not be aligned in the text \"fresh mushrooms\" with entities \"[(6, 14, 'PRODUCT')]\". Use `spacy.gold.biluo_tags_from_offsets(nlp.make_doc(text), entities)` to check the alignment. Misaligned entities (with BILUO tag '-') will be ignored during training.\n",
      "  gold = GoldParse(doc, **gold)\n"
     ]
    },
    {
     "name": "stderr",
     "output_type": "stream",
     "text": [
      " 61%|████████████████████████████████████████████████▎                              | 862/1409 [01:05<00:37, 14.42it/s]C:\\Users\\Suzy\\anaconda3\\lib\\site-packages\\spacy\\language.py:482: UserWarning: [W030] Some entities could not be aligned in the text \"box no-boil lasagna noodles\" with entities \"[(-1, 14, 'PRODUCT')]\". Use `spacy.gold.biluo_tags_from_offsets(nlp.make_doc(text), entities)` to check the alignment. Misaligned entities (with BILUO tag '-') will be ignored during training.\n",
      "  gold = GoldParse(doc, **gold)\n",
      " 61%|████████████████████████████████████████████████▌                              | 866/1409 [01:05<00:37, 14.34it/s]C:\\Users\\Suzy\\anaconda3\\lib\\site-packages\\spacy\\language.py:482: UserWarning: [W030] Some entities could not be aligned in the text \"pizza dough\" with entities \"[(-1, 10, 'PRODUCT')]\". Use `spacy.gold.biluo_tags_from_offsets(nlp.make_doc(text), entities)` to check the alignment. Misaligned entities (with BILUO tag '-') will be ignored during training.\n",
      "  gold = GoldParse(doc, **gold)\n",
      " 62%|████████████████████████████████████████████████▊                              | 870/1409 [01:05<00:41, 13.09it/s]C:\\Users\\Suzy\\anaconda3\\lib\\site-packages\\spacy\\language.py:482: UserWarning: [W030] Some entities could not be aligned in the text \"soft sun-dried tomatoes chopped\" with entities \"[(15, 21, 'PRODUCT')]\". Use `spacy.gold.biluo_tags_from_offsets(nlp.make_doc(text), entities)` to check the alignment. Misaligned entities (with BILUO tag '-') will be ignored during training.\n",
      "  gold = GoldParse(doc, **gold)\n",
      " 62%|████████████████████████████████████████████████▉                              | 872/1409 [01:05<00:40, 13.24it/s]C:\\Users\\Suzy\\anaconda3\\lib\\site-packages\\spacy\\language.py:482: UserWarning: [W030] Some entities could not be aligned in the text \"great northern beans drained rinsed\" with entities \"[(6, 19, 'PRODUCT')]\". Use `spacy.gold.biluo_tags_from_offsets(nlp.make_doc(text), entities)` to check the alignment. Misaligned entities (with BILUO tag '-') will be ignored during training.\n",
      "  gold = GoldParse(doc, **gold)\n",
      "C:\\Users\\Suzy\\anaconda3\\lib\\site-packages\\spacy\\language.py:482: UserWarning: [W030] Some entities could not be aligned in the text \"apple juice in a spray bottle\" with entities \"[(-1, 10, 'PRODUCT')]\". Use `spacy.gold.biluo_tags_from_offsets(nlp.make_doc(text), entities)` to check the alignment. Misaligned entities (with BILUO tag '-') will be ignored during training.\n",
      "  gold = GoldParse(doc, **gold)\n",
      " 62%|█████████████████████████████████████████████████                              | 876/1409 [01:06<00:39, 13.44it/s]C:\\Users\\Suzy\\anaconda3\\lib\\site-packages\\spacy\\language.py:482: UserWarning: [W030] Some entities could not be aligned in the text \"large tomatoes diced\" with entities \"[(6, 12, 'PRODUCT')]\". Use `spacy.gold.biluo_tags_from_offsets(nlp.make_doc(text), entities)` to check the alignment. Misaligned entities (with BILUO tag '-') will be ignored during training.\n",
      "  gold = GoldParse(doc, **gold)\n",
      " 62%|█████████████████████████████████████████████████▏                             | 878/1409 [01:06<00:38, 13.77it/s]C:\\Users\\Suzy\\anaconda3\\lib\\site-packages\\spacy\\language.py:482: UserWarning: [W030] Some entities could not be aligned in the text \"small apples -- peeled cored and chopped\" with entities \"[(6, 11, 'PRODUCT')]\". Use `spacy.gold.biluo_tags_from_offsets(nlp.make_doc(text), entities)` to check the alignment. Misaligned entities (with BILUO tag '-') will be ignored during training.\n",
      "  gold = GoldParse(doc, **gold)\n",
      " 63%|██████████████████████████████████████████████████                             | 894/1409 [01:07<00:50, 10.22it/s]C:\\Users\\Suzy\\anaconda3\\lib\\site-packages\\spacy\\language.py:482: UserWarning: [W030] Some entities could not be aligned in the text \"pineapple fruit preserves\" with entities \"[(-1, 18, 'PRODUCT')]\". Use `spacy.gold.biluo_tags_from_offsets(nlp.make_doc(text), entities)` to check the alignment. Misaligned entities (with BILUO tag '-') will be ignored during training.\n",
      "  gold = GoldParse(doc, **gold)\n",
      " 64%|██████████████████████████████████████████████████▎                            | 898/1409 [01:08<00:42, 11.96it/s]C:\\Users\\Suzy\\anaconda3\\lib\\site-packages\\spacy\\language.py:482: UserWarning: [W030] Some entities could not be aligned in the text \"black olives drained and sliced\" with entities \"[(0, 11, 'PRODUCT')]\". Use `spacy.gold.biluo_tags_from_offsets(nlp.make_doc(text), entities)` to check the alignment. Misaligned entities (with BILUO tag '-') will be ignored during training.\n",
      "  gold = GoldParse(doc, **gold)\n",
      "C:\\Users\\Suzy\\anaconda3\\lib\\site-packages\\spacy\\language.py:482: UserWarning: [W030] Some entities could not be aligned in the text \"chopped baby bella (crimini) mushrooms\" with entities \"[(-1, 18, 'PRODUCT')]\". Use `spacy.gold.biluo_tags_from_offsets(nlp.make_doc(text), entities)` to check the alignment. Misaligned entities (with BILUO tag '-') will be ignored during training.\n",
      "  gold = GoldParse(doc, **gold)\n",
      " 64%|██████████████████████████████████████████████████▍                            | 900/1409 [01:08<00:40, 12.69it/s]C:\\Users\\Suzy\\anaconda3\\lib\\site-packages\\spacy\\language.py:482: UserWarning: [W030] Some entities could not be aligned in the text \"beef tri tip roast\" with entities \"[(-1, 9, 'PRODUCT')]\". Use `spacy.gold.biluo_tags_from_offsets(nlp.make_doc(text), entities)` to check the alignment. Misaligned entities (with BILUO tag '-') will be ignored during training.\n",
      "  gold = GoldParse(doc, **gold)\n",
      " 64%|██████████████████████████████████████████████████▋                            | 904/1409 [01:08<00:43, 11.63it/s]C:\\Users\\Suzy\\anaconda3\\lib\\site-packages\\spacy\\language.py:482: UserWarning: [W030] Some entities could not be aligned in the text \"dried red chile peppers\" with entities \"[(-1, 9, 'PRODUCT')]\". Use `spacy.gold.biluo_tags_from_offsets(nlp.make_doc(text), entities)` to check the alignment. Misaligned entities (with BILUO tag '-') will be ignored during training.\n",
      "  gold = GoldParse(doc, **gold)\n",
      " 64%|██████████████████████████████████████████████████▉                            | 908/1409 [01:08<00:37, 13.27it/s]C:\\Users\\Suzy\\anaconda3\\lib\\site-packages\\spacy\\language.py:482: UserWarning: [W030] Some entities could not be aligned in the text \"small fresh mushrooms chopped\" with entities \"[(12, 20, 'PRODUCT')]\". Use `spacy.gold.biluo_tags_from_offsets(nlp.make_doc(text), entities)` to check the alignment. Misaligned entities (with BILUO tag '-') will be ignored during training.\n",
      "  gold = GoldParse(doc, **gold)\n",
      "C:\\Users\\Suzy\\anaconda3\\lib\\site-packages\\spacy\\language.py:482: UserWarning: [W030] Some entities could not be aligned in the text \"large flour tortillas warmed\" with entities \"[(6, 20, 'PRODUCT')]\". Use `spacy.gold.biluo_tags_from_offsets(nlp.make_doc(text), entities)` to check the alignment. Misaligned entities (with BILUO tag '-') will be ignored during training.\n",
      "  gold = GoldParse(doc, **gold)\n",
      " 65%|███████████████████████████████████████████████████▏                           | 912/1409 [01:09<00:35, 14.14it/s]C:\\Users\\Suzy\\anaconda3\\lib\\site-packages\\spacy\\language.py:482: UserWarning: [W030] Some entities could not be aligned in the text \"avocados chopped\" with entities \"[(0, 7, 'PRODUCT')]\". Use `spacy.gold.biluo_tags_from_offsets(nlp.make_doc(text), entities)` to check the alignment. Misaligned entities (with BILUO tag '-') will be ignored during training.\n",
      "  gold = GoldParse(doc, **gold)\n",
      " 65%|███████████████████████████████████████████████████▏                           | 914/1409 [01:09<00:34, 14.21it/s]C:\\Users\\Suzy\\anaconda3\\lib\\site-packages\\spacy\\language.py:482: UserWarning: [W030] Some entities could not be aligned in the text \"brussels sprouts trimmed and quartered\" with entities \"[(-1, 13, 'PRODUCT')]\". Use `spacy.gold.biluo_tags_from_offsets(nlp.make_doc(text), entities)` to check the alignment. Misaligned entities (with BILUO tag '-') will be ignored during training.\n",
      "  gold = GoldParse(doc, **gold)\n",
      " 65%|███████████████████████████████████████████████████▎                           | 916/1409 [01:09<00:36, 13.65it/s]C:\\Users\\Suzy\\anaconda3\\lib\\site-packages\\spacy\\language.py:482: UserWarning: [W030] Some entities could not be aligned in the text \"processed cheese spread with jalapeno\" with entities \"[(-1, 21, 'PRODUCT')]\". Use `spacy.gold.biluo_tags_from_offsets(nlp.make_doc(text), entities)` to check the alignment. Misaligned entities (with BILUO tag '-') will be ignored during training.\n",
      "  gold = GoldParse(doc, **gold)\n"
     ]
    },
    {
     "name": "stderr",
     "output_type": "stream",
     "text": [
      " 65%|███████████████████████████████████████████████████▋                           | 922/1409 [01:09<00:35, 13.89it/s]C:\\Users\\Suzy\\anaconda3\\lib\\site-packages\\spacy\\language.py:482: UserWarning: [W030] Some entities could not be aligned in the text \"minced red bell pepper\" with entities \"[(-1, 6, 'PRODUCT')]\". Use `spacy.gold.biluo_tags_from_offsets(nlp.make_doc(text), entities)` to check the alignment. Misaligned entities (with BILUO tag '-') will be ignored during training.\n",
      "  gold = GoldParse(doc, **gold)\n",
      "C:\\Users\\Suzy\\anaconda3\\lib\\site-packages\\spacy\\language.py:482: UserWarning: [W030] Some entities could not be aligned in the text \"shrimp consomme\" with entities \"[(-1, 11, 'PRODUCT')]\". Use `spacy.gold.biluo_tags_from_offsets(nlp.make_doc(text), entities)` to check the alignment. Misaligned entities (with BILUO tag '-') will be ignored during training.\n",
      "  gold = GoldParse(doc, **gold)\n",
      " 66%|███████████████████████████████████████████████████▊                           | 924/1409 [01:10<00:34, 14.03it/s]C:\\Users\\Suzy\\anaconda3\\lib\\site-packages\\spacy\\language.py:482: UserWarning: [W030] Some entities could not be aligned in the text \"roasted salted soy beans (soy nuts)\" with entities \"[(15, 23, 'PRODUCT')]\". Use `spacy.gold.biluo_tags_from_offsets(nlp.make_doc(text), entities)` to check the alignment. Misaligned entities (with BILUO tag '-') will be ignored during training.\n",
      "  gold = GoldParse(doc, **gold)\n",
      "C:\\Users\\Suzy\\anaconda3\\lib\\site-packages\\spacy\\language.py:482: UserWarning: [W030] Some entities could not be aligned in the text \"long metal skewers\" with entities \"[(5, 17, 'PRODUCT')]\". Use `spacy.gold.biluo_tags_from_offsets(nlp.make_doc(text), entities)` to check the alignment. Misaligned entities (with BILUO tag '-') will be ignored during training.\n",
      "  gold = GoldParse(doc, **gold)\n",
      " 66%|████████████████████████████████████████████████████▏                          | 930/1409 [01:10<00:42, 11.25it/s]C:\\Users\\Suzy\\anaconda3\\lib\\site-packages\\spacy\\language.py:482: UserWarning: [W030] Some entities could not be aligned in the text \"roast chicken drippings\" with entities \"[(-1, 10, 'PRODUCT')]\". Use `spacy.gold.biluo_tags_from_offsets(nlp.make_doc(text), entities)` to check the alignment. Misaligned entities (with BILUO tag '-') will be ignored during training.\n",
      "  gold = GoldParse(doc, **gold)\n",
      "C:\\Users\\Suzy\\anaconda3\\lib\\site-packages\\spacy\\language.py:482: UserWarning: [W030] Some entities could not be aligned in the text \"dried small shrimp\" with entities \"[(-1, 11, 'PRODUCT')]\". Use `spacy.gold.biluo_tags_from_offsets(nlp.make_doc(text), entities)` to check the alignment. Misaligned entities (with BILUO tag '-') will be ignored during training.\n",
      "  gold = GoldParse(doc, **gold)\n",
      " 66%|████████████████████████████████████████████████████▍                          | 936/1409 [01:11<00:45, 10.39it/s]C:\\Users\\Suzy\\anaconda3\\lib\\site-packages\\spacy\\language.py:482: UserWarning: [W030] Some entities could not be aligned in the text \"boneless beef top round steak\" with entities \"[(-1, 9, 'PRODUCT')]\". Use `spacy.gold.biluo_tags_from_offsets(nlp.make_doc(text), entities)` to check the alignment. Misaligned entities (with BILUO tag '-') will be ignored during training.\n",
      "  gold = GoldParse(doc, **gold)\n",
      " 67%|████████████████████████████████████████████████████▊                          | 942/1409 [01:11<00:42, 10.90it/s]C:\\Users\\Suzy\\anaconda3\\lib\\site-packages\\spacy\\language.py:482: UserWarning: [W030] Some entities could not be aligned in the text \"top round london broil cut\" with entities \"[(-1, 9, 'PRODUCT')]\". Use `spacy.gold.biluo_tags_from_offsets(nlp.make_doc(text), entities)` to check the alignment. Misaligned entities (with BILUO tag '-') will be ignored during training.\n",
      "  gold = GoldParse(doc, **gold)\n",
      " 67%|█████████████████████████████████████████████████████                          | 946/1409 [01:11<00:35, 13.09it/s]C:\\Users\\Suzy\\anaconda3\\lib\\site-packages\\spacy\\language.py:482: UserWarning: [W030] Some entities could not be aligned in the text \"minced fresh mushrooms (optional)\" with entities \"[(13, 21, 'PRODUCT')]\". Use `spacy.gold.biluo_tags_from_offsets(nlp.make_doc(text), entities)` to check the alignment. Misaligned entities (with BILUO tag '-') will be ignored during training.\n",
      "  gold = GoldParse(doc, **gold)\n",
      " 67%|█████████████████████████████████████████████████████▏                         | 948/1409 [01:12<00:33, 13.87it/s]C:\\Users\\Suzy\\anaconda3\\lib\\site-packages\\spacy\\language.py:482: UserWarning: [W030] Some entities could not be aligned in the text \"apples sliced thin\" with entities \"[(0, 5, 'PRODUCT')]\". Use `spacy.gold.biluo_tags_from_offsets(nlp.make_doc(text), entities)` to check the alignment. Misaligned entities (with BILUO tag '-') will be ignored during training.\n",
      "  gold = GoldParse(doc, **gold)\n",
      " 67%|█████████████████████████████████████████████████████▎                         | 950/1409 [01:12<00:32, 14.25it/s]C:\\Users\\Suzy\\anaconda3\\lib\\site-packages\\spacy\\language.py:482: UserWarning: [W030] Some entities could not be aligned in the text \"boneless thick-cut pork chops\" with entities \"[(19, 28, 'PRODUCT')]\". Use `spacy.gold.biluo_tags_from_offsets(nlp.make_doc(text), entities)` to check the alignment. Misaligned entities (with BILUO tag '-') will be ignored during training.\n",
      "  gold = GoldParse(doc, **gold)\n",
      " 68%|█████████████████████████████████████████████████████▍                         | 954/1409 [01:12<00:37, 12.02it/s]C:\\Users\\Suzy\\anaconda3\\lib\\site-packages\\spacy\\language.py:482: UserWarning: [W030] Some entities could not be aligned in the text \"extra-lean (94%) ground beef\" with entities \"[(-1, 8, 'PRODUCT')]\". Use `spacy.gold.biluo_tags_from_offsets(nlp.make_doc(text), entities)` to check the alignment. Misaligned entities (with BILUO tag '-') will be ignored during training.\n",
      "  gold = GoldParse(doc, **gold)\n",
      " 68%|█████████████████████████████████████████████████████▌                         | 956/1409 [01:12<00:40, 11.25it/s]C:\\Users\\Suzy\\anaconda3\\lib\\site-packages\\spacy\\language.py:482: UserWarning: [W030] Some entities could not be aligned in the text \"double chocolate-chunk cookie mix\" with entities \"[(-1, 15, 'PRODUCT')]\". Use `spacy.gold.biluo_tags_from_offsets(nlp.make_doc(text), entities)` to check the alignment. Misaligned entities (with BILUO tag '-') will be ignored during training.\n",
      "  gold = GoldParse(doc, **gold)\n",
      " 68%|█████████████████████████████████████████████████████▋                         | 958/1409 [01:12<00:37, 12.12it/s]C:\\Users\\Suzy\\anaconda3\\lib\\site-packages\\spacy\\language.py:482: UserWarning: [W030] Some entities could not be aligned in the text \"french onion bouillon\" with entities \"[(-1, 10, 'PRODUCT')]\". Use `spacy.gold.biluo_tags_from_offsets(nlp.make_doc(text), entities)` to check the alignment. Misaligned entities (with BILUO tag '-') will be ignored during training.\n",
      "  gold = GoldParse(doc, **gold)\n",
      " 68%|█████████████████████████████████████████████████████▊                         | 960/1409 [01:13<00:34, 13.06it/s]C:\\Users\\Suzy\\anaconda3\\lib\\site-packages\\spacy\\language.py:482: UserWarning: [W030] Some entities could not be aligned in the text \"rinsed drained canned black beans\" with entities \"[(22, 32, 'PRODUCT')]\". Use `spacy.gold.biluo_tags_from_offsets(nlp.make_doc(text), entities)` to check the alignment. Misaligned entities (with BILUO tag '-') will be ignored during training.\n",
      "  gold = GoldParse(doc, **gold)\n",
      "C:\\Users\\Suzy\\anaconda3\\lib\\site-packages\\spacy\\language.py:482: UserWarning: [W030] Some entities could not be aligned in the text \"fava beans drained and rinsed\" with entities \"[(0, 9, 'PRODUCT')]\". Use `spacy.gold.biluo_tags_from_offsets(nlp.make_doc(text), entities)` to check the alignment. Misaligned entities (with BILUO tag '-') will be ignored during training.\n",
      "  gold = GoldParse(doc, **gold)\n",
      " 69%|██████████████████████████████████████████████████████▋                        | 976/1409 [01:14<00:35, 12.32it/s]C:\\Users\\Suzy\\anaconda3\\lib\\site-packages\\spacy\\language.py:482: UserWarning: [W030] Some entities could not be aligned in the text \"stir-fry sauce\" with entities \"[(-1, 8, 'PRODUCT')]\". Use `spacy.gold.biluo_tags_from_offsets(nlp.make_doc(text), entities)` to check the alignment. Misaligned entities (with BILUO tag '-') will be ignored during training.\n",
      "  gold = GoldParse(doc, **gold)\n"
     ]
    },
    {
     "name": "stderr",
     "output_type": "stream",
     "text": [
      " 70%|██████████████████████████████████████████████████████▉                        | 980/1409 [01:14<00:36, 11.82it/s]C:\\Users\\Suzy\\anaconda3\\lib\\site-packages\\spacy\\language.py:482: UserWarning: [W030] Some entities could not be aligned in the text \"prepared graham cracker crusts\" with entities \"[(-1, 11, 'PRODUCT')]\". Use `spacy.gold.biluo_tags_from_offsets(nlp.make_doc(text), entities)` to check the alignment. Misaligned entities (with BILUO tag '-') will be ignored during training.\n",
      "  gold = GoldParse(doc, **gold)\n",
      " 70%|███████████████████████████████████████████████████████▎                       | 986/1409 [01:15<00:31, 13.31it/s]C:\\Users\\Suzy\\anaconda3\\lib\\site-packages\\spacy\\language.py:482: UserWarning: [W030] Some entities could not be aligned in the text \"crushed aleppo peppers\" with entities \"[(-1, 9, 'PRODUCT')]\". Use `spacy.gold.biluo_tags_from_offsets(nlp.make_doc(text), entities)` to check the alignment. Misaligned entities (with BILUO tag '-') will be ignored during training.\n",
      "  gold = GoldParse(doc, **gold)\n",
      "C:\\Users\\Suzy\\anaconda3\\lib\\site-packages\\spacy\\language.py:482: UserWarning: [W030] Some entities could not be aligned in the text \"ramen noodles cooked al dente\" with entities \"[(6, 12, 'PRODUCT')]\". Use `spacy.gold.biluo_tags_from_offsets(nlp.make_doc(text), entities)` to check the alignment. Misaligned entities (with BILUO tag '-') will be ignored during training.\n",
      "  gold = GoldParse(doc, **gold)\n",
      " 70%|███████████████████████████████████████████████████████▌                       | 990/1409 [01:15<00:31, 13.10it/s]C:\\Users\\Suzy\\anaconda3\\lib\\site-packages\\spacy\\language.py:482: UserWarning: [W030] Some entities could not be aligned in the text \"pureed fresh strawberries\" with entities \"[(-1, 9, 'PRODUCT')]\". Use `spacy.gold.biluo_tags_from_offsets(nlp.make_doc(text), entities)` to check the alignment. Misaligned entities (with BILUO tag '-') will be ignored during training.\n",
      "  gold = GoldParse(doc, **gold)\n",
      "C:\\Users\\Suzy\\anaconda3\\lib\\site-packages\\spacy\\language.py:482: UserWarning: [W030] Some entities could not be aligned in the text \"canned cannellini beans\" with entities \"[(7, 22, 'PRODUCT')]\". Use `spacy.gold.biluo_tags_from_offsets(nlp.make_doc(text), entities)` to check the alignment. Misaligned entities (with BILUO tag '-') will be ignored during training.\n",
      "  gold = GoldParse(doc, **gold)\n",
      " 70%|███████████████████████████████████████████████████████▌                       | 992/1409 [01:15<00:29, 14.02it/s]C:\\Users\\Suzy\\anaconda3\\lib\\site-packages\\spacy\\language.py:482: UserWarning: [W030] Some entities could not be aligned in the text \"raw porcini mushrooms\" with entities \"[(4, 20, 'PRODUCT')]\". Use `spacy.gold.biluo_tags_from_offsets(nlp.make_doc(text), entities)` to check the alignment. Misaligned entities (with BILUO tag '-') will be ignored during training.\n",
      "  gold = GoldParse(doc, **gold)\n",
      " 71%|███████████████████████████████████████████████████████▊                       | 996/1409 [01:15<00:36, 11.39it/s]C:\\Users\\Suzy\\anaconda3\\lib\\site-packages\\spacy\\language.py:482: UserWarning: [W030] Some entities could not be aligned in the text \"powdered jalapeno pepper\" with entities \"[(-1, 15, 'PRODUCT')]\". Use `spacy.gold.biluo_tags_from_offsets(nlp.make_doc(text), entities)` to check the alignment. Misaligned entities (with BILUO tag '-') will be ignored during training.\n",
      "  gold = GoldParse(doc, **gold)\n",
      " 71%|███████████████████████████████████████████████████████▉                       | 998/1409 [01:16<00:39, 10.46it/s]C:\\Users\\Suzy\\anaconda3\\lib\\site-packages\\spacy\\language.py:482: UserWarning: [W030] Some entities could not be aligned in the text \"kiwifruit peeled and diced\" with entities \"[(0, 4, 'PRODUCT')]\". Use `spacy.gold.biluo_tags_from_offsets(nlp.make_doc(text), entities)` to check the alignment. Misaligned entities (with BILUO tag '-') will be ignored during training.\n",
      "  gold = GoldParse(doc, **gold)\n",
      " 71%|███████████████████████████████████████████████████████▎                      | 1000/1409 [01:16<00:39, 10.44it/s]C:\\Users\\Suzy\\anaconda3\\lib\\site-packages\\spacy\\language.py:482: UserWarning: [W030] Some entities could not be aligned in the text \"chopped mild pickled pepper rings\" with entities \"[(-1, 6, 'PRODUCT')]\". Use `spacy.gold.biluo_tags_from_offsets(nlp.make_doc(text), entities)` to check the alignment. Misaligned entities (with BILUO tag '-') will be ignored during training.\n",
      "  gold = GoldParse(doc, **gold)\n",
      " 71%|███████████████████████████████████████████████████████▍                      | 1002/1409 [01:16<00:38, 10.60it/s]C:\\Users\\Suzy\\anaconda3\\lib\\site-packages\\spacy\\language.py:482: UserWarning: [W030] Some entities could not be aligned in the text \"coarsely broken cinnamon graham crackers\" with entities \"[(25, 39, 'PRODUCT')]\". Use `spacy.gold.biluo_tags_from_offsets(nlp.make_doc(text), entities)` to check the alignment. Misaligned entities (with BILUO tag '-') will be ignored during training.\n",
      "  gold = GoldParse(doc, **gold)\n",
      "C:\\Users\\Suzy\\anaconda3\\lib\\site-packages\\spacy\\language.py:482: UserWarning: [W030] Some entities could not be aligned in the text \"ground sirloin beef (90% lean)\" with entities \"[(-1, 8, 'PRODUCT')]\". Use `spacy.gold.biluo_tags_from_offsets(nlp.make_doc(text), entities)` to check the alignment. Misaligned entities (with BILUO tag '-') will be ignored during training.\n",
      "  gold = GoldParse(doc, **gold)\n",
      " 71%|███████████████████████████████████████████████████████▋                      | 1006/1409 [01:16<00:34, 11.57it/s]C:\\Users\\Suzy\\anaconda3\\lib\\site-packages\\spacy\\language.py:482: UserWarning: [W030] Some entities could not be aligned in the text \"large mushrooms diced\" with entities \"[(6, 14, 'PRODUCT')]\". Use `spacy.gold.biluo_tags_from_offsets(nlp.make_doc(text), entities)` to check the alignment. Misaligned entities (with BILUO tag '-') will be ignored during training.\n",
      "  gold = GoldParse(doc, **gold)\n",
      " 72%|███████████████████████████████████████████████████████▊                      | 1008/1409 [01:17<00:32, 12.45it/s]C:\\Users\\Suzy\\anaconda3\\lib\\site-packages\\spacy\\language.py:482: UserWarning: [W030] Some entities could not be aligned in the text \"avocados diced\" with entities \"[(0, 7, 'PRODUCT')]\". Use `spacy.gold.biluo_tags_from_offsets(nlp.make_doc(text), entities)` to check the alignment. Misaligned entities (with BILUO tag '-') will be ignored during training.\n",
      "  gold = GoldParse(doc, **gold)\n",
      " 72%|████████████████████████████████████████████████████████▏                     | 1016/1409 [01:17<00:31, 12.58it/s]C:\\Users\\Suzy\\anaconda3\\lib\\site-packages\\spacy\\language.py:482: UserWarning: [W030] Some entities could not be aligned in the text \"hungarian wax pepper\" with entities \"[(-1, 8, 'PRODUCT')]\". Use `spacy.gold.biluo_tags_from_offsets(nlp.make_doc(text), entities)` to check the alignment. Misaligned entities (with BILUO tag '-') will be ignored during training.\n",
      "  gold = GoldParse(doc, **gold)\n",
      " 72%|████████████████████████████████████████████████████████▎                     | 1018/1409 [01:17<00:29, 13.34it/s]C:\\Users\\Suzy\\anaconda3\\lib\\site-packages\\spacy\\language.py:482: UserWarning: [W030] Some entities could not be aligned in the text \"small bell pepper (any color)\" with entities \"[(-1, 6, 'PRODUCT')]\". Use `spacy.gold.biluo_tags_from_offsets(nlp.make_doc(text), entities)` to check the alignment. Misaligned entities (with BILUO tag '-') will be ignored during training.\n",
      "  gold = GoldParse(doc, **gold)\n",
      " 72%|████████████████████████████████████████████████████████▍                     | 1020/1409 [01:17<00:29, 13.27it/s]C:\\Users\\Suzy\\anaconda3\\lib\\site-packages\\spacy\\language.py:482: UserWarning: [W030] Some entities could not be aligned in the text \"diced tomatoes drained.\" with entities \"[(6, 12, 'PRODUCT')]\". Use `spacy.gold.biluo_tags_from_offsets(nlp.make_doc(text), entities)` to check the alignment. Misaligned entities (with BILUO tag '-') will be ignored during training.\n",
      "  gold = GoldParse(doc, **gold)\n",
      " 73%|████████████████████████████████████████████████████████▌                     | 1022/1409 [01:18<00:29, 13.11it/s]C:\\Users\\Suzy\\anaconda3\\lib\\site-packages\\spacy\\language.py:482: UserWarning: [W030] Some entities could not be aligned in the text \"bell pepper\" with entities \"[(-1, 6, 'PRODUCT')]\". Use `spacy.gold.biluo_tags_from_offsets(nlp.make_doc(text), entities)` to check the alignment. Misaligned entities (with BILUO tag '-') will be ignored during training.\n",
      "  gold = GoldParse(doc, **gold)\n"
     ]
    },
    {
     "name": "stderr",
     "output_type": "stream",
     "text": [
      " 73%|████████████████████████████████████████████████████████▋                     | 1024/1409 [01:18<00:28, 13.69it/s]C:\\Users\\Suzy\\anaconda3\\lib\\site-packages\\spacy\\language.py:482: UserWarning: [W030] Some entities could not be aligned in the text \"chicken tenderloins\" with entities \"[(-1, 13, 'PRODUCT')]\". Use `spacy.gold.biluo_tags_from_offsets(nlp.make_doc(text), entities)` to check the alignment. Misaligned entities (with BILUO tag '-') will be ignored during training.\n",
      "  gold = GoldParse(doc, **gold)\n",
      "C:\\Users\\Suzy\\anaconda3\\lib\\site-packages\\spacy\\language.py:482: UserWarning: [W030] Some entities could not be aligned in the text \"dried guajillo chile peppers\" with entities \"[(15, 27, 'PRODUCT')]\". Use `spacy.gold.biluo_tags_from_offsets(nlp.make_doc(text), entities)` to check the alignment. Misaligned entities (with BILUO tag '-') will be ignored during training.\n",
      "  gold = GoldParse(doc, **gold)\n",
      " 73%|████████████████████████████████████████████████████████▉                     | 1028/1409 [01:18<00:35, 10.62it/s]C:\\Users\\Suzy\\anaconda3\\lib\\site-packages\\spacy\\language.py:482: UserWarning: [W030] Some entities could not be aligned in the text \"large fresh tomatoes\" with entities \"[(12, 18, 'PRODUCT')]\". Use `spacy.gold.biluo_tags_from_offsets(nlp.make_doc(text), entities)` to check the alignment. Misaligned entities (with BILUO tag '-') will be ignored during training.\n",
      "  gold = GoldParse(doc, **gold)\n",
      " 73%|█████████████████████████████████████████████████████████                     | 1030/1409 [01:18<00:35, 10.58it/s]C:\\Users\\Suzy\\anaconda3\\lib\\site-packages\\spacy\\language.py:482: UserWarning: [W030] Some entities could not be aligned in the text \"large idaho potato\" with entities \"[(-1, 4, 'PRODUCT')]\". Use `spacy.gold.biluo_tags_from_offsets(nlp.make_doc(text), entities)` to check the alignment. Misaligned entities (with BILUO tag '-') will be ignored during training.\n",
      "  gold = GoldParse(doc, **gold)\n",
      " 73%|█████████████████████████████████████████████████████████▏                    | 1034/1409 [01:19<00:34, 11.00it/s]C:\\Users\\Suzy\\anaconda3\\lib\\site-packages\\spacy\\language.py:482: UserWarning: [W030] Some entities could not be aligned in the text \"plum tomatoes seeded\" with entities \"[(5, 11, 'PRODUCT')]\". Use `spacy.gold.biluo_tags_from_offsets(nlp.make_doc(text), entities)` to check the alignment. Misaligned entities (with BILUO tag '-') will be ignored during training.\n",
      "  gold = GoldParse(doc, **gold)\n",
      " 74%|█████████████████████████████████████████████████████████▍                    | 1038/1409 [01:19<00:30, 12.10it/s]C:\\Users\\Suzy\\anaconda3\\lib\\site-packages\\spacy\\language.py:482: UserWarning: [W030] Some entities could not be aligned in the text \"prepared cannellini beans\" with entities \"[(9, 24, 'PRODUCT')]\". Use `spacy.gold.biluo_tags_from_offsets(nlp.make_doc(text), entities)` to check the alignment. Misaligned entities (with BILUO tag '-') will be ignored during training.\n",
      "  gold = GoldParse(doc, **gold)\n",
      "C:\\Users\\Suzy\\anaconda3\\lib\\site-packages\\spacy\\language.py:482: UserWarning: [W030] Some entities could not be aligned in the text \"ritz everything crackers\" with entities \"[(16, 23, 'PRODUCT')]\". Use `spacy.gold.biluo_tags_from_offsets(nlp.make_doc(text), entities)` to check the alignment. Misaligned entities (with BILUO tag '-') will be ignored during training.\n",
      "  gold = GoldParse(doc, **gold)\n",
      " 74%|█████████████████████████████████████████████████████████▋                    | 1042/1409 [01:19<00:26, 14.03it/s]C:\\Users\\Suzy\\anaconda3\\lib\\site-packages\\spacy\\language.py:482: UserWarning: [W030] Some entities could not be aligned in the text \"clamshell (shimeji) mushrooms trimmed\" with entities \"[(-1, 17, 'PRODUCT')]\". Use `spacy.gold.biluo_tags_from_offsets(nlp.make_doc(text), entities)` to check the alignment. Misaligned entities (with BILUO tag '-') will be ignored during training.\n",
      "  gold = GoldParse(doc, **gold)\n",
      " 74%|█████████████████████████████████████████████████████████▊                    | 1044/1409 [01:19<00:25, 14.56it/s]C:\\Users\\Suzy\\anaconda3\\lib\\site-packages\\spacy\\language.py:482: UserWarning: [W030] Some entities could not be aligned in the text \"large fresh tomatoes peeled and chopped\" with entities \"[(12, 18, 'PRODUCT')]\". Use `spacy.gold.biluo_tags_from_offsets(nlp.make_doc(text), entities)` to check the alignment. Misaligned entities (with BILUO tag '-') will be ignored during training.\n",
      "  gold = GoldParse(doc, **gold)\n",
      "C:\\Users\\Suzy\\anaconda3\\lib\\site-packages\\spacy\\language.py:482: UserWarning: [W030] Some entities could not be aligned in the text \"sliced cherry tomatoes\" with entities \"[(14, 20, 'PRODUCT')]\". Use `spacy.gold.biluo_tags_from_offsets(nlp.make_doc(text), entities)` to check the alignment. Misaligned entities (with BILUO tag '-') will be ignored during training.\n",
      "  gold = GoldParse(doc, **gold)\n",
      " 74%|██████████████████████████████████████████████████████████                    | 1048/1409 [01:20<00:22, 15.76it/s]C:\\Users\\Suzy\\anaconda3\\lib\\site-packages\\spacy\\language.py:482: UserWarning: [W030] Some entities could not be aligned in the text \"least 80%) ground beef\" with entities \"[(-1, 8, 'PRODUCT')]\". Use `spacy.gold.biluo_tags_from_offsets(nlp.make_doc(text), entities)` to check the alignment. Misaligned entities (with BILUO tag '-') will be ignored during training.\n",
      "  gold = GoldParse(doc, **gold)\n",
      " 75%|██████████████████████████████████████████████████████████▏                   | 1052/1409 [01:20<00:22, 15.81it/s]C:\\Users\\Suzy\\anaconda3\\lib\\site-packages\\spacy\\language.py:482: UserWarning: [W030] Some entities could not be aligned in the text \"mashed cooked sweet potatoes\" with entities \"[(14, 26, 'PRODUCT')]\". Use `spacy.gold.biluo_tags_from_offsets(nlp.make_doc(text), entities)` to check the alignment. Misaligned entities (with BILUO tag '-') will be ignored during training.\n",
      "  gold = GoldParse(doc, **gold)\n",
      " 75%|██████████████████████████████████████████████████████████▎                   | 1054/1409 [01:20<00:22, 15.44it/s]C:\\Users\\Suzy\\anaconda3\\lib\\site-packages\\spacy\\language.py:482: UserWarning: [W030] Some entities could not be aligned in the text \"round red chile pepper\" with entities \"[(-1, 12, 'PRODUCT')]\". Use `spacy.gold.biluo_tags_from_offsets(nlp.make_doc(text), entities)` to check the alignment. Misaligned entities (with BILUO tag '-') will be ignored during training.\n",
      "  gold = GoldParse(doc, **gold)\n",
      "C:\\Users\\Suzy\\anaconda3\\lib\\site-packages\\spacy\\language.py:482: UserWarning: [W030] Some entities could not be aligned in the text \"great northern beans drained (optional)\" with entities \"[(6, 19, 'PRODUCT')]\". Use `spacy.gold.biluo_tags_from_offsets(nlp.make_doc(text), entities)` to check the alignment. Misaligned entities (with BILUO tag '-') will be ignored during training.\n",
      "  gold = GoldParse(doc, **gold)\n",
      " 75%|██████████████████████████████████████████████████████████▍                   | 1056/1409 [01:20<00:26, 13.54it/s]C:\\Users\\Suzy\\anaconda3\\lib\\site-packages\\spacy\\language.py:482: UserWarning: [W030] Some entities could not be aligned in the text \"fresh linguini pasta\" with entities \"[(-1, 7, 'PRODUCT')]\". Use `spacy.gold.biluo_tags_from_offsets(nlp.make_doc(text), entities)` to check the alignment. Misaligned entities (with BILUO tag '-') will be ignored during training.\n",
      "  gold = GoldParse(doc, **gold)\n",
      " 75%|██████████████████████████████████████████████████████████▌                   | 1058/1409 [01:20<00:29, 11.73it/s]C:\\Users\\Suzy\\anaconda3\\lib\\site-packages\\spacy\\language.py:482: UserWarning: [W030] Some entities could not be aligned in the text \"nacho cheese dip\" with entities \"[(-1, 11, 'PRODUCT')]\". Use `spacy.gold.biluo_tags_from_offsets(nlp.make_doc(text), entities)` to check the alignment. Misaligned entities (with BILUO tag '-') will be ignored during training.\n",
      "  gold = GoldParse(doc, **gold)\n",
      " 75%|██████████████████████████████████████████████████████████▊                   | 1062/1409 [01:21<00:26, 13.01it/s]C:\\Users\\Suzy\\anaconda3\\lib\\site-packages\\spacy\\language.py:482: UserWarning: [W030] Some entities could not be aligned in the text \"crushed italian tomatoes with liquid\" with entities \"[(16, 22, 'PRODUCT')]\". Use `spacy.gold.biluo_tags_from_offsets(nlp.make_doc(text), entities)` to check the alignment. Misaligned entities (with BILUO tag '-') will be ignored during training.\n",
      "  gold = GoldParse(doc, **gold)\n",
      "C:\\Users\\Suzy\\anaconda3\\lib\\site-packages\\spacy\\language.py:482: UserWarning: [W030] Some entities could not be aligned in the text \"italian-seasoned breadcrumbs\" with entities \"[(-1, 11, 'PRODUCT')]\". Use `spacy.gold.biluo_tags_from_offsets(nlp.make_doc(text), entities)` to check the alignment. Misaligned entities (with BILUO tag '-') will be ignored during training.\n",
      "  gold = GoldParse(doc, **gold)\n"
     ]
    },
    {
     "name": "stderr",
     "output_type": "stream",
     "text": [
      " 76%|██████████████████████████████████████████████████████████▉                   | 1064/1409 [01:21<00:25, 13.44it/s]C:\\Users\\Suzy\\anaconda3\\lib\\site-packages\\spacy\\language.py:482: UserWarning: [W030] Some entities could not be aligned in the text \"reduced sodium black beans drained\" with entities \"[(15, 25, 'PRODUCT')]\". Use `spacy.gold.biluo_tags_from_offsets(nlp.make_doc(text), entities)` to check the alignment. Misaligned entities (with BILUO tag '-') will be ignored during training.\n",
      "  gold = GoldParse(doc, **gold)\n",
      "C:\\Users\\Suzy\\anaconda3\\lib\\site-packages\\spacy\\language.py:482: UserWarning: [W030] Some entities could not be aligned in the text \"skinless boneless chicken cutlets\" with entities \"[(-1, 13, 'PRODUCT')]\". Use `spacy.gold.biluo_tags_from_offsets(nlp.make_doc(text), entities)` to check the alignment. Misaligned entities (with BILUO tag '-') will be ignored during training.\n",
      "  gold = GoldParse(doc, **gold)\n",
      " 76%|███████████████████████████████████████████████████████████                   | 1066/1409 [01:21<00:24, 14.13it/s]C:\\Users\\Suzy\\anaconda3\\lib\\site-packages\\spacy\\language.py:482: UserWarning: [W030] Some entities could not be aligned in the text \"medium green bell pepper\" with entities \"[(-1, 6, 'PRODUCT')]\". Use `spacy.gold.biluo_tags_from_offsets(nlp.make_doc(text), entities)` to check the alignment. Misaligned entities (with BILUO tag '-') will be ignored during training.\n",
      "  gold = GoldParse(doc, **gold)\n",
      " 76%|███████████████████████████████████████████████████████████                   | 1068/1409 [01:21<00:24, 13.77it/s]C:\\Users\\Suzy\\anaconda3\\lib\\site-packages\\spacy\\language.py:482: UserWarning: [W030] Some entities could not be aligned in the text \"garbanzo beans drained\" with entities \"[(0, 13, 'PRODUCT')]\". Use `spacy.gold.biluo_tags_from_offsets(nlp.make_doc(text), entities)` to check the alignment. Misaligned entities (with BILUO tag '-') will be ignored during training.\n",
      "  gold = GoldParse(doc, **gold)\n",
      " 76%|███████████████████████████████████████████████████████████▏                  | 1070/1409 [01:21<00:25, 13.15it/s]C:\\Users\\Suzy\\anaconda3\\lib\\site-packages\\spacy\\language.py:482: UserWarning: [W030] Some entities could not be aligned in the text \"fresh sliced shiitake mushrooms\" with entities \"[(-1, 15, 'PRODUCT')]\". Use `spacy.gold.biluo_tags_from_offsets(nlp.make_doc(text), entities)` to check the alignment. Misaligned entities (with BILUO tag '-') will be ignored during training.\n",
      "  gold = GoldParse(doc, **gold)\n",
      "C:\\Users\\Suzy\\anaconda3\\lib\\site-packages\\spacy\\language.py:482: UserWarning: [W030] Some entities could not be aligned in the text \"skin-on bone-in chicken thighs\" with entities \"[(16, 29, 'PRODUCT')]\". Use `spacy.gold.biluo_tags_from_offsets(nlp.make_doc(text), entities)` to check the alignment. Misaligned entities (with BILUO tag '-') will be ignored during training.\n",
      "  gold = GoldParse(doc, **gold)\n",
      " 76%|███████████████████████████████████████████████████████████▎                  | 1072/1409 [01:21<00:25, 13.47it/s]C:\\Users\\Suzy\\anaconda3\\lib\\site-packages\\spacy\\language.py:482: UserWarning: [W030] Some entities could not be aligned in the text \"garbanzo beans drained liquid reserved\" with entities \"[(0, 13, 'PRODUCT')]\". Use `spacy.gold.biluo_tags_from_offsets(nlp.make_doc(text), entities)` to check the alignment. Misaligned entities (with BILUO tag '-') will be ignored during training.\n",
      "  gold = GoldParse(doc, **gold)\n",
      "C:\\Users\\Suzy\\anaconda3\\lib\\site-packages\\spacy\\language.py:482: UserWarning: [W030] Some entities could not be aligned in the text \"avocados peeled and mashed\" with entities \"[(0, 7, 'PRODUCT')]\". Use `spacy.gold.biluo_tags_from_offsets(nlp.make_doc(text), entities)` to check the alignment. Misaligned entities (with BILUO tag '-') will be ignored during training.\n",
      "  gold = GoldParse(doc, **gold)\n",
      " 77%|███████████████████████████████████████████████████████████▊                  | 1080/1409 [01:22<00:26, 12.47it/s]C:\\Users\\Suzy\\anaconda3\\lib\\site-packages\\spacy\\language.py:482: UserWarning: [W030] Some entities could not be aligned in the text \"sun-dried tomatoes in oil\" with entities \"[(0, 16, 'PRODUCT')]\". Use `spacy.gold.biluo_tags_from_offsets(nlp.make_doc(text), entities)` to check the alignment. Misaligned entities (with BILUO tag '-') will be ignored during training.\n",
      "  gold = GoldParse(doc, **gold)\n",
      " 77%|████████████████████████████████████████████████████████████                  | 1084/1409 [01:22<00:27, 11.92it/s]C:\\Users\\Suzy\\anaconda3\\lib\\site-packages\\spacy\\language.py:482: UserWarning: [W030] Some entities could not be aligned in the text \"roma tomatoes sliced\" with entities \"[(5, 11, 'PRODUCT')]\". Use `spacy.gold.biluo_tags_from_offsets(nlp.make_doc(text), entities)` to check the alignment. Misaligned entities (with BILUO tag '-') will be ignored during training.\n",
      "  gold = GoldParse(doc, **gold)\n",
      " 78%|████████████████████████████████████████████████████████████▍                 | 1092/1409 [01:23<00:23, 13.39it/s]C:\\Users\\Suzy\\anaconda3\\lib\\site-packages\\spacy\\language.py:482: UserWarning: [W030] Some entities could not be aligned in the text \"fresh bean sprouts rinsed and drained\" with entities \"[(6, 17, 'PRODUCT')]\". Use `spacy.gold.biluo_tags_from_offsets(nlp.make_doc(text), entities)` to check the alignment. Misaligned entities (with BILUO tag '-') will be ignored during training.\n",
      "  gold = GoldParse(doc, **gold)\n",
      "C:\\Users\\Suzy\\anaconda3\\lib\\site-packages\\spacy\\language.py:482: UserWarning: [W030] Some entities could not be aligned in the text \"bone-in pork loin chops\" with entities \"[(-1, 8, 'PRODUCT')]\". Use `spacy.gold.biluo_tags_from_offsets(nlp.make_doc(text), entities)` to check the alignment. Misaligned entities (with BILUO tag '-') will be ignored during training.\n",
      "  gold = GoldParse(doc, **gold)\n",
      " 78%|████████████████████████████████████████████████████████████▌                 | 1094/1409 [01:23<00:22, 13.94it/s]C:\\Users\\Suzy\\anaconda3\\lib\\site-packages\\spacy\\language.py:482: UserWarning: [W030] Some entities could not be aligned in the text \"peeled and diced tomatoes juice reserved\" with entities \"[(17, 23, 'PRODUCT')]\". Use `spacy.gold.biluo_tags_from_offsets(nlp.make_doc(text), entities)` to check the alignment. Misaligned entities (with BILUO tag '-') will be ignored during training.\n",
      "  gold = GoldParse(doc, **gold)\n",
      " 78%|████████████████████████████████████████████████████████████▋                 | 1096/1409 [01:23<00:22, 14.19it/s]C:\\Users\\Suzy\\anaconda3\\lib\\site-packages\\spacy\\language.py:482: UserWarning: [W030] Some entities could not be aligned in the text \"medium-width rice stick noodles\" with entities \"[(-1, 11, 'PRODUCT')]\". Use `spacy.gold.biluo_tags_from_offsets(nlp.make_doc(text), entities)` to check the alignment. Misaligned entities (with BILUO tag '-') will be ignored during training.\n",
      "  gold = GoldParse(doc, **gold)\n",
      " 78%|████████████████████████████████████████████████████████████▉                 | 1100/1409 [01:23<00:21, 14.33it/s]C:\\Users\\Suzy\\anaconda3\\lib\\site-packages\\spacy\\language.py:482: UserWarning: [W030] Some entities could not be aligned in the text \"thickly sliced shallots\" with entities \"[(15, 22, 'PRODUCT')]\". Use `spacy.gold.biluo_tags_from_offsets(nlp.make_doc(text), entities)` to check the alignment. Misaligned entities (with BILUO tag '-') will be ignored during training.\n",
      "  gold = GoldParse(doc, **gold)\n",
      " 78%|█████████████████████████████████████████████████████████████                 | 1102/1409 [01:24<00:21, 14.25it/s]C:\\Users\\Suzy\\anaconda3\\lib\\site-packages\\spacy\\language.py:482: UserWarning: [W030] Some entities could not be aligned in the text \"progressoÃ¢Â® cannellini beans drained\" with entities \"[(14, 29, 'PRODUCT')]\". Use `spacy.gold.biluo_tags_from_offsets(nlp.make_doc(text), entities)` to check the alignment. Misaligned entities (with BILUO tag '-') will be ignored during training.\n",
      "  gold = GoldParse(doc, **gold)\n",
      " 78%|█████████████████████████████████████████████████████████████                 | 1104/1409 [01:24<00:21, 14.34it/s]C:\\Users\\Suzy\\anaconda3\\lib\\site-packages\\spacy\\language.py:482: UserWarning: [W030] Some entities could not be aligned in the text \"kabocha squash halved and seeded\" with entities \"[(-1, 13, 'PRODUCT')]\". Use `spacy.gold.biluo_tags_from_offsets(nlp.make_doc(text), entities)` to check the alignment. Misaligned entities (with BILUO tag '-') will be ignored during training.\n",
      "  gold = GoldParse(doc, **gold)\n"
     ]
    },
    {
     "name": "stderr",
     "output_type": "stream",
     "text": [
      " 79%|█████████████████████████████████████████████████████████████▍                | 1110/1409 [01:24<00:19, 15.34it/s]C:\\Users\\Suzy\\anaconda3\\lib\\site-packages\\spacy\\language.py:482: UserWarning: [W030] Some entities could not be aligned in the text \"thinly sliced unpeeled apples\" with entities \"[(23, 28, 'PRODUCT')]\". Use `spacy.gold.biluo_tags_from_offsets(nlp.make_doc(text), entities)` to check the alignment. Misaligned entities (with BILUO tag '-') will be ignored during training.\n",
      "  gold = GoldParse(doc, **gold)\n",
      " 79%|█████████████████████████████████████████████████████████████▉                | 1118/1409 [01:25<00:17, 16.25it/s]C:\\Users\\Suzy\\anaconda3\\lib\\site-packages\\spacy\\language.py:482: UserWarning: [W030] Some entities could not be aligned in the text \"fluid ounce) jigger chocolate liqueur\" with entities \"[(-1, 15, 'PRODUCT')]\". Use `spacy.gold.biluo_tags_from_offsets(nlp.make_doc(text), entities)` to check the alignment. Misaligned entities (with BILUO tag '-') will be ignored during training.\n",
      "  gold = GoldParse(doc, **gold)\n",
      " 79%|██████████████████████████████████████████████████████████████                | 1120/1409 [01:25<00:18, 15.35it/s]C:\\Users\\Suzy\\anaconda3\\lib\\site-packages\\spacy\\language.py:482: UserWarning: [W030] Some entities could not be aligned in the text \"honey-roasted peanuts\" with entities \"[(14, 20, 'PRODUCT')]\". Use `spacy.gold.biluo_tags_from_offsets(nlp.make_doc(text), entities)` to check the alignment. Misaligned entities (with BILUO tag '-') will be ignored during training.\n",
      "  gold = GoldParse(doc, **gold)\n",
      "C:\\Users\\Suzy\\anaconda3\\lib\\site-packages\\spacy\\language.py:482: UserWarning: [W030] Some entities could not be aligned in the text \"chopped seeded plum tomatoes\" with entities \"[(20, 26, 'PRODUCT')]\". Use `spacy.gold.biluo_tags_from_offsets(nlp.make_doc(text), entities)` to check the alignment. Misaligned entities (with BILUO tag '-') will be ignored during training.\n",
      "  gold = GoldParse(doc, **gold)\n",
      " 80%|██████████████████████████████████████████████████████████████                | 1122/1409 [01:25<00:19, 15.09it/s]C:\\Users\\Suzy\\anaconda3\\lib\\site-packages\\spacy\\language.py:482: UserWarning: [W030] Some entities could not be aligned in the text \"chocolate graham crackers\" with entities \"[(10, 24, 'PRODUCT')]\". Use `spacy.gold.biluo_tags_from_offsets(nlp.make_doc(text), entities)` to check the alignment. Misaligned entities (with BILUO tag '-') will be ignored during training.\n",
      "  gold = GoldParse(doc, **gold)\n",
      " 80%|██████████████████████████████████████████████████████████████▎               | 1126/1409 [01:25<00:22, 12.58it/s]C:\\Users\\Suzy\\anaconda3\\lib\\site-packages\\spacy\\language.py:482: UserWarning: [W030] Some entities could not be aligned in the text \"pocketless greek pita breads\" with entities \"[(17, 27, 'PRODUCT')]\". Use `spacy.gold.biluo_tags_from_offsets(nlp.make_doc(text), entities)` to check the alignment. Misaligned entities (with BILUO tag '-') will be ignored during training.\n",
      "  gold = GoldParse(doc, **gold)\n",
      "C:\\Users\\Suzy\\anaconda3\\lib\\site-packages\\spacy\\language.py:482: UserWarning: [W030] Some entities could not be aligned in the text \"plum tomatoes undrained and quartered\" with entities \"[(5, 11, 'PRODUCT')]\". Use `spacy.gold.biluo_tags_from_offsets(nlp.make_doc(text), entities)` to check the alignment. Misaligned entities (with BILUO tag '-') will be ignored during training.\n",
      "  gold = GoldParse(doc, **gold)\n",
      " 80%|██████████████████████████████████████████████████████████████▌               | 1130/1409 [01:26<00:26, 10.71it/s]C:\\Users\\Suzy\\anaconda3\\lib\\site-packages\\spacy\\language.py:482: UserWarning: [W030] Some entities could not be aligned in the text \"large head iceberg\" with entities \"[(-1, 6, 'PRODUCT')]\". Use `spacy.gold.biluo_tags_from_offsets(nlp.make_doc(text), entities)` to check the alignment. Misaligned entities (with BILUO tag '-') will be ignored during training.\n",
      "  gold = GoldParse(doc, **gold)\n",
      " 81%|██████████████████████████████████████████████████████████████▉               | 1136/1409 [01:26<00:29,  9.14it/s]C:\\Users\\Suzy\\anaconda3\\lib\\site-packages\\spacy\\language.py:482: UserWarning: [W030] Some entities could not be aligned in the text \"diced italian tomatoes\" with entities \"[(14, 20, 'PRODUCT')]\". Use `spacy.gold.biluo_tags_from_offsets(nlp.make_doc(text), entities)` to check the alignment. Misaligned entities (with BILUO tag '-') will be ignored during training.\n",
      "  gold = GoldParse(doc, **gold)\n",
      " 81%|███████████████████████████████████████████████████████████████               | 1140/1409 [01:27<00:33,  8.05it/s]C:\\Users\\Suzy\\anaconda3\\lib\\site-packages\\spacy\\language.py:482: UserWarning: [W030] Some entities could not be aligned in the text \"button mushrooms sliced\" with entities \"[(0, 15, 'PRODUCT')]\". Use `spacy.gold.biluo_tags_from_offsets(nlp.make_doc(text), entities)` to check the alignment. Misaligned entities (with BILUO tag '-') will be ignored during training.\n",
      "  gold = GoldParse(doc, **gold)\n",
      " 81%|███████████████████████████████████████████████████████████████▏              | 1141/1409 [01:27<00:32,  8.25it/s]C:\\Users\\Suzy\\anaconda3\\lib\\site-packages\\spacy\\language.py:482: UserWarning: [W030] Some entities could not be aligned in the text \"prepared mini graham cracker pie crusts\" with entities \"[(-1, 11, 'PRODUCT')]\". Use `spacy.gold.biluo_tags_from_offsets(nlp.make_doc(text), entities)` to check the alignment. Misaligned entities (with BILUO tag '-') will be ignored during training.\n",
      "  gold = GoldParse(doc, **gold)\n",
      " 81%|███████████████████████████████████████████████████████████████▏              | 1142/1409 [01:27<00:32,  8.10it/s]C:\\Users\\Suzy\\anaconda3\\lib\\site-packages\\spacy\\language.py:482: UserWarning: [W030] Some entities could not be aligned in the text \"kiwis peeled and sliced\" with entities \"[(0, 4, 'PRODUCT')]\". Use `spacy.gold.biluo_tags_from_offsets(nlp.make_doc(text), entities)` to check the alignment. Misaligned entities (with BILUO tag '-') will be ignored during training.\n",
      "  gold = GoldParse(doc, **gold)\n",
      " 81%|███████████████████████████████████████████████████████████████▍              | 1146/1409 [01:28<00:29,  9.02it/s]C:\\Users\\Suzy\\anaconda3\\lib\\site-packages\\spacy\\language.py:482: UserWarning: [W030] Some entities could not be aligned in the text \"graham cracker pie crust\" with entities \"[(-1, 11, 'PRODUCT')]\". Use `spacy.gold.biluo_tags_from_offsets(nlp.make_doc(text), entities)` to check the alignment. Misaligned entities (with BILUO tag '-') will be ignored during training.\n",
      "  gold = GoldParse(doc, **gold)\n",
      " 81%|███████████████████████████████████████████████████████████████▌              | 1148/1409 [01:28<00:25, 10.25it/s]C:\\Users\\Suzy\\anaconda3\\lib\\site-packages\\spacy\\language.py:482: UserWarning: [W030] Some entities could not be aligned in the text \"tart apples cored and chopped\" with entities \"[(5, 10, 'PRODUCT')]\". Use `spacy.gold.biluo_tags_from_offsets(nlp.make_doc(text), entities)` to check the alignment. Misaligned entities (with BILUO tag '-') will be ignored during training.\n",
      "  gold = GoldParse(doc, **gold)\n",
      " 82%|███████████████████████████████████████████████████████████████▊              | 1152/1409 [01:28<00:21, 11.91it/s]C:\\Users\\Suzy\\anaconda3\\lib\\site-packages\\spacy\\language.py:482: UserWarning: [W030] Some entities could not be aligned in the text \"uncooked bow tie pasta\" with entities \"[(-1, 7, 'PRODUCT')]\". Use `spacy.gold.biluo_tags_from_offsets(nlp.make_doc(text), entities)` to check the alignment. Misaligned entities (with BILUO tag '-') will be ignored during training.\n",
      "  gold = GoldParse(doc, **gold)\n",
      " 82%|████████████████████████████████████████████████████████████████              | 1158/1409 [01:28<00:18, 13.79it/s]C:\\Users\\Suzy\\anaconda3\\lib\\site-packages\\spacy\\language.py:482: UserWarning: [W030] Some entities could not be aligned in the text \"small avocados flesh removed\" with entities \"[(6, 13, 'PRODUCT')]\". Use `spacy.gold.biluo_tags_from_offsets(nlp.make_doc(text), entities)` to check the alignment. Misaligned entities (with BILUO tag '-') will be ignored during training.\n",
      "  gold = GoldParse(doc, **gold)\n"
     ]
    },
    {
     "name": "stderr",
     "output_type": "stream",
     "text": [
      " 82%|████████████████████████████████████████████████████████████████▏             | 1160/1409 [01:29<00:18, 13.82it/s]C:\\Users\\Suzy\\anaconda3\\lib\\site-packages\\spacy\\language.py:482: UserWarning: [W030] Some entities could not be aligned in the text \"small tomatoes cut into wedges\" with entities \"[(6, 12, 'PRODUCT')]\". Use `spacy.gold.biluo_tags_from_offsets(nlp.make_doc(text), entities)` to check the alignment. Misaligned entities (with BILUO tag '-') will be ignored during training.\n",
      "  gold = GoldParse(doc, **gold)\n",
      " 83%|████████████████████████████████████████████████████████████████▍             | 1164/1409 [01:29<00:21, 11.30it/s]C:\\Users\\Suzy\\anaconda3\\lib\\site-packages\\spacy\\language.py:482: UserWarning: [W030] Some entities could not be aligned in the text \"julienned green bell pepper\" with entities \"[(-1, 6, 'PRODUCT')]\". Use `spacy.gold.biluo_tags_from_offsets(nlp.make_doc(text), entities)` to check the alignment. Misaligned entities (with BILUO tag '-') will be ignored during training.\n",
      "  gold = GoldParse(doc, **gold)\n",
      "C:\\Users\\Suzy\\anaconda3\\lib\\site-packages\\spacy\\language.py:482: UserWarning: [W030] Some entities could not be aligned in the text \"red kidney beans drained and rinsed\" with entities \"[(4, 15, 'PRODUCT')]\". Use `spacy.gold.biluo_tags_from_offsets(nlp.make_doc(text), entities)` to check the alignment. Misaligned entities (with BILUO tag '-') will be ignored during training.\n",
      "  gold = GoldParse(doc, **gold)\n",
      " 83%|████████████████████████████████████████████████████████████████▌             | 1166/1409 [01:29<00:22, 11.00it/s]C:\\Users\\Suzy\\anaconda3\\lib\\site-packages\\spacy\\language.py:482: UserWarning: [W030] Some entities could not be aligned in the text \"honey maid graham pie crusts\" with entities \"[(-1, 11, 'PRODUCT')]\". Use `spacy.gold.biluo_tags_from_offsets(nlp.make_doc(text), entities)` to check the alignment. Misaligned entities (with BILUO tag '-') will be ignored during training.\n",
      "  gold = GoldParse(doc, **gold)\n",
      "C:\\Users\\Suzy\\anaconda3\\lib\\site-packages\\spacy\\language.py:482: UserWarning: [W030] Some entities could not be aligned in the text \"italian stewed tomatoes\" with entities \"[(15, 21, 'PRODUCT')]\". Use `spacy.gold.biluo_tags_from_offsets(nlp.make_doc(text), entities)` to check the alignment. Misaligned entities (with BILUO tag '-') will be ignored during training.\n",
      "  gold = GoldParse(doc, **gold)\n",
      " 83%|████████████████████████████████████████████████████████████████▋             | 1168/1409 [01:29<00:20, 11.52it/s]C:\\Users\\Suzy\\anaconda3\\lib\\site-packages\\spacy\\language.py:482: UserWarning: [W030] Some entities could not be aligned in the text \"barillaÃ¢Â® marinara sauce\" with entities \"[(-1, 11, 'PRODUCT')]\". Use `spacy.gold.biluo_tags_from_offsets(nlp.make_doc(text), entities)` to check the alignment. Misaligned entities (with BILUO tag '-') will be ignored during training.\n",
      "  gold = GoldParse(doc, **gold)\n",
      " 83%|████████████████████████████████████████████████████████████████▉             | 1172/1409 [01:30<00:23, 10.09it/s]C:\\Users\\Suzy\\anaconda3\\lib\\site-packages\\spacy\\language.py:482: UserWarning: [W030] Some entities could not be aligned in the text \"lean ground beef (optional)\" with entities \"[(-1, 8, 'PRODUCT')]\". Use `spacy.gold.biluo_tags_from_offsets(nlp.make_doc(text), entities)` to check the alignment. Misaligned entities (with BILUO tag '-') will be ignored during training.\n",
      "  gold = GoldParse(doc, **gold)\n",
      " 83%|████████████████████████████████████████████████████████████████▉             | 1174/1409 [01:30<00:27,  8.50it/s]C:\\Users\\Suzy\\anaconda3\\lib\\site-packages\\spacy\\language.py:482: UserWarning: [W030] Some entities could not be aligned in the text \"chopped green onions for garnish\" with entities \"[(8, 19, 'PRODUCT')]\". Use `spacy.gold.biluo_tags_from_offsets(nlp.make_doc(text), entities)` to check the alignment. Misaligned entities (with BILUO tag '-') will be ignored during training.\n",
      "  gold = GoldParse(doc, **gold)\n",
      " 83%|█████████████████████████████████████████████████████████████████             | 1175/1409 [01:30<00:28,  8.26it/s]C:\\Users\\Suzy\\anaconda3\\lib\\site-packages\\spacy\\language.py:482: UserWarning: [W030] Some entities could not be aligned in the text \"diced roasted red pepper\" with entities \"[(-1, 6, 'PRODUCT')]\". Use `spacy.gold.biluo_tags_from_offsets(nlp.make_doc(text), entities)` to check the alignment. Misaligned entities (with BILUO tag '-') will be ignored during training.\n",
      "  gold = GoldParse(doc, **gold)\n",
      " 84%|█████████████████████████████████████████████████████████████████▎            | 1180/1409 [01:31<00:24,  9.23it/s]C:\\Users\\Suzy\\anaconda3\\lib\\site-packages\\spacy\\language.py:482: UserWarning: [W030] Some entities could not be aligned in the text \"bella mushrooms sliced into thirds\" with entities \"[(-1, 18, 'PRODUCT')]\". Use `spacy.gold.biluo_tags_from_offsets(nlp.make_doc(text), entities)` to check the alignment. Misaligned entities (with BILUO tag '-') will be ignored during training.\n",
      "  gold = GoldParse(doc, **gold)\n",
      " 84%|█████████████████████████████████████████████████████████████████▍            | 1182/1409 [01:31<00:22,  9.92it/s]C:\\Users\\Suzy\\anaconda3\\lib\\site-packages\\spacy\\language.py:482: UserWarning: [W030] Some entities could not be aligned in the text \"hard-boiled eggs chopped\" with entities \"[(12, 15, 'PRODUCT')]\". Use `spacy.gold.biluo_tags_from_offsets(nlp.make_doc(text), entities)` to check the alignment. Misaligned entities (with BILUO tag '-') will be ignored during training.\n",
      "  gold = GoldParse(doc, **gold)\n",
      " 84%|█████████████████████████████████████████████████████████████████▌            | 1184/1409 [01:31<00:22, 10.14it/s]C:\\Users\\Suzy\\anaconda3\\lib\\site-packages\\spacy\\language.py:482: UserWarning: [W030] Some entities could not be aligned in the text \"plum tomatoes diced\" with entities \"[(5, 11, 'PRODUCT')]\". Use `spacy.gold.biluo_tags_from_offsets(nlp.make_doc(text), entities)` to check the alignment. Misaligned entities (with BILUO tag '-') will be ignored during training.\n",
      "  gold = GoldParse(doc, **gold)\n",
      "C:\\Users\\Suzy\\anaconda3\\lib\\site-packages\\spacy\\language.py:482: UserWarning: [W030] Some entities could not be aligned in the text \"refrigerated large flaky layer biscuits\" with entities \"[(31, 38, 'PRODUCT')]\". Use `spacy.gold.biluo_tags_from_offsets(nlp.make_doc(text), entities)` to check the alignment. Misaligned entities (with BILUO tag '-') will be ignored during training.\n",
      "  gold = GoldParse(doc, **gold)\n",
      " 85%|█████████████████████████████████████████████████████████████████▉            | 1192/1409 [01:32<00:19, 11.01it/s]C:\\Users\\Suzy\\anaconda3\\lib\\site-packages\\spacy\\language.py:482: UserWarning: [W030] Some entities could not be aligned in the text \"crackers\" with entities \"[(0, 7, 'PRODUCT')]\". Use `spacy.gold.biluo_tags_from_offsets(nlp.make_doc(text), entities)` to check the alignment. Misaligned entities (with BILUO tag '-') will be ignored during training.\n",
      "  gold = GoldParse(doc, **gold)\n",
      " 85%|██████████████████████████████████████████████████████████████████            | 1194/1409 [01:32<00:17, 12.56it/s]C:\\Users\\Suzy\\anaconda3\\lib\\site-packages\\spacy\\language.py:482: UserWarning: [W030] Some entities could not be aligned in the text \"mangos\" with entities \"[(0, 5, 'PRODUCT')]\". Use `spacy.gold.biluo_tags_from_offsets(nlp.make_doc(text), entities)` to check the alignment. Misaligned entities (with BILUO tag '-') will be ignored during training.\n",
      "  gold = GoldParse(doc, **gold)\n",
      " 85%|██████████████████████████████████████████████████████████████████▍           | 1200/1409 [01:32<00:15, 13.55it/s]C:\\Users\\Suzy\\anaconda3\\lib\\site-packages\\spacy\\language.py:482: UserWarning: [W030] Some entities could not be aligned in the text \"butterscotch caramel ice cream topping\" with entities \"[(-1, 17, 'PRODUCT')]\". Use `spacy.gold.biluo_tags_from_offsets(nlp.make_doc(text), entities)` to check the alignment. Misaligned entities (with BILUO tag '-') will be ignored during training.\n",
      "  gold = GoldParse(doc, **gold)\n",
      " 85%|██████████████████████████████████████████████████████████████████▋           | 1204/1409 [01:33<00:14, 14.45it/s]C:\\Users\\Suzy\\anaconda3\\lib\\site-packages\\spacy\\language.py:482: UserWarning: [W030] Some entities could not be aligned in the text \"head broccoli broken into small florets\" with entities \"[(-1, 13, 'PRODUCT')]\". Use `spacy.gold.biluo_tags_from_offsets(nlp.make_doc(text), entities)` to check the alignment. Misaligned entities (with BILUO tag '-') will be ignored during training.\n",
      "  gold = GoldParse(doc, **gold)\n"
     ]
    },
    {
     "name": "stderr",
     "output_type": "stream",
     "text": [
      "C:\\Users\\Suzy\\anaconda3\\lib\\site-packages\\spacy\\language.py:482: UserWarning: [W030] Some entities could not be aligned in the text \"medium purple potatoes\" with entities \"[(14, 20, 'PRODUCT')]\". Use `spacy.gold.biluo_tags_from_offsets(nlp.make_doc(text), entities)` to check the alignment. Misaligned entities (with BILUO tag '-') will be ignored during training.\n",
      "  gold = GoldParse(doc, **gold)\n",
      " 86%|███████████████████████████████████████████████████████████████████           | 1212/1409 [01:33<00:14, 13.86it/s]C:\\Users\\Suzy\\anaconda3\\lib\\site-packages\\spacy\\language.py:482: UserWarning: [W030] Some entities could not be aligned in the text \"cooking apples such as mcintosh\" with entities \"[(8, 13, 'PRODUCT')]\". Use `spacy.gold.biluo_tags_from_offsets(nlp.make_doc(text), entities)` to check the alignment. Misaligned entities (with BILUO tag '-') will be ignored during training.\n",
      "  gold = GoldParse(doc, **gold)\n",
      " 86%|███████████████████████████████████████████████████████████████████▏          | 1214/1409 [01:33<00:14, 13.11it/s]C:\\Users\\Suzy\\anaconda3\\lib\\site-packages\\spacy\\language.py:482: UserWarning: [W030] Some entities could not be aligned in the text \"sliced black olives rinsed and drained\" with entities \"[(13, 18, 'PRODUCT')]\". Use `spacy.gold.biluo_tags_from_offsets(nlp.make_doc(text), entities)` to check the alignment. Misaligned entities (with BILUO tag '-') will be ignored during training.\n",
      "  gold = GoldParse(doc, **gold)\n",
      " 86%|███████████████████████████████████████████████████████████████████▍          | 1218/1409 [01:34<00:14, 13.36it/s]C:\\Users\\Suzy\\anaconda3\\lib\\site-packages\\spacy\\language.py:482: UserWarning: [W030] Some entities could not be aligned in the text \"dried shiitake mushrooms\" with entities \"[(-1, 15, 'PRODUCT')]\". Use `spacy.gold.biluo_tags_from_offsets(nlp.make_doc(text), entities)` to check the alignment. Misaligned entities (with BILUO tag '-') will be ignored during training.\n",
      "  gold = GoldParse(doc, **gold)\n",
      " 87%|███████████████████████████████████████████████████████████████████▌          | 1220/1409 [01:34<00:14, 13.26it/s]C:\\Users\\Suzy\\anaconda3\\lib\\site-packages\\spacy\\language.py:482: UserWarning: [W030] Some entities could not be aligned in the text \"plum tomatoes cored and chopped\" with entities \"[(5, 11, 'PRODUCT')]\". Use `spacy.gold.biluo_tags_from_offsets(nlp.make_doc(text), entities)` to check the alignment. Misaligned entities (with BILUO tag '-') will be ignored during training.\n",
      "  gold = GoldParse(doc, **gold)\n",
      " 87%|███████████████████████████████████████████████████████████████████▊          | 1224/1409 [01:34<00:13, 13.98it/s]C:\\Users\\Suzy\\anaconda3\\lib\\site-packages\\spacy\\language.py:482: UserWarning: [W030] Some entities could not be aligned in the text \"beef sweetbreads\" with entities \"[(0, 15, 'PRODUCT')]\". Use `spacy.gold.biluo_tags_from_offsets(nlp.make_doc(text), entities)` to check the alignment. Misaligned entities (with BILUO tag '-') will be ignored during training.\n",
      "  gold = GoldParse(doc, **gold)\n",
      " 87%|████████████████████████████████████████████████████████████████████▏         | 1232/1409 [01:35<00:14, 12.27it/s]C:\\Users\\Suzy\\anaconda3\\lib\\site-packages\\spacy\\language.py:482: UserWarning: [W030] Some entities could not be aligned in the text \"bag frozen mixed vegetables\" with entities \"[(17, 26, 'PRODUCT')]\". Use `spacy.gold.biluo_tags_from_offsets(nlp.make_doc(text), entities)` to check the alignment. Misaligned entities (with BILUO tag '-') will be ignored during training.\n",
      "  gold = GoldParse(doc, **gold)\n",
      "C:\\Users\\Suzy\\anaconda3\\lib\\site-packages\\spacy\\language.py:482: UserWarning: [W030] Some entities could not be aligned in the text \"king trumpet mushrooms cut into chunks\" with entities \"[(5, 21, 'PRODUCT')]\". Use `spacy.gold.biluo_tags_from_offsets(nlp.make_doc(text), entities)` to check the alignment. Misaligned entities (with BILUO tag '-') will be ignored during training.\n",
      "  gold = GoldParse(doc, **gold)\n",
      " 88%|████████████████████████████████████████████████████████████████████▎         | 1234/1409 [01:35<00:14, 12.38it/s]C:\\Users\\Suzy\\anaconda3\\lib\\site-packages\\spacy\\language.py:482: UserWarning: [W030] Some entities could not be aligned in the text \"tomatoes seeded and sliced\" with entities \"[(0, 6, 'PRODUCT')]\". Use `spacy.gold.biluo_tags_from_offsets(nlp.make_doc(text), entities)` to check the alignment. Misaligned entities (with BILUO tag '-') will be ignored during training.\n",
      "  gold = GoldParse(doc, **gold)\n",
      " 88%|████████████████████████████████████████████████████████████████████▋         | 1240/1409 [01:35<00:13, 12.93it/s]C:\\Users\\Suzy\\anaconda3\\lib\\site-packages\\spacy\\language.py:482: UserWarning: [W030] Some entities could not be aligned in the text \"quarts green tomatoes minced\" with entities \"[(7, 19, 'PRODUCT')]\". Use `spacy.gold.biluo_tags_from_offsets(nlp.make_doc(text), entities)` to check the alignment. Misaligned entities (with BILUO tag '-') will be ignored during training.\n",
      "  gold = GoldParse(doc, **gold)\n",
      " 88%|████████████████████████████████████████████████████████████████████▊         | 1242/1409 [01:35<00:12, 13.51it/s]C:\\Users\\Suzy\\anaconda3\\lib\\site-packages\\spacy\\language.py:482: UserWarning: [W030] Some entities could not be aligned in the text \"large button mushrooms sliced\" with entities \"[(6, 21, 'PRODUCT')]\". Use `spacy.gold.biluo_tags_from_offsets(nlp.make_doc(text), entities)` to check the alignment. Misaligned entities (with BILUO tag '-') will be ignored during training.\n",
      "  gold = GoldParse(doc, **gold)\n",
      " 88%|████████████████████████████████████████████████████████████████████▊         | 1244/1409 [01:36<00:12, 13.36it/s]C:\\Users\\Suzy\\anaconda3\\lib\\site-packages\\spacy\\language.py:482: UserWarning: [W030] Some entities could not be aligned in the text \"vegan semi-sweet chocolate chips\" with entities \"[(-1, 14, 'PRODUCT')]\". Use `spacy.gold.biluo_tags_from_offsets(nlp.make_doc(text), entities)` to check the alignment. Misaligned entities (with BILUO tag '-') will be ignored during training.\n",
      "  gold = GoldParse(doc, **gold)\n",
      "C:\\Users\\Suzy\\anaconda3\\lib\\site-packages\\spacy\\language.py:482: UserWarning: [W030] Some entities could not be aligned in the text \"sweet yellow onion (such as vidaliaÃ¢Â®)\" with entities \"[(-1, 12, 'PRODUCT')]\". Use `spacy.gold.biluo_tags_from_offsets(nlp.make_doc(text), entities)` to check the alignment. Misaligned entities (with BILUO tag '-') will be ignored during training.\n",
      "  gold = GoldParse(doc, **gold)\n",
      " 88%|████████████████████████████████████████████████████████████████████▉         | 1246/1409 [01:36<00:13, 12.03it/s]C:\\Users\\Suzy\\anaconda3\\lib\\site-packages\\spacy\\language.py:482: UserWarning: [W030] Some entities could not be aligned in the text \"beef cube steaks\" with entities \"[(-1, 8, 'PRODUCT')]\". Use `spacy.gold.biluo_tags_from_offsets(nlp.make_doc(text), entities)` to check the alignment. Misaligned entities (with BILUO tag '-') will be ignored during training.\n",
      "  gold = GoldParse(doc, **gold)\n",
      " 89%|█████████████████████████████████████████████████████████████████████         | 1248/1409 [01:36<00:12, 12.86it/s]C:\\Users\\Suzy\\anaconda3\\lib\\site-packages\\spacy\\language.py:482: UserWarning: [W030] Some entities could not be aligned in the text \"peeled tomatoes undrained and chopped\" with entities \"[(7, 13, 'PRODUCT')]\". Use `spacy.gold.biluo_tags_from_offsets(nlp.make_doc(text), entities)` to check the alignment. Misaligned entities (with BILUO tag '-') will be ignored during training.\n",
      "  gold = GoldParse(doc, **gold)\n",
      " 89%|█████████████████████████████████████████████████████████████████████▎        | 1252/1409 [01:36<00:12, 12.92it/s]C:\\Users\\Suzy\\anaconda3\\lib\\site-packages\\spacy\\language.py:482: UserWarning: [W030] Some entities could not be aligned in the text \"stewed tomatoes drained and sliced\" with entities \"[(7, 13, 'PRODUCT')]\". Use `spacy.gold.biluo_tags_from_offsets(nlp.make_doc(text), entities)` to check the alignment. Misaligned entities (with BILUO tag '-') will be ignored during training.\n",
      "  gold = GoldParse(doc, **gold)\n",
      " 89%|█████████████████████████████████████████████████████████████████████▍        | 1254/1409 [01:36<00:12, 12.35it/s]C:\\Users\\Suzy\\anaconda3\\lib\\site-packages\\spacy\\language.py:482: UserWarning: [W030] Some entities could not be aligned in the text \"shredded pepper jack\" with entities \"[(-1, 17, 'PRODUCT')]\". Use `spacy.gold.biluo_tags_from_offsets(nlp.make_doc(text), entities)` to check the alignment. Misaligned entities (with BILUO tag '-') will be ignored during training.\n",
      "  gold = GoldParse(doc, **gold)\n"
     ]
    },
    {
     "name": "stderr",
     "output_type": "stream",
     "text": [
      " 89%|█████████████████████████████████████████████████████████████████████▋        | 1258/1409 [01:37<00:12, 11.96it/s]C:\\Users\\Suzy\\anaconda3\\lib\\site-packages\\spacy\\language.py:482: UserWarning: [W030] Some entities could not be aligned in the text \"individual packages graham crackers\" with entities \"[(20, 34, 'PRODUCT')]\". Use `spacy.gold.biluo_tags_from_offsets(nlp.make_doc(text), entities)` to check the alignment. Misaligned entities (with BILUO tag '-') will be ignored during training.\n",
      "  gold = GoldParse(doc, **gold)\n",
      " 89%|█████████████████████████████████████████████████████████████████████▊        | 1260/1409 [01:37<00:12, 11.55it/s]C:\\Users\\Suzy\\anaconda3\\lib\\site-packages\\spacy\\language.py:482: UserWarning: [W030] Some entities could not be aligned in the text \"pepperoncini sliced\" with entities \"[(-1, 10, 'PRODUCT')]\". Use `spacy.gold.biluo_tags_from_offsets(nlp.make_doc(text), entities)` to check the alignment. Misaligned entities (with BILUO tag '-') will be ignored during training.\n",
      "  gold = GoldParse(doc, **gold)\n",
      " 90%|█████████████████████████████████████████████████████████████████████▉        | 1264/1409 [01:37<00:12, 11.99it/s]C:\\Users\\Suzy\\anaconda3\\lib\\site-packages\\spacy\\language.py:482: UserWarning: [W030] Some entities could not be aligned in the text \"gallon coffee ice cream softened\" with entities \"[(14, 18, 'PRODUCT')]\". Use `spacy.gold.biluo_tags_from_offsets(nlp.make_doc(text), entities)` to check the alignment. Misaligned entities (with BILUO tag '-') will be ignored during training.\n",
      "  gold = GoldParse(doc, **gold)\n",
      " 90%|██████████████████████████████████████████████████████████████████████        | 1266/1409 [01:37<00:11, 11.92it/s]C:\\Users\\Suzy\\anaconda3\\lib\\site-packages\\spacy\\language.py:482: UserWarning: [W030] Some entities could not be aligned in the text \"fresh shiitake mushrooms diced\" with entities \"[(-1, 15, 'PRODUCT')]\". Use `spacy.gold.biluo_tags_from_offsets(nlp.make_doc(text), entities)` to check the alignment. Misaligned entities (with BILUO tag '-') will be ignored during training.\n",
      "  gold = GoldParse(doc, **gold)\n",
      " 90%|██████████████████████████████████████████████████████████████████████▌       | 1274/1409 [01:38<00:11, 11.74it/s]C:\\Users\\Suzy\\anaconda3\\lib\\site-packages\\spacy\\language.py:482: UserWarning: [W030] Some entities could not be aligned in the text \"dried wood ear mushrooms\" with entities \"[(6, 23, 'PRODUCT')]\". Use `spacy.gold.biluo_tags_from_offsets(nlp.make_doc(text), entities)` to check the alignment. Misaligned entities (with BILUO tag '-') will be ignored during training.\n",
      "  gold = GoldParse(doc, **gold)\n",
      " 91%|██████████████████████████████████████████████████████████████████████▋       | 1278/1409 [01:38<00:11, 11.50it/s]C:\\Users\\Suzy\\anaconda3\\lib\\site-packages\\spacy\\language.py:482: UserWarning: [W030] Some entities could not be aligned in the text \"lean beef stew meat\" with entities \"[(-1, 8, 'PRODUCT')]\". Use `spacy.gold.biluo_tags_from_offsets(nlp.make_doc(text), entities)` to check the alignment. Misaligned entities (with BILUO tag '-') will be ignored during training.\n",
      "  gold = GoldParse(doc, **gold)\n",
      " 92%|███████████████████████████████████████████████████████████████████████▍      | 1290/1409 [01:40<00:12,  9.69it/s]C:\\Users\\Suzy\\anaconda3\\lib\\site-packages\\spacy\\language.py:482: UserWarning: [W030] Some entities could not be aligned in the text \"ripe plum tomatoes\" with entities \"[(10, 16, 'PRODUCT')]\". Use `spacy.gold.biluo_tags_from_offsets(nlp.make_doc(text), entities)` to check the alignment. Misaligned entities (with BILUO tag '-') will be ignored during training.\n",
      "  gold = GoldParse(doc, **gold)\n",
      " 92%|███████████████████████████████████████████████████████████████████████▌      | 1292/1409 [01:40<00:11,  9.82it/s]C:\\Users\\Suzy\\anaconda3\\lib\\site-packages\\spacy\\language.py:482: UserWarning: [W030] Some entities could not be aligned in the text \"seeded and chopped roma tomatoes\" with entities \"[(24, 30, 'PRODUCT')]\". Use `spacy.gold.biluo_tags_from_offsets(nlp.make_doc(text), entities)` to check the alignment. Misaligned entities (with BILUO tag '-') will be ignored during training.\n",
      "  gold = GoldParse(doc, **gold)\n",
      " 92%|███████████████████████████████████████████████████████████████████████▋      | 1295/1409 [01:40<00:12,  9.42it/s]C:\\Users\\Suzy\\anaconda3\\lib\\site-packages\\spacy\\language.py:482: UserWarning: [W030] Some entities could not be aligned in the text \"caramel apple dip\" with entities \"[(-1, 10, 'PRODUCT')]\". Use `spacy.gold.biluo_tags_from_offsets(nlp.make_doc(text), entities)` to check the alignment. Misaligned entities (with BILUO tag '-') will be ignored during training.\n",
      "  gold = GoldParse(doc, **gold)\n",
      " 92%|███████████████████████████████████████████████████████████████████████▊      | 1297/1409 [01:40<00:10, 10.33it/s]C:\\Users\\Suzy\\anaconda3\\lib\\site-packages\\spacy\\language.py:482: UserWarning: [W030] Some entities could not be aligned in the text \"anaheim (new mexico) chile pepper\" with entities \"[(-1, 12, 'PRODUCT')]\". Use `spacy.gold.biluo_tags_from_offsets(nlp.make_doc(text), entities)` to check the alignment. Misaligned entities (with BILUO tag '-') will be ignored during training.\n",
      "  gold = GoldParse(doc, **gold)\n",
      " 92%|███████████████████████████████████████████████████████████████████████▉      | 1299/1409 [01:41<00:10, 10.83it/s]C:\\Users\\Suzy\\anaconda3\\lib\\site-packages\\spacy\\language.py:482: UserWarning: [W030] Some entities could not be aligned in the text \"fresh tomatoes peeled seeded and chopped\" with entities \"[(6, 12, 'PRODUCT')]\". Use `spacy.gold.biluo_tags_from_offsets(nlp.make_doc(text), entities)` to check the alignment. Misaligned entities (with BILUO tag '-') will be ignored during training.\n",
      "  gold = GoldParse(doc, **gold)\n",
      " 92%|████████████████████████████████████████████████████████████████████████▏     | 1303/1409 [01:41<00:08, 11.87it/s]C:\\Users\\Suzy\\anaconda3\\lib\\site-packages\\spacy\\language.py:482: UserWarning: [W030] Some entities could not be aligned in the text \"tomatoes chopped and juices strained\" with entities \"[(0, 6, 'PRODUCT')]\". Use `spacy.gold.biluo_tags_from_offsets(nlp.make_doc(text), entities)` to check the alignment. Misaligned entities (with BILUO tag '-') will be ignored during training.\n",
      "  gold = GoldParse(doc, **gold)\n",
      "C:\\Users\\Suzy\\anaconda3\\lib\\site-packages\\spacy\\language.py:482: UserWarning: [W030] Some entities could not be aligned in the text \"sun-dried tomatoes sliced\" with entities \"[(0, 16, 'PRODUCT')]\". Use `spacy.gold.biluo_tags_from_offsets(nlp.make_doc(text), entities)` to check the alignment. Misaligned entities (with BILUO tag '-') will be ignored during training.\n",
      "  gold = GoldParse(doc, **gold)\n",
      " 93%|████████████████████████████████████████████████████████████████████████▏     | 1305/1409 [01:41<00:08, 11.76it/s]C:\\Users\\Suzy\\anaconda3\\lib\\site-packages\\spacy\\language.py:482: UserWarning: [W030] Some entities could not be aligned in the text \"inch thick) boneless pork chops\" with entities \"[(21, 30, 'PRODUCT')]\". Use `spacy.gold.biluo_tags_from_offsets(nlp.make_doc(text), entities)` to check the alignment. Misaligned entities (with BILUO tag '-') will be ignored during training.\n",
      "  gold = GoldParse(doc, **gold)\n",
      " 93%|████████████████████████████████████████████████████████████████████████▍     | 1309/1409 [01:41<00:08, 11.53it/s]C:\\Users\\Suzy\\anaconda3\\lib\\site-packages\\spacy\\language.py:482: UserWarning: [W030] Some entities could not be aligned in the text \"gumdrops no black ones\" with entities \"[(0, 7, 'PRODUCT')]\". Use `spacy.gold.biluo_tags_from_offsets(nlp.make_doc(text), entities)` to check the alignment. Misaligned entities (with BILUO tag '-') will be ignored during training.\n",
      "  gold = GoldParse(doc, **gold)\n",
      " 94%|█████████████████████████████████████████████████████████████████████████▏    | 1321/1409 [01:43<00:11,  7.41it/s]C:\\Users\\Suzy\\anaconda3\\lib\\site-packages\\spacy\\language.py:482: UserWarning: [W030] Some entities could not be aligned in the text \"chicken gumbo soup\" with entities \"[(-1, 11, 'PRODUCT')]\". Use `spacy.gold.biluo_tags_from_offsets(nlp.make_doc(text), entities)` to check the alignment. Misaligned entities (with BILUO tag '-') will be ignored during training.\n",
      "  gold = GoldParse(doc, **gold)\n"
     ]
    },
    {
     "name": "stderr",
     "output_type": "stream",
     "text": [
      " 94%|█████████████████████████████████████████████████████████████████████████▏    | 1322/1409 [01:43<00:11,  7.44it/s]C:\\Users\\Suzy\\anaconda3\\lib\\site-packages\\spacy\\language.py:482: UserWarning: [W030] Some entities could not be aligned in the text \"bag pork rinds\" with entities \"[(4, 13, 'PRODUCT')]\". Use `spacy.gold.biluo_tags_from_offsets(nlp.make_doc(text), entities)` to check the alignment. Misaligned entities (with BILUO tag '-') will be ignored during training.\n",
      "  gold = GoldParse(doc, **gold)\n",
      " 94%|█████████████████████████████████████████████████████████████████████████▏    | 1323/1409 [01:43<00:10,  7.93it/s]C:\\Users\\Suzy\\anaconda3\\lib\\site-packages\\spacy\\language.py:482: UserWarning: [W030] Some entities could not be aligned in the text \"small green bell pepper\" with entities \"[(-1, 6, 'PRODUCT')]\". Use `spacy.gold.biluo_tags_from_offsets(nlp.make_doc(text), entities)` to check the alignment. Misaligned entities (with BILUO tag '-') will be ignored during training.\n",
      "  gold = GoldParse(doc, **gold)\n",
      " 94%|█████████████████████████████████████████████████████████████████████████▎    | 1325/1409 [01:43<00:10,  8.15it/s]C:\\Users\\Suzy\\anaconda3\\lib\\site-packages\\spacy\\language.py:482: UserWarning: [W030] Some entities could not be aligned in the text \"tomatoes sliced\" with entities \"[(0, 6, 'PRODUCT')]\". Use `spacy.gold.biluo_tags_from_offsets(nlp.make_doc(text), entities)` to check the alignment. Misaligned entities (with BILUO tag '-') will be ignored during training.\n",
      "  gold = GoldParse(doc, **gold)\n",
      " 94%|█████████████████████████████████████████████████████████████████████████▌    | 1328/1409 [01:44<00:09,  8.58it/s]C:\\Users\\Suzy\\anaconda3\\lib\\site-packages\\spacy\\language.py:482: UserWarning: [W030] Some entities could not be aligned in the text \"quart blackberries\" with entities \"[(-1, 9, 'PRODUCT')]\". Use `spacy.gold.biluo_tags_from_offsets(nlp.make_doc(text), entities)` to check the alignment. Misaligned entities (with BILUO tag '-') will be ignored during training.\n",
      "  gold = GoldParse(doc, **gold)\n",
      " 94%|█████████████████████████████████████████████████████████████████████████▋    | 1330/1409 [01:44<00:08,  9.41it/s]C:\\Users\\Suzy\\anaconda3\\lib\\site-packages\\spacy\\language.py:482: UserWarning: [W030] Some entities could not be aligned in the text \"french style green beans trimmed\" with entities \"[(13, 23, 'PRODUCT')]\". Use `spacy.gold.biluo_tags_from_offsets(nlp.make_doc(text), entities)` to check the alignment. Misaligned entities (with BILUO tag '-') will be ignored during training.\n",
      "  gold = GoldParse(doc, **gold)\n",
      " 95%|█████████████████████████████████████████████████████████████████████████▋    | 1332/1409 [01:44<00:07, 10.28it/s]C:\\Users\\Suzy\\anaconda3\\lib\\site-packages\\spacy\\language.py:482: UserWarning: [W030] Some entities could not be aligned in the text \"uncooked pasta of your choice\" with entities \"[(9, 13, 'PRODUCT')]\". Use `spacy.gold.biluo_tags_from_offsets(nlp.make_doc(text), entities)` to check the alignment. Misaligned entities (with BILUO tag '-') will be ignored during training.\n",
      "  gold = GoldParse(doc, **gold)\n",
      " 95%|█████████████████████████████████████████████████████████████████████████▊    | 1334/1409 [01:44<00:07, 10.58it/s]C:\\Users\\Suzy\\anaconda3\\lib\\site-packages\\spacy\\language.py:482: UserWarning: [W030] Some entities could not be aligned in the text \"french-style green beans chopped\" with entities \"[(13, 23, 'PRODUCT')]\". Use `spacy.gold.biluo_tags_from_offsets(nlp.make_doc(text), entities)` to check the alignment. Misaligned entities (with BILUO tag '-') will be ignored during training.\n",
      "  gold = GoldParse(doc, **gold)\n",
      " 95%|█████████████████████████████████████████████████████████████████████████▉    | 1336/1409 [01:44<00:06, 11.20it/s]C:\\Users\\Suzy\\anaconda3\\lib\\site-packages\\spacy\\language.py:482: UserWarning: [W030] Some entities could not be aligned in the text \"sliced onions\" with entities \"[(7, 12, 'PRODUCT')]\". Use `spacy.gold.biluo_tags_from_offsets(nlp.make_doc(text), entities)` to check the alignment. Misaligned entities (with BILUO tag '-') will be ignored during training.\n",
      "  gold = GoldParse(doc, **gold)\n",
      " 95%|██████████████████████████████████████████████████████████████████████████    | 1338/1409 [01:45<00:06, 11.14it/s]C:\\Users\\Suzy\\anaconda3\\lib\\site-packages\\spacy\\language.py:482: UserWarning: [W030] Some entities could not be aligned in the text \"high protein crisp rice and wheat cereal\" with entities \"[(-1, 10, 'PRODUCT')]\". Use `spacy.gold.biluo_tags_from_offsets(nlp.make_doc(text), entities)` to check the alignment. Misaligned entities (with BILUO tag '-') will be ignored during training.\n",
      "  gold = GoldParse(doc, **gold)\n",
      " 95%|██████████████████████████████████████████████████████████████████████████▏   | 1340/1409 [01:45<00:05, 11.75it/s]C:\\Users\\Suzy\\anaconda3\\lib\\site-packages\\spacy\\language.py:482: UserWarning: [W030] Some entities could not be aligned in the text \"large bermuda onions\" with entities \"[(6, 19, 'PRODUCT')]\". Use `spacy.gold.biluo_tags_from_offsets(nlp.make_doc(text), entities)` to check the alignment. Misaligned entities (with BILUO tag '-') will be ignored during training.\n",
      "  gold = GoldParse(doc, **gold)\n",
      " 95%|██████████████████████████████████████████████████████████████████████████▎   | 1342/1409 [01:45<00:05, 12.50it/s]C:\\Users\\Suzy\\anaconda3\\lib\\site-packages\\spacy\\language.py:482: UserWarning: [W030] Some entities could not be aligned in the text \"crushed butter-flavored crackers\" with entities \"[(-1, 14, 'PRODUCT')]\". Use `spacy.gold.biluo_tags_from_offsets(nlp.make_doc(text), entities)` to check the alignment. Misaligned entities (with BILUO tag '-') will be ignored during training.\n",
      "  gold = GoldParse(doc, **gold)\n",
      " 96%|██████████████████████████████████████████████████████████████████████████▌   | 1346/1409 [01:45<00:05, 11.29it/s]C:\\Users\\Suzy\\anaconda3\\lib\\site-packages\\spacy\\language.py:482: UserWarning: [W030] Some entities could not be aligned in the text \"fresh shiitake mushrooms sliced\" with entities \"[(-1, 15, 'PRODUCT')]\". Use `spacy.gold.biluo_tags_from_offsets(nlp.make_doc(text), entities)` to check the alignment. Misaligned entities (with BILUO tag '-') will be ignored during training.\n",
      "  gold = GoldParse(doc, **gold)\n",
      " 96%|██████████████████████████████████████████████████████████████████████████▌   | 1348/1409 [01:45<00:05, 11.05it/s]C:\\Users\\Suzy\\anaconda3\\lib\\site-packages\\spacy\\language.py:482: UserWarning: [W030] Some entities could not be aligned in the text \"ripe fresh tomatoes chopped\" with entities \"[(11, 17, 'PRODUCT')]\". Use `spacy.gold.biluo_tags_from_offsets(nlp.make_doc(text), entities)` to check the alignment. Misaligned entities (with BILUO tag '-') will be ignored during training.\n",
      "  gold = GoldParse(doc, **gold)\n",
      " 96%|██████████████████████████████████████████████████████████████████████████▉   | 1354/1409 [01:46<00:04, 11.13it/s]C:\\Users\\Suzy\\anaconda3\\lib\\site-packages\\spacy\\language.py:482: UserWarning: [W030] Some entities could not be aligned in the text \"dried black beans picked over and rinsed\" with entities \"[(6, 16, 'PRODUCT')]\". Use `spacy.gold.biluo_tags_from_offsets(nlp.make_doc(text), entities)` to check the alignment. Misaligned entities (with BILUO tag '-') will be ignored during training.\n",
      "  gold = GoldParse(doc, **gold)\n",
      "C:\\Users\\Suzy\\anaconda3\\lib\\site-packages\\spacy\\language.py:482: UserWarning: [W030] Some entities could not be aligned in the text \"dry mixed beans soaked overnight\" with entities \"[(10, 14, 'PRODUCT')]\". Use `spacy.gold.biluo_tags_from_offsets(nlp.make_doc(text), entities)` to check the alignment. Misaligned entities (with BILUO tag '-') will be ignored during training.\n",
      "  gold = GoldParse(doc, **gold)\n",
      " 96%|███████████████████████████████████████████████████████████████████████████   | 1356/1409 [01:46<00:04, 11.15it/s]C:\\Users\\Suzy\\anaconda3\\lib\\site-packages\\spacy\\language.py:482: UserWarning: [W030] Some entities could not be aligned in the text \"avocados peeled and pitted\" with entities \"[(0, 7, 'PRODUCT')]\". Use `spacy.gold.biluo_tags_from_offsets(nlp.make_doc(text), entities)` to check the alignment. Misaligned entities (with BILUO tag '-') will be ignored during training.\n",
      "  gold = GoldParse(doc, **gold)\n"
     ]
    },
    {
     "name": "stderr",
     "output_type": "stream",
     "text": [
      " 97%|███████████████████████████████████████████████████████████████████████████▎  | 1360/1409 [01:46<00:04, 10.83it/s]C:\\Users\\Suzy\\anaconda3\\lib\\site-packages\\spacy\\language.py:482: UserWarning: [W030] Some entities could not be aligned in the text \"frozen cooked chicken strips\" with entities \"[(-1, 13, 'PRODUCT')]\". Use `spacy.gold.biluo_tags_from_offsets(nlp.make_doc(text), entities)` to check the alignment. Misaligned entities (with BILUO tag '-') will be ignored during training.\n",
      "  gold = GoldParse(doc, **gold)\n",
      " 97%|███████████████████████████████████████████████████████████████████████████▍  | 1362/1409 [01:47<00:04, 10.67it/s]C:\\Users\\Suzy\\anaconda3\\lib\\site-packages\\spacy\\language.py:482: UserWarning: [W030] Some entities could not be aligned in the text \"simply potatoesÃ¢Â® mashed potatoes\" with entities \"[(7, 13, 'PRODUCT')]\". Use `spacy.gold.biluo_tags_from_offsets(nlp.make_doc(text), entities)` to check the alignment. Misaligned entities (with BILUO tag '-') will be ignored during training.\n",
      "  gold = GoldParse(doc, **gold)\n",
      " 97%|███████████████████████████████████████████████████████████████████████████▌  | 1364/1409 [01:47<00:04, 10.38it/s]C:\\Users\\Suzy\\anaconda3\\lib\\site-packages\\spacy\\language.py:482: UserWarning: [W030] Some entities could not be aligned in the text \"dry-roasted unsalted peanuts\" with entities \"[(21, 27, 'PRODUCT')]\". Use `spacy.gold.biluo_tags_from_offsets(nlp.make_doc(text), entities)` to check the alignment. Misaligned entities (with BILUO tag '-') will be ignored during training.\n",
      "  gold = GoldParse(doc, **gold)\n",
      " 97%|███████████████████████████████████████████████████████████████████████████▋  | 1368/1409 [01:47<00:03, 10.27it/s]C:\\Users\\Suzy\\anaconda3\\lib\\site-packages\\spacy\\language.py:482: UserWarning: [W030] Some entities could not be aligned in the text \"sliced orange bell pepper\" with entities \"[(-1, 6, 'PRODUCT')]\". Use `spacy.gold.biluo_tags_from_offsets(nlp.make_doc(text), entities)` to check the alignment. Misaligned entities (with BILUO tag '-') will be ignored during training.\n",
      "  gold = GoldParse(doc, **gold)\n",
      " 98%|████████████████████████████████████████████████████████████████████████████▍ | 1381/1409 [01:49<00:02, 10.28it/s]C:\\Users\\Suzy\\anaconda3\\lib\\site-packages\\spacy\\language.py:482: UserWarning: [W030] Some entities could not be aligned in the text \"dry roasted peanuts chopped (optional)\" with entities \"[(12, 18, 'PRODUCT')]\". Use `spacy.gold.biluo_tags_from_offsets(nlp.make_doc(text), entities)` to check the alignment. Misaligned entities (with BILUO tag '-') will be ignored during training.\n",
      "  gold = GoldParse(doc, **gold)\n",
      " 98%|████████████████████████████████████████████████████████████████████████████▋ | 1385/1409 [01:49<00:02, 10.30it/s]C:\\Users\\Suzy\\anaconda3\\lib\\site-packages\\spacy\\language.py:482: UserWarning: [W030] Some entities could not be aligned in the text \"fresh chives chopped (optional)\" with entities \"[(6, 11, 'PRODUCT')]\". Use `spacy.gold.biluo_tags_from_offsets(nlp.make_doc(text), entities)` to check the alignment. Misaligned entities (with BILUO tag '-') will be ignored during training.\n",
      "  gold = GoldParse(doc, **gold)\n",
      "C:\\Users\\Suzy\\anaconda3\\lib\\site-packages\\spacy\\language.py:482: UserWarning: [W030] Some entities could not be aligned in the text \"cremini mushrooms trimmed and halved\" with entities \"[(-1, 18, 'PRODUCT')]\". Use `spacy.gold.biluo_tags_from_offsets(nlp.make_doc(text), entities)` to check the alignment. Misaligned entities (with BILUO tag '-') will be ignored during training.\n",
      "  gold = GoldParse(doc, **gold)\n",
      " 99%|█████████████████████████████████████████████████████████████████████████████ | 1393/1409 [01:50<00:01, 11.16it/s]C:\\Users\\Suzy\\anaconda3\\lib\\site-packages\\spacy\\language.py:482: UserWarning: [W030] Some entities could not be aligned in the text \"dry pinto beans soaked overnight\" with entities \"[(4, 14, 'PRODUCT')]\". Use `spacy.gold.biluo_tags_from_offsets(nlp.make_doc(text), entities)` to check the alignment. Misaligned entities (with BILUO tag '-') will be ignored during training.\n",
      "  gold = GoldParse(doc, **gold)\n",
      " 99%|█████████████████████████████████████████████████████████████████████████████▏| 1395/1409 [01:50<00:01, 11.57it/s]C:\\Users\\Suzy\\anaconda3\\lib\\site-packages\\spacy\\language.py:482: UserWarning: [W030] Some entities could not be aligned in the text \"crushed red pepper\" with entities \"[(-1, 13, 'PRODUCT')]\". Use `spacy.gold.biluo_tags_from_offsets(nlp.make_doc(text), entities)` to check the alignment. Misaligned entities (with BILUO tag '-') will be ignored during training.\n",
      "  gold = GoldParse(doc, **gold)\n",
      "C:\\Users\\Suzy\\anaconda3\\lib\\site-packages\\spacy\\language.py:482: UserWarning: [W030] Some entities could not be aligned in the text \"chunky pasta sauce\" with entities \"[(-1, 11, 'PRODUCT')]\". Use `spacy.gold.biluo_tags_from_offsets(nlp.make_doc(text), entities)` to check the alignment. Misaligned entities (with BILUO tag '-') will be ignored during training.\n",
      "  gold = GoldParse(doc, **gold)\n",
      " 99%|█████████████████████████████████████████████████████████████████████████████▎| 1397/1409 [01:50<00:01, 11.70it/s]C:\\Users\\Suzy\\anaconda3\\lib\\site-packages\\spacy\\language.py:482: UserWarning: [W030] Some entities could not be aligned in the text \"chopped assorted vegetables (pepper\" with entities \"[(-1, 6, 'PRODUCT')]\". Use `spacy.gold.biluo_tags_from_offsets(nlp.make_doc(text), entities)` to check the alignment. Misaligned entities (with BILUO tag '-') will be ignored during training.\n",
      "  gold = GoldParse(doc, **gold)\n",
      " 99%|█████████████████████████████████████████████████████████████████████████████▍| 1399/1409 [01:50<00:00, 10.93it/s]C:\\Users\\Suzy\\anaconda3\\lib\\site-packages\\spacy\\language.py:482: UserWarning: [W030] Some entities could not be aligned in the text \"ore-idaÃ¢Â® shredded hash brown potatoes\" with entities \"[(32, 38, 'PRODUCT')]\". Use `spacy.gold.biluo_tags_from_offsets(nlp.make_doc(text), entities)` to check the alignment. Misaligned entities (with BILUO tag '-') will be ignored during training.\n",
      "  gold = GoldParse(doc, **gold)\n",
      "100%|█████████████████████████████████████████████████████████████████████████████▌| 1402/1409 [01:51<00:00,  8.72it/s]C:\\Users\\Suzy\\anaconda3\\lib\\site-packages\\spacy\\language.py:482: UserWarning: [W030] Some entities could not be aligned in the text \"red beans in chili sauce\" with entities \"[(0, 8, 'PRODUCT')]\". Use `spacy.gold.biluo_tags_from_offsets(nlp.make_doc(text), entities)` to check the alignment. Misaligned entities (with BILUO tag '-') will be ignored during training.\n",
      "  gold = GoldParse(doc, **gold)\n",
      "100%|█████████████████████████████████████████████████████████████████████████████▋| 1403/1409 [01:51<00:00,  8.36it/s]C:\\Users\\Suzy\\anaconda3\\lib\\site-packages\\spacy\\language.py:482: UserWarning: [W030] Some entities could not be aligned in the text \"navy beans rinsed and drained\" with entities \"[(0, 9, 'PRODUCT')]\". Use `spacy.gold.biluo_tags_from_offsets(nlp.make_doc(text), entities)` to check the alignment. Misaligned entities (with BILUO tag '-') will be ignored during training.\n",
      "  gold = GoldParse(doc, **gold)\n",
      "100%|█████████████████████████████████████████████████████████████████████████████▋| 1404/1409 [01:51<00:00,  7.82it/s]C:\\Users\\Suzy\\anaconda3\\lib\\site-packages\\spacy\\language.py:482: UserWarning: [W030] Some entities could not be aligned in the text \"dried juniper berries crushed\" with entities \"[(-1, 12, 'PRODUCT')]\". Use `spacy.gold.biluo_tags_from_offsets(nlp.make_doc(text), entities)` to check the alignment. Misaligned entities (with BILUO tag '-') will be ignored during training.\n",
      "  gold = GoldParse(doc, **gold)\n",
      "100%|█████████████████████████████████████████████████████████████████████████████▉| 1408/1409 [01:51<00:00,  7.83it/s]C:\\Users\\Suzy\\anaconda3\\lib\\site-packages\\spacy\\language.py:482: UserWarning: [W030] Some entities could not be aligned in the text \"black beans drained\" with entities \"[(0, 10, 'PRODUCT')]\". Use `spacy.gold.biluo_tags_from_offsets(nlp.make_doc(text), entities)` to check the alignment. Misaligned entities (with BILUO tag '-') will be ignored during training.\n",
      "  gold = GoldParse(doc, **gold)\n"
     ]
    },
    {
     "name": "stderr",
     "output_type": "stream",
     "text": [
      "100%|██████████████████████████████████████████████████████████████████████████████| 1409/1409 [01:51<00:00, 12.58it/s]\n",
      "  0%|                                                                                 | 2/1409 [00:00<02:05, 11.22it/s]"
     ]
    },
    {
     "name": "stdout",
     "output_type": "stream",
     "text": [
      "{'ner': 1712.435787276529}\n"
     ]
    },
    {
     "name": "stderr",
     "output_type": "stream",
     "text": [
      "100%|██████████████████████████████████████████████████████████████████████████████| 1409/1409 [02:37<00:00,  8.94it/s]\n",
      "  0%|                                                                                 | 1/1409 [00:00<03:08,  7.47it/s]"
     ]
    },
    {
     "name": "stdout",
     "output_type": "stream",
     "text": [
      "{'ner': 1362.5767776802868}\n"
     ]
    },
    {
     "name": "stderr",
     "output_type": "stream",
     "text": [
      "100%|██████████████████████████████████████████████████████████████████████████████| 1409/1409 [03:02<00:00,  7.74it/s]\n",
      "  0%|                                                                                 | 1/1409 [00:00<03:02,  7.70it/s]"
     ]
    },
    {
     "name": "stdout",
     "output_type": "stream",
     "text": [
      "{'ner': 999.3791349952645}\n"
     ]
    },
    {
     "name": "stderr",
     "output_type": "stream",
     "text": [
      "100%|██████████████████████████████████████████████████████████████████████████████| 1409/1409 [03:01<00:00,  7.75it/s]\n",
      "  0%|                                                                                 | 1/1409 [00:00<03:18,  7.11it/s]"
     ]
    },
    {
     "name": "stdout",
     "output_type": "stream",
     "text": [
      "{'ner': 846.7929515941977}\n"
     ]
    },
    {
     "name": "stderr",
     "output_type": "stream",
     "text": [
      "100%|██████████████████████████████████████████████████████████████████████████████| 1409/1409 [03:02<00:00,  7.70it/s]\n",
      "  0%|                                                                                 | 1/1409 [00:00<02:48,  8.36it/s]"
     ]
    },
    {
     "name": "stdout",
     "output_type": "stream",
     "text": [
      "{'ner': 763.778559706306}\n"
     ]
    },
    {
     "name": "stderr",
     "output_type": "stream",
     "text": [
      "100%|██████████████████████████████████████████████████████████████████████████████| 1409/1409 [03:07<00:00,  7.51it/s]\n",
      "  0%|                                                                                 | 1/1409 [00:00<03:02,  7.73it/s]"
     ]
    },
    {
     "name": "stdout",
     "output_type": "stream",
     "text": [
      "{'ner': 625.6867076577321}\n"
     ]
    },
    {
     "name": "stderr",
     "output_type": "stream",
     "text": [
      "100%|██████████████████████████████████████████████████████████████████████████████| 1409/1409 [03:05<00:00,  7.60it/s]\n",
      "  0%|                                                                                 | 1/1409 [00:00<02:47,  8.39it/s]"
     ]
    },
    {
     "name": "stdout",
     "output_type": "stream",
     "text": [
      "{'ner': 643.0566230866146}\n"
     ]
    },
    {
     "name": "stderr",
     "output_type": "stream",
     "text": [
      "100%|██████████████████████████████████████████████████████████████████████████████| 1409/1409 [03:04<00:00,  7.63it/s]\n",
      "  0%|                                                                                 | 1/1409 [00:00<03:02,  7.70it/s]"
     ]
    },
    {
     "name": "stdout",
     "output_type": "stream",
     "text": [
      "{'ner': 490.4412673411107}\n"
     ]
    },
    {
     "name": "stderr",
     "output_type": "stream",
     "text": [
      "100%|██████████████████████████████████████████████████████████████████████████████| 1409/1409 [03:07<00:00,  7.51it/s]\n",
      "  0%|                                                                                         | 0/1409 [00:00<?, ?it/s]"
     ]
    },
    {
     "name": "stdout",
     "output_type": "stream",
     "text": [
      "{'ner': 527.8280798870642}\n"
     ]
    },
    {
     "name": "stderr",
     "output_type": "stream",
     "text": [
      "100%|██████████████████████████████████████████████████████████████████████████████| 1409/1409 [03:08<00:00,  7.46it/s]"
     ]
    },
    {
     "name": "stdout",
     "output_type": "stream",
     "text": [
      "{'ner': 532.3521079112674}\n"
     ]
    },
    {
     "name": "stderr",
     "output_type": "stream",
     "text": [
      "\n"
     ]
    }
   ],
   "source": [
    "for _, annotations in TRAIN_DATA:\n",
    "    for ent in annotations.get('entities'):\n",
    "        ner.add_label(ent[2])\n",
    "\n",
    "other_pipes = [pipe for pipe in nlp.pipe_names if pipe != 'ner']\n",
    "with nlp.disable_pipes(*other_pipes):  # only train NER\n",
    "    optimizer = nlp.begin_training()\n",
    "    for itn in range(n_iter):\n",
    "        random.shuffle(TRAIN_DATA)\n",
    "        losses = {}\n",
    "        for text, annotations in tqdm(TRAIN_DATA):\n",
    "            nlp.update(\n",
    "                [text],  \n",
    "                [annotations],  \n",
    "                drop=0.5,  \n",
    "                sgd=optimizer,\n",
    "                losses=losses)\n",
    "        print(losses)"
   ]
  },
  {
   "cell_type": "markdown",
   "metadata": {},
   "source": [
    "## Apply model on recipelist"
   ]
  },
  {
   "cell_type": "code",
   "execution_count": 67,
   "metadata": {},
   "outputs": [
    {
     "data": {
      "text/plain": [
       "35399"
      ]
     },
     "execution_count": 67,
     "metadata": {},
     "output_type": "execute_result"
    }
   ],
   "source": [
    "#testdata\n",
    "recipelist = np.loadtxt('newrecipeinputlist.txt',delimiter = '\\n', dtype=str)\n",
    "len(recipelist)"
   ]
  },
  {
   "cell_type": "code",
   "execution_count": 68,
   "metadata": {},
   "outputs": [],
   "source": [
    "# for text, _ in TRAIN_DATA[:30]:\n",
    "#     doc = nlp(text)\n",
    "#     print('Entities', [(ent.text, ent.label_) for ent in doc.ents])\n",
    "#     print('Tokens', [(t.text, t.ent_type_, t.ent_iob) for t in doc])"
   ]
  },
  {
   "cell_type": "code",
   "execution_count": 69,
   "metadata": {},
   "outputs": [],
   "source": [
    "def extract_core(text):\n",
    "    ingredient = nlp2(text)\n",
    "    for ent in ingredient.ents:\n",
    "        return ent.text "
   ]
  },
  {
   "cell_type": "code",
   "execution_count": 70,
   "metadata": {},
   "outputs": [],
   "source": [
    "# import ast\n",
    "# df1 = pd.read_csv('recipe_ingredients_wenqi.csv') \n",
    "# df1['ingredientlist'] = df1.ingredients2.apply(lambda x: ast.literal_eval(x))\n",
    "# df2 = df1[['recipe_id', 'recipe_name', 'ingredientlist']]\n",
    "# df2.head()"
   ]
  },
  {
   "cell_type": "code",
   "execution_count": 71,
   "metadata": {},
   "outputs": [],
   "source": [
    "# df3 = df2.explode('ingredientlist')\n",
    "# df3['ingredientlist_lower'] = df3['ingredientlist'].str.lower()"
   ]
  },
  {
   "cell_type": "code",
   "execution_count": 72,
   "metadata": {},
   "outputs": [],
   "source": [
    "# ingredient_unique = list(set(df3.ingredientlist_lower))"
   ]
  },
  {
   "cell_type": "code",
   "execution_count": 73,
   "metadata": {},
   "outputs": [],
   "source": [
    "# ingredient_unique[0:10]"
   ]
  },
  {
   "cell_type": "code",
   "execution_count": 74,
   "metadata": {},
   "outputs": [],
   "source": [
    "# ingredient_unique['core'] = ingredient_unique['ingredients'].apply(lambda x: extract_core(x))"
   ]
  },
  {
   "cell_type": "markdown",
   "metadata": {},
   "source": [
    "# Save Model"
   ]
  },
  {
   "cell_type": "code",
   "execution_count": 75,
   "metadata": {},
   "outputs": [
    {
     "name": "stdout",
     "output_type": "stream",
     "text": [
      "Saved model to NERmodel\n"
     ]
    }
   ],
   "source": [
    "if output_dir is not None:\n",
    "    output_dir = Path(output_dir)\n",
    "    if not output_dir.exists():\n",
    "        output_dir.mkdir()\n",
    "    nlp.to_disk(output_dir)\n",
    "    print(\"Saved model to\", output_dir)"
   ]
  },
  {
   "cell_type": "markdown",
   "metadata": {},
   "source": [
    "# Test Model\n",
    "\n"
   ]
  },
  {
   "cell_type": "code",
   "execution_count": 76,
   "metadata": {},
   "outputs": [
    {
     "name": "stdout",
     "output_type": "stream",
     "text": [
      "Loading from NERmodel\n",
      "Entities [('apples', 'PRODUCT')]\n",
      "Tokens [('apples', 'PRODUCT', 3), ('cored', '', 2), ('and', '', 2), ('sliced', '', 2)]\n",
      "Entities [('ham', 'PRODUCT')]\n",
      "Tokens [('bone', '', 2), ('-', '', 2), ('in', '', 2), ('fully', '', 2), ('cooked', '', 2), ('ham', 'PRODUCT', 3), ('steak', '', 2)]\n",
      "Entities [('mushroom', 'PRODUCT')]\n",
      "Tokens [('thinly', '', 2), ('sliced', '', 2), ('mushroom', 'PRODUCT', 3)]\n",
      "Entities [('scallops', 'PRODUCT')]\n",
      "Tokens [('large', '', 2), ('scallops', 'PRODUCT', 3)]\n",
      "Entities [('hot sauce', 'PRODUCT')]\n",
      "Tokens [('chipotle', '', 2), ('-', '', 2), ('flavored', '', 2), ('hot', 'PRODUCT', 3), ('sauce', 'PRODUCT', 1)]\n",
      "Entities [('vegetarian fish', 'PRODUCT')]\n",
      "Tokens [('vegetarian', 'PRODUCT', 3), ('fish', 'PRODUCT', 1), ('sauce', '', 2)]\n",
      "Entities [('green beans', 'PRODUCT')]\n",
      "Tokens [('chopped', '', 2), ('green', 'PRODUCT', 3), ('beans', 'PRODUCT', 1)]\n",
      "Entities [('vermouth', 'PRODUCT')]\n",
      "Tokens [('fluid', '', 2), ('ounce', '', 2), ('dry', '', 2), ('vermouth', 'PRODUCT', 3)]\n",
      "Entities [('red wine', 'PRODUCT')]\n",
      "Tokens [('kosher', '', 2), ('red', 'PRODUCT', 3), ('wine', 'PRODUCT', 1), ('(', '', 2), ('such', '', 2), ('as', '', 2), ('manischewitzÃ¢Â', '', 2), ('®', '', 2), (')', '', 2)]\n",
      "Entities [('lemon', 'PRODUCT')]\n",
      "Tokens [('lemon', 'PRODUCT', 3), ('slices', '', 2), ('cut', '', 2), ('into', '', 2), ('quarters', '', 2)]\n",
      "Entities [('roast beef', 'PRODUCT')]\n",
      "Tokens [('deli', '', 2), ('cooked', '', 2), ('roast', 'PRODUCT', 3), ('beef', 'PRODUCT', 1)]\n",
      "Entities [('tomatoes', 'PRODUCT')]\n",
      "Tokens [('large', '', 2), ('plum', '', 2), ('tomatoes', 'PRODUCT', 3), ('diced', '', 2)]\n",
      "Entities [('chocolate', 'PRODUCT')]\n",
      "Tokens [('bar', '', 2), ('milk', '', 2), ('chocolate', 'PRODUCT', 3), ('chopped', '', 2)]\n",
      "Entities [('seasoning', 'PRODUCT')]\n",
      "Tokens [('garlic', '', 2), ('-', '', 2), ('pepper', '', 2), ('seasoning', 'PRODUCT', 3)]\n",
      "Entities [('oil', 'PRODUCT')]\n",
      "Tokens [('gallon', '', 2), ('oil', 'PRODUCT', 3), ('for', '', 2), ('frying', '', 2)]\n",
      "Entities [('apples', 'PRODUCT')]\n",
      "Tokens [('apples', 'PRODUCT', 3), ('peeled', '', 2), ('and', '', 2), ('cored', '', 2)]\n",
      "Entities [('bean sauce', 'PRODUCT')]\n",
      "Tokens [('bottles', '', 2), ('black', '', 2), ('bean', 'PRODUCT', 3), ('sauce', 'PRODUCT', 1)]\n",
      "Entities [('pizza crust', 'PRODUCT')]\n",
      "Tokens [(\"fleischmann'sÃ¢Â\", '', 2), ('®', '', 2), ('easy', '', 2), ('pizza', 'PRODUCT', 3), ('crust', 'PRODUCT', 1)]\n",
      "Entities [('worcestershire sauce', 'PRODUCT')]\n",
      "Tokens [('worcestershire', 'PRODUCT', 3), ('sauce', 'PRODUCT', 1), ('to', '', 2), ('taste', '', 2)]\n",
      "Entities [('tomatoes', 'PRODUCT')]\n",
      "Tokens [('fresh', '', 2), ('tomatoes', 'PRODUCT', 3), ('peeled', '', 2), ('seeded', '', 2), ('and', '', 2), ('chopped', '', 2)]\n",
      "Entities [('red onion', 'PRODUCT')]\n",
      "Tokens [('julienned', '', 2), ('red', 'PRODUCT', 3), ('onion', 'PRODUCT', 1)]\n",
      "Entities []\n",
      "Tokens [('large', '', 2), ('yellow', '', 2), ('summer', '', 2), ('squash', '', 2), ('shredded', '', 2)]\n",
      "Entities []\n",
      "Tokens [('mccormickÃ¢Â', '', 2), ('®', '', 2), ('red', '', 2), ('pepper', '', 2), ('crushed', '', 2)]\n",
      "Entities [('ham', 'PRODUCT')]\n",
      "Tokens [('smoked', '', 2), ('ham', 'PRODUCT', 3), ('hock', '', 2)]\n",
      "Entities [('apple', 'PRODUCT')]\n",
      "Tokens [('medium', '', 2), ('apple', 'PRODUCT', 3), ('cored', '', 2), ('and', '', 2), ('thinly', '', 2), ('sliced', '', 2)]\n",
      "Entities [('seasoning', 'PRODUCT')]\n",
      "Tokens [('salt', '', 2), ('free', '', 2), ('cajun', '', 2), ('seasoning', 'PRODUCT', 3)]\n",
      "Entities [('cod', 'PRODUCT')]\n",
      "Tokens [('skin', '', 2), ('-', '', 2), ('on', '', 2), ('fresh', '', 2), ('cod', 'PRODUCT', 3)]\n",
      "Entities [('imitation crabmeat', 'PRODUCT')]\n",
      "Tokens [('chopped', '', 2), ('imitation', 'PRODUCT', 3), ('crabmeat', 'PRODUCT', 1)]\n",
      "Entities []\n",
      "Tokens [('french', '', 2), ('baguette', '', 2), ('cut', '', 2), ('into', '', 2), ('3/4-inch', '', 2), ('slices', '', 2)]\n",
      "Entities [('candy corn', 'PRODUCT')]\n",
      "Tokens [('candy', 'PRODUCT', 3), ('corn', 'PRODUCT', 1)]\n"
     ]
    }
   ],
   "source": [
    "print(\"Loading from\", output_dir)\n",
    "nlp2 = spacy.load(output_dir)\n",
    "for text, _ in TRAIN_DATA[:30]:\n",
    "    doc = nlp2(text)\n",
    "    print('Entities', [(ent.text, ent.label_) for ent in doc.ents])\n",
    "    print('Tokens', [(t.text, t.ent_type_, t.ent_iob) for t in doc])"
   ]
  },
  {
   "cell_type": "code",
   "execution_count": 77,
   "metadata": {},
   "outputs": [],
   "source": [
    "recipeingredientlist = recipelist.tolist()"
   ]
  },
  {
   "cell_type": "code",
   "execution_count": 78,
   "metadata": {},
   "outputs": [
    {
     "name": "stdout",
     "output_type": "stream",
     "text": [
      "Entities [('apple cider', 'PRODUCT')]\n",
      "Tokens [('apple', 'PRODUCT', 3), ('cider', 'PRODUCT', 1), ('divided', '', 2)]\n",
      "Entities [('brown', 'PRODUCT')]\n",
      "Tokens [('brown', 'PRODUCT', 3), ('sugar', '', 2)]\n",
      "Entities [('caraway', 'PRODUCT')]\n",
      "Tokens [('caraway', 'PRODUCT', 3), ('seeds', '', 2)]\n",
      "Entities [('apples', 'PRODUCT')]\n",
      "Tokens [('granny', '', 2), ('smith', '', 2), ('apples', 'PRODUCT', 3), ('sliced', '', 2)]\n",
      "Entities [('pepper', 'PRODUCT')]\n",
      "Tokens [('ground', '', 2), ('black', '', 2), ('pepper', 'PRODUCT', 3)]\n",
      "Entities []\n",
      "Tokens [('ingredientlist_lower', '', 2)]\n",
      "Entities []\n",
      "Tokens [('kosher', '', 2), ('salt', '', 2)]\n",
      "Entities [('onion', 'PRODUCT')]\n",
      "Tokens [('large', '', 2), ('onion', 'PRODUCT', 3)]\n",
      "Entities [('pork belly', 'PRODUCT')]\n",
      "Tokens [('pork', 'PRODUCT', 3), ('belly', 'PRODUCT', 1)]\n",
      "Entities []\n",
      "Tokens [('rub', '', 2)]\n",
      "Entities [('sauerkraut', 'PRODUCT')]\n",
      "Tokens [('sauerkraut', 'PRODUCT', 3), ('drained', '', 2)]\n",
      "Entities [('paprika', 'PRODUCT')]\n",
      "Tokens [('smoked', '', 2), ('paprika', 'PRODUCT', 3)]\n",
      "Entities [('seasoning', 'PRODUCT')]\n",
      "Tokens [('thai', '', 2), ('seasoning', 'PRODUCT', 3)]\n",
      "Entities []\n",
      "Tokens [('salt', '', 2)]\n",
      "Entities [('garlic powder', 'PRODUCT')]\n",
      "Tokens [('garlic', 'PRODUCT', 3), ('powder', 'PRODUCT', 1)]\n",
      "Entities [('loin roast', 'PRODUCT')]\n",
      "Tokens [('boneless', '', 2), ('pork', '', 2), ('loin', 'PRODUCT', 3), ('roast', 'PRODUCT', 1)]\n",
      "Entities [('chicken wings', 'PRODUCT')]\n",
      "Tokens [('chicken', 'PRODUCT', 3), ('wings', 'PRODUCT', 1)]\n",
      "Entities [('rosemary', 'PRODUCT')]\n",
      "Tokens [('sprigs', '', 2), ('rosemary', 'PRODUCT', 3)]\n",
      "Entities [('garlic', 'PRODUCT')]\n",
      "Tokens [('head', '', 2), ('garlic', 'PRODUCT', 3)]\n",
      "Entities [('olive oil', 'PRODUCT')]\n",
      "Tokens [('olive', 'PRODUCT', 3), ('oil', 'PRODUCT', 1)]\n",
      "Entities [('lemon pepper', 'PRODUCT')]\n",
      "Tokens [('lemon', 'PRODUCT', 3), ('pepper', 'PRODUCT', 1)]\n",
      "Entities []\n",
      "Tokens [('seasoned', '', 2), ('salt', '', 2)]\n",
      "Entities [('bread', 'PRODUCT')]\n",
      "Tokens [('focaccia', '', 2), ('bread', 'PRODUCT', 3), ('quartered', '', 2)]\n",
      "Entities [('basil pesto', 'PRODUCT')]\n",
      "Tokens [('prepared', '', 2), ('basil', 'PRODUCT', 3), ('pesto', 'PRODUCT', 1)]\n",
      "Entities [('chicken', 'PRODUCT')]\n",
      "Tokens [('diced', '', 2), ('cooked', '', 2), ('chicken', 'PRODUCT', 3)]\n",
      "Entities []\n",
      "Tokens [('diced', '', 2), ('green', '', 2), ('bell', '', 2), ('pepper', '', 2)]\n",
      "Entities [('red onion', 'PRODUCT')]\n",
      "Tokens [('diced', '', 2), ('red', 'PRODUCT', 3), ('onion', 'PRODUCT', 1)]\n",
      "Entities [('jack cheese', 'PRODUCT')]\n",
      "Tokens [('shredded', '', 2), ('monterey', '', 2), ('jack', 'PRODUCT', 3), ('cheese', 'PRODUCT', 1)]\n",
      "Entities [('potatoes', 'PRODUCT')]\n",
      "Tokens [('red', '', 2), ('potatoes', 'PRODUCT', 3)]\n",
      "Entities [('bacon', 'PRODUCT')]\n",
      "Tokens [('strips', '', 2), ('bacon', 'PRODUCT', 3)]\n"
     ]
    }
   ],
   "source": [
    "for text in recipeingredientlist[:30]:\n",
    "    doc = nlp2(text)\n",
    "    print('Entities', [(ent.text, ent.label_) for ent in doc.ents])\n",
    "    print('Tokens', [(t.text, t.ent_type_, t.ent_iob) for t in doc])"
   ]
  },
  {
   "cell_type": "code",
   "execution_count": 79,
   "metadata": {},
   "outputs": [],
   "source": [
    "recipe_core = []\n",
    "#function applying through list\n",
    "for text in recipeingredientlist:\n",
    "    ingredient = nlp2(text)\n",
    "    recipe_core.extend([(ent.text) for ent in ingredient.ents])\n"
   ]
  },
  {
   "cell_type": "code",
   "execution_count": 80,
   "metadata": {},
   "outputs": [],
   "source": [
    "#per ingredient line\n",
    "def extract_core(text):\n",
    "    ingredient = nlp2(text)\n",
    "    for ent in ingredient.ents:\n",
    "        return ent.text "
   ]
  },
  {
   "cell_type": "code",
   "execution_count": 81,
   "metadata": {},
   "outputs": [
    {
     "data": {
      "text/plain": [
       "'pork'"
      ]
     },
     "execution_count": 81,
     "metadata": {},
     "output_type": "execute_result"
    }
   ],
   "source": [
    "extract_core('pulled pork')"
   ]
  },
  {
   "cell_type": "code",
   "execution_count": 82,
   "metadata": {},
   "outputs": [
    {
     "data": {
      "text/html": [
       "<div>\n",
       "<style scoped>\n",
       "    .dataframe tbody tr th:only-of-type {\n",
       "        vertical-align: middle;\n",
       "    }\n",
       "\n",
       "    .dataframe tbody tr th {\n",
       "        vertical-align: top;\n",
       "    }\n",
       "\n",
       "    .dataframe thead th {\n",
       "        text-align: right;\n",
       "    }\n",
       "</style>\n",
       "<table border=\"1\" class=\"dataframe\">\n",
       "  <thead>\n",
       "    <tr style=\"text-align: right;\">\n",
       "      <th></th>\n",
       "      <th>ingredient</th>\n",
       "      <th>core</th>\n",
       "    </tr>\n",
       "  </thead>\n",
       "  <tbody>\n",
       "    <tr>\n",
       "      <th>0</th>\n",
       "      <td>apple cider divided</td>\n",
       "      <td>apple cider</td>\n",
       "    </tr>\n",
       "    <tr>\n",
       "      <th>1</th>\n",
       "      <td>brown sugar</td>\n",
       "      <td>brown</td>\n",
       "    </tr>\n",
       "    <tr>\n",
       "      <th>2</th>\n",
       "      <td>caraway seeds</td>\n",
       "      <td>caraway</td>\n",
       "    </tr>\n",
       "    <tr>\n",
       "      <th>3</th>\n",
       "      <td>granny smith apples sliced</td>\n",
       "      <td>apples</td>\n",
       "    </tr>\n",
       "    <tr>\n",
       "      <th>4</th>\n",
       "      <td>ground black pepper</td>\n",
       "      <td>pepper</td>\n",
       "    </tr>\n",
       "    <tr>\n",
       "      <th>5</th>\n",
       "      <td>ingredientlist_lower</td>\n",
       "      <td>None</td>\n",
       "    </tr>\n",
       "    <tr>\n",
       "      <th>6</th>\n",
       "      <td>kosher salt</td>\n",
       "      <td>None</td>\n",
       "    </tr>\n",
       "    <tr>\n",
       "      <th>7</th>\n",
       "      <td>large onion</td>\n",
       "      <td>onion</td>\n",
       "    </tr>\n",
       "    <tr>\n",
       "      <th>8</th>\n",
       "      <td>pork belly</td>\n",
       "      <td>pork belly</td>\n",
       "    </tr>\n",
       "    <tr>\n",
       "      <th>9</th>\n",
       "      <td>rub</td>\n",
       "      <td>None</td>\n",
       "    </tr>\n",
       "    <tr>\n",
       "      <th>10</th>\n",
       "      <td>sauerkraut drained</td>\n",
       "      <td>sauerkraut</td>\n",
       "    </tr>\n",
       "    <tr>\n",
       "      <th>11</th>\n",
       "      <td>smoked paprika</td>\n",
       "      <td>paprika</td>\n",
       "    </tr>\n",
       "    <tr>\n",
       "      <th>12</th>\n",
       "      <td>thai seasoning</td>\n",
       "      <td>seasoning</td>\n",
       "    </tr>\n",
       "    <tr>\n",
       "      <th>13</th>\n",
       "      <td>salt</td>\n",
       "      <td>None</td>\n",
       "    </tr>\n",
       "    <tr>\n",
       "      <th>14</th>\n",
       "      <td>garlic powder</td>\n",
       "      <td>garlic powder</td>\n",
       "    </tr>\n",
       "    <tr>\n",
       "      <th>15</th>\n",
       "      <td>boneless pork loin roast</td>\n",
       "      <td>loin roast</td>\n",
       "    </tr>\n",
       "    <tr>\n",
       "      <th>16</th>\n",
       "      <td>chicken wings</td>\n",
       "      <td>chicken wings</td>\n",
       "    </tr>\n",
       "    <tr>\n",
       "      <th>17</th>\n",
       "      <td>sprigs rosemary</td>\n",
       "      <td>rosemary</td>\n",
       "    </tr>\n",
       "    <tr>\n",
       "      <th>18</th>\n",
       "      <td>head garlic</td>\n",
       "      <td>garlic</td>\n",
       "    </tr>\n",
       "    <tr>\n",
       "      <th>19</th>\n",
       "      <td>olive oil</td>\n",
       "      <td>olive oil</td>\n",
       "    </tr>\n",
       "  </tbody>\n",
       "</table>\n",
       "</div>"
      ],
      "text/plain": [
       "                    ingredient           core\n",
       "0          apple cider divided    apple cider\n",
       "1                  brown sugar          brown\n",
       "2                caraway seeds        caraway\n",
       "3   granny smith apples sliced         apples\n",
       "4          ground black pepper         pepper\n",
       "5         ingredientlist_lower           None\n",
       "6                  kosher salt           None\n",
       "7                  large onion          onion\n",
       "8                   pork belly     pork belly\n",
       "9                          rub           None\n",
       "10          sauerkraut drained     sauerkraut\n",
       "11              smoked paprika        paprika\n",
       "12              thai seasoning      seasoning\n",
       "13                        salt           None\n",
       "14               garlic powder  garlic powder\n",
       "15    boneless pork loin roast     loin roast\n",
       "16               chicken wings  chicken wings\n",
       "17             sprigs rosemary       rosemary\n",
       "18                 head garlic         garlic\n",
       "19                   olive oil      olive oil"
      ]
     },
     "execution_count": 82,
     "metadata": {},
     "output_type": "execute_result"
    }
   ],
   "source": [
    "recipe_df = pd.DataFrame(recipeingredientlist, columns = ['ingredient'])\n",
    "recipe_df['core'] = recipe_df['ingredient'].apply(lambda x: extract_core(x))\n",
    "recipe_df.head(20)"
   ]
  },
  {
   "cell_type": "code",
   "execution_count": 83,
   "metadata": {},
   "outputs": [],
   "source": [
    "recipe_df.to_csv('recipe_core.csv',index=False)"
   ]
  },
  {
   "cell_type": "code",
   "execution_count": 84,
   "metadata": {},
   "outputs": [],
   "source": [
    "# import ast\n",
    "# df1 = pd.read_csv('recipe_ingredients_wenqi.csv') \n",
    "# df1['ingredientlist'] = df1.ingredients2.apply(lambda x: ast.literal_eval(x))\n",
    "# df2 = df1[['recipe_id', 'recipe_name', 'ingredientlist']]\n",
    "# df2.head()"
   ]
  },
  {
   "cell_type": "code",
   "execution_count": 85,
   "metadata": {},
   "outputs": [],
   "source": [
    "# df3 = df2.explode('ingredientlist')\n",
    "# df3['ingredientlist_lower'] = df3['ingredientlist'].str.lower()"
   ]
  },
  {
   "cell_type": "code",
   "execution_count": 86,
   "metadata": {},
   "outputs": [],
   "source": [
    "# df3['core'] = df3['ingredientlist_lower'].apply(lambda x: extract_core(x))"
   ]
  },
  {
   "cell_type": "markdown",
   "metadata": {},
   "source": [
    "# Evaluation"
   ]
  },
  {
   "cell_type": "code",
   "execution_count": 90,
   "metadata": {},
   "outputs": [],
   "source": [
    "#test set\n",
    "df_test = pd.read_csv('real_tag.csv') \n",
    "true_labels = df_test.core"
   ]
  },
  {
   "cell_type": "code",
   "execution_count": 89,
   "metadata": {},
   "outputs": [
    {
     "data": {
      "text/html": [
       "<div>\n",
       "<style scoped>\n",
       "    .dataframe tbody tr th:only-of-type {\n",
       "        vertical-align: middle;\n",
       "    }\n",
       "\n",
       "    .dataframe tbody tr th {\n",
       "        vertical-align: top;\n",
       "    }\n",
       "\n",
       "    .dataframe thead th {\n",
       "        text-align: right;\n",
       "    }\n",
       "</style>\n",
       "<table border=\"1\" class=\"dataframe\">\n",
       "  <thead>\n",
       "    <tr style=\"text-align: right;\">\n",
       "      <th></th>\n",
       "      <th>ingredients</th>\n",
       "      <th>core</th>\n",
       "    </tr>\n",
       "  </thead>\n",
       "  <tbody>\n",
       "    <tr>\n",
       "      <th>0</th>\n",
       "      <td>gallons water divided</td>\n",
       "      <td>water</td>\n",
       "    </tr>\n",
       "    <tr>\n",
       "      <th>1</th>\n",
       "      <td>ground turkey breast patties</td>\n",
       "      <td>turkey breast</td>\n",
       "    </tr>\n",
       "    <tr>\n",
       "      <th>2</th>\n",
       "      <td>head savoy cabbage quartered and cored</td>\n",
       "      <td>cabbage</td>\n",
       "    </tr>\n",
       "    <tr>\n",
       "      <th>3</th>\n",
       "      <td>shredded baby carrots</td>\n",
       "      <td>carrots</td>\n",
       "    </tr>\n",
       "    <tr>\n",
       "      <th>4</th>\n",
       "      <td>cinnamon stick</td>\n",
       "      <td>cinnamon</td>\n",
       "    </tr>\n",
       "  </tbody>\n",
       "</table>\n",
       "</div>"
      ],
      "text/plain": [
       "                              ingredients           core\n",
       "0                   gallons water divided          water\n",
       "1            ground turkey breast patties  turkey breast\n",
       "2  head savoy cabbage quartered and cored        cabbage\n",
       "3                   shredded baby carrots        carrots\n",
       "4                          cinnamon stick       cinnamon"
      ]
     },
     "execution_count": 89,
     "metadata": {},
     "output_type": "execute_result"
    }
   ],
   "source": [
    "df_test.head()"
   ]
  },
  {
   "cell_type": "code",
   "execution_count": 92,
   "metadata": {},
   "outputs": [
    {
     "data": {
      "text/plain": [
       "0              water\n",
       "1      turkey breast\n",
       "2            cabbage\n",
       "3            carrots\n",
       "4               None\n",
       "5           stuffing\n",
       "6               None\n",
       "7     ranch dressing\n",
       "8       wine vinegar\n",
       "9               None\n",
       "10              None\n",
       "11      curry powder\n",
       "12           halibut\n",
       "13             metal\n",
       "14            orange\n",
       "Name: ingredients, dtype: object"
      ]
     },
     "execution_count": 92,
     "metadata": {},
     "output_type": "execute_result"
    }
   ],
   "source": [
    "predict_labels = df_test['ingredients'].apply(lambda x: extract_core(x))\n",
    "predict_labels[0:15]"
   ]
  },
  {
   "cell_type": "code",
   "execution_count": 97,
   "metadata": {},
   "outputs": [],
   "source": [
    "ingredients = df_test.ingredients.values.astype(str)\n",
    "core = df_test.core.values.astype(str)\n",
    "df_test['start']=find(ingredients, core)\n",
    "df_test['end'] = df_test['core'].astype(str).map(len)\n",
    "df_test['sum'] = df_test['start']+ df_test['end']\n",
    "df_test['entity'] = 'PRODUCT'"
   ]
  },
  {
   "cell_type": "code",
   "execution_count": 99,
   "metadata": {},
   "outputs": [],
   "source": [
    "subset_test = df_test[['ingredients','core','start', 'sum', 'entity']]\n",
    "subset_test['tuples'] = [tuple(x) for x in subset_test[['start','sum','entity']].to_numpy()]\n",
    "\n",
    "def formatter(x):\n",
    "    return (x.ingredients, {'entities': [x.tuples]})\n",
    "\n",
    "subset_test['test_set'] = subset_test.apply(formatter, axis=1)\n",
    "examples = subset_test.test_set.tolist()"
   ]
  },
  {
   "cell_type": "code",
   "execution_count": 103,
   "metadata": {},
   "outputs": [
    {
     "ename": "IndexError",
     "evalue": "list index out of range",
     "output_type": "error",
     "traceback": [
      "\u001b[1;31m---------------------------------------------------------------------------\u001b[0m",
      "\u001b[1;31mIndexError\u001b[0m                                Traceback (most recent call last)",
      "\u001b[1;32m<ipython-input-103-70893a46e3ac>\u001b[0m in \u001b[0;36m<module>\u001b[1;34m\u001b[0m\n\u001b[0;32m     15\u001b[0m \u001b[1;33m\u001b[0m\u001b[0m\n\u001b[0;32m     16\u001b[0m \u001b[0mner_model\u001b[0m \u001b[1;33m=\u001b[0m \u001b[0mspacy\u001b[0m\u001b[1;33m.\u001b[0m\u001b[0mload\u001b[0m\u001b[1;33m(\u001b[0m\u001b[1;34m\"./NERmodel\"\u001b[0m\u001b[1;33m)\u001b[0m \u001b[1;31m# for spaCy's pretrained use 'en_core_web_sm'\u001b[0m\u001b[1;33m\u001b[0m\u001b[1;33m\u001b[0m\u001b[0m\n\u001b[1;32m---> 17\u001b[1;33m \u001b[0mresults\u001b[0m \u001b[1;33m=\u001b[0m \u001b[0mevaluate\u001b[0m\u001b[1;33m(\u001b[0m\u001b[0mner_model\u001b[0m\u001b[1;33m,\u001b[0m \u001b[0mexamples\u001b[0m\u001b[1;33m)\u001b[0m\u001b[1;33m\u001b[0m\u001b[1;33m\u001b[0m\u001b[0m\n\u001b[0m",
      "\u001b[1;32m<ipython-input-103-70893a46e3ac>\u001b[0m in \u001b[0;36mevaluate\u001b[1;34m(ner_model, examples)\u001b[0m\n\u001b[0;32m      7\u001b[0m     \u001b[1;32mfor\u001b[0m \u001b[0minput_\u001b[0m\u001b[1;33m,\u001b[0m \u001b[0mannot\u001b[0m \u001b[1;32min\u001b[0m \u001b[0mexamples\u001b[0m\u001b[1;33m:\u001b[0m\u001b[1;33m\u001b[0m\u001b[1;33m\u001b[0m\u001b[0m\n\u001b[0;32m      8\u001b[0m         \u001b[0mdoc_gold_text\u001b[0m \u001b[1;33m=\u001b[0m \u001b[0mner_model\u001b[0m\u001b[1;33m.\u001b[0m\u001b[0mmake_doc\u001b[0m\u001b[1;33m(\u001b[0m\u001b[0minput_\u001b[0m\u001b[1;33m)\u001b[0m\u001b[1;33m\u001b[0m\u001b[1;33m\u001b[0m\u001b[0m\n\u001b[1;32m----> 9\u001b[1;33m         \u001b[0mgold\u001b[0m \u001b[1;33m=\u001b[0m \u001b[0mGoldParse\u001b[0m\u001b[1;33m(\u001b[0m\u001b[0mdoc_gold_text\u001b[0m\u001b[1;33m,\u001b[0m \u001b[0mentities\u001b[0m\u001b[1;33m=\u001b[0m\u001b[0mannot\u001b[0m\u001b[1;33m)\u001b[0m\u001b[1;33m\u001b[0m\u001b[1;33m\u001b[0m\u001b[0m\n\u001b[0m\u001b[0;32m     10\u001b[0m         \u001b[0mpred_value\u001b[0m \u001b[1;33m=\u001b[0m \u001b[0mner_model\u001b[0m\u001b[1;33m(\u001b[0m\u001b[0minput_\u001b[0m\u001b[1;33m)\u001b[0m\u001b[1;33m\u001b[0m\u001b[1;33m\u001b[0m\u001b[0m\n\u001b[0;32m     11\u001b[0m         \u001b[0mscorer\u001b[0m\u001b[1;33m.\u001b[0m\u001b[0mscore\u001b[0m\u001b[1;33m(\u001b[0m\u001b[0mpred_value\u001b[0m\u001b[1;33m,\u001b[0m \u001b[0mgold\u001b[0m\u001b[1;33m)\u001b[0m\u001b[1;33m\u001b[0m\u001b[1;33m\u001b[0m\u001b[0m\n",
      "\u001b[1;32mgold.pyx\u001b[0m in \u001b[0;36mspacy.gold.GoldParse.__init__\u001b[1;34m()\u001b[0m\n",
      "\u001b[1;31mIndexError\u001b[0m: list index out of range"
     ]
    }
   ],
   "source": [
    "import spacy\n",
    "from spacy.gold import GoldParse\n",
    "from spacy.scorer import Scorer\n",
    "\n",
    "def evaluate(ner_model, examples):\n",
    "    scorer = Scorer()\n",
    "    for input_, annot in examples:\n",
    "        doc_gold_text = ner_model.make_doc(input_)\n",
    "        gold = GoldParse(doc_gold_text, entities=annot)\n",
    "        pred_value = ner_model(input_)\n",
    "        scorer.score(pred_value, gold)\n",
    "    return scorer.scores\n",
    "\n",
    "# example run\n",
    "\n",
    "ner_model = spacy.load(\"./NERmodel\") # for spaCy's pretrained use 'en_core_web_sm'\n",
    "results = evaluate(ner_model, examples)"
   ]
  },
  {
   "cell_type": "code",
   "execution_count": 104,
   "metadata": {},
   "outputs": [
    {
     "ename": "AttributeError",
     "evalue": "'Series' object has no attribute 'orig_annot'",
     "output_type": "error",
     "traceback": [
      "\u001b[1;31m---------------------------------------------------------------------------\u001b[0m",
      "\u001b[1;31mAttributeError\u001b[0m                            Traceback (most recent call last)",
      "\u001b[1;32m<ipython-input-104-894e54163328>\u001b[0m in \u001b[0;36m<module>\u001b[1;34m\u001b[0m\n\u001b[0;32m      9\u001b[0m \u001b[0mscorer\u001b[0m \u001b[1;33m=\u001b[0m \u001b[0mScorer\u001b[0m\u001b[1;33m(\u001b[0m\u001b[1;33m)\u001b[0m\u001b[1;33m\u001b[0m\u001b[1;33m\u001b[0m\u001b[0m\n\u001b[0;32m     10\u001b[0m \u001b[1;32mfor\u001b[0m \u001b[0mi\u001b[0m \u001b[1;32min\u001b[0m \u001b[0mdf_test\u001b[0m\u001b[1;33m.\u001b[0m\u001b[0mingredients\u001b[0m\u001b[1;33m:\u001b[0m\u001b[1;33m\u001b[0m\u001b[1;33m\u001b[0m\u001b[0m\n\u001b[1;32m---> 11\u001b[1;33m     \u001b[0mscorer\u001b[0m\u001b[1;33m.\u001b[0m\u001b[0mscore\u001b[0m\u001b[1;33m(\u001b[0m\u001b[0mpredict_labels\u001b[0m\u001b[1;33m,\u001b[0m \u001b[0mtrue_labels\u001b[0m\u001b[1;33m)\u001b[0m\u001b[1;33m\u001b[0m\u001b[1;33m\u001b[0m\u001b[0m\n\u001b[0m\u001b[0;32m     12\u001b[0m \u001b[0mresults\u001b[0m \u001b[1;33m=\u001b[0m \u001b[0mscorer\u001b[0m\u001b[1;33m.\u001b[0m\u001b[0mscores\u001b[0m\u001b[1;33m\u001b[0m\u001b[1;33m\u001b[0m\u001b[0m\n\u001b[0;32m     13\u001b[0m \u001b[1;33m\u001b[0m\u001b[0m\n",
      "\u001b[1;32m~\\anaconda3\\lib\\site-packages\\spacy\\scorer.py\u001b[0m in \u001b[0;36mscore\u001b[1;34m(self, doc, gold, verbose, punct_labels)\u001b[0m\n\u001b[0;32m    237\u001b[0m         \u001b[0mgold_deps_per_dep\u001b[0m \u001b[1;33m=\u001b[0m \u001b[1;33m{\u001b[0m\u001b[1;33m}\u001b[0m\u001b[1;33m\u001b[0m\u001b[1;33m\u001b[0m\u001b[0m\n\u001b[0;32m    238\u001b[0m         \u001b[0mgold_tags\u001b[0m \u001b[1;33m=\u001b[0m \u001b[0mset\u001b[0m\u001b[1;33m(\u001b[0m\u001b[1;33m)\u001b[0m\u001b[1;33m\u001b[0m\u001b[1;33m\u001b[0m\u001b[0m\n\u001b[1;32m--> 239\u001b[1;33m         \u001b[0mgold_ents\u001b[0m \u001b[1;33m=\u001b[0m \u001b[0mset\u001b[0m\u001b[1;33m(\u001b[0m\u001b[0mtags_to_entities\u001b[0m\u001b[1;33m(\u001b[0m\u001b[1;33m[\u001b[0m\u001b[0mannot\u001b[0m\u001b[1;33m[\u001b[0m\u001b[1;33m-\u001b[0m\u001b[1;36m1\u001b[0m\u001b[1;33m]\u001b[0m \u001b[1;32mfor\u001b[0m \u001b[0mannot\u001b[0m \u001b[1;32min\u001b[0m \u001b[0mgold\u001b[0m\u001b[1;33m.\u001b[0m\u001b[0morig_annot\u001b[0m\u001b[1;33m]\u001b[0m\u001b[1;33m)\u001b[0m\u001b[1;33m)\u001b[0m\u001b[1;33m\u001b[0m\u001b[1;33m\u001b[0m\u001b[0m\n\u001b[0m\u001b[0;32m    240\u001b[0m         \u001b[1;32mfor\u001b[0m \u001b[0mid_\u001b[0m\u001b[1;33m,\u001b[0m \u001b[0mword\u001b[0m\u001b[1;33m,\u001b[0m \u001b[0mtag\u001b[0m\u001b[1;33m,\u001b[0m \u001b[0mhead\u001b[0m\u001b[1;33m,\u001b[0m \u001b[0mdep\u001b[0m\u001b[1;33m,\u001b[0m \u001b[0mner\u001b[0m \u001b[1;32min\u001b[0m \u001b[0mgold\u001b[0m\u001b[1;33m.\u001b[0m\u001b[0morig_annot\u001b[0m\u001b[1;33m:\u001b[0m\u001b[1;33m\u001b[0m\u001b[1;33m\u001b[0m\u001b[0m\n\u001b[0;32m    241\u001b[0m             \u001b[0mgold_tags\u001b[0m\u001b[1;33m.\u001b[0m\u001b[0madd\u001b[0m\u001b[1;33m(\u001b[0m\u001b[1;33m(\u001b[0m\u001b[0mid_\u001b[0m\u001b[1;33m,\u001b[0m \u001b[0mtag\u001b[0m\u001b[1;33m)\u001b[0m\u001b[1;33m)\u001b[0m\u001b[1;33m\u001b[0m\u001b[1;33m\u001b[0m\u001b[0m\n",
      "\u001b[1;32m~\\anaconda3\\lib\\site-packages\\pandas\\core\\generic.py\u001b[0m in \u001b[0;36m__getattr__\u001b[1;34m(self, name)\u001b[0m\n\u001b[0;32m   5137\u001b[0m             \u001b[1;32mif\u001b[0m \u001b[0mself\u001b[0m\u001b[1;33m.\u001b[0m\u001b[0m_info_axis\u001b[0m\u001b[1;33m.\u001b[0m\u001b[0m_can_hold_identifiers_and_holds_name\u001b[0m\u001b[1;33m(\u001b[0m\u001b[0mname\u001b[0m\u001b[1;33m)\u001b[0m\u001b[1;33m:\u001b[0m\u001b[1;33m\u001b[0m\u001b[1;33m\u001b[0m\u001b[0m\n\u001b[0;32m   5138\u001b[0m                 \u001b[1;32mreturn\u001b[0m \u001b[0mself\u001b[0m\u001b[1;33m[\u001b[0m\u001b[0mname\u001b[0m\u001b[1;33m]\u001b[0m\u001b[1;33m\u001b[0m\u001b[1;33m\u001b[0m\u001b[0m\n\u001b[1;32m-> 5139\u001b[1;33m             \u001b[1;32mreturn\u001b[0m \u001b[0mobject\u001b[0m\u001b[1;33m.\u001b[0m\u001b[0m__getattribute__\u001b[0m\u001b[1;33m(\u001b[0m\u001b[0mself\u001b[0m\u001b[1;33m,\u001b[0m \u001b[0mname\u001b[0m\u001b[1;33m)\u001b[0m\u001b[1;33m\u001b[0m\u001b[1;33m\u001b[0m\u001b[0m\n\u001b[0m\u001b[0;32m   5140\u001b[0m \u001b[1;33m\u001b[0m\u001b[0m\n\u001b[0;32m   5141\u001b[0m     \u001b[1;32mdef\u001b[0m \u001b[0m__setattr__\u001b[0m\u001b[1;33m(\u001b[0m\u001b[0mself\u001b[0m\u001b[1;33m,\u001b[0m \u001b[0mname\u001b[0m\u001b[1;33m:\u001b[0m \u001b[0mstr\u001b[0m\u001b[1;33m,\u001b[0m \u001b[0mvalue\u001b[0m\u001b[1;33m)\u001b[0m \u001b[1;33m->\u001b[0m \u001b[1;32mNone\u001b[0m\u001b[1;33m:\u001b[0m\u001b[1;33m\u001b[0m\u001b[1;33m\u001b[0m\u001b[0m\n",
      "\u001b[1;31mAttributeError\u001b[0m: 'Series' object has no attribute 'orig_annot'"
     ]
    }
   ],
   "source": [
    "# def evaluate(ner_model, examples):\n",
    "#     scorer = Scorer()\n",
    "#     for input_, annot in examples:\n",
    "#         doc_gold_text = ner_model.make_doc(input_)\n",
    "#         gold = GoldParse(doc_gold_text, entities=annot)\n",
    "#         pred_value = ner_model(input_)\n",
    "#         scorer.score(pred_value, gold)\n",
    "#     return scorer.scores\n",
    "scorer = Scorer()\n",
    "for i in df_test.ingredients:\n",
    "    scorer.score(predict_labels, true_labels)\n",
    "results = scorer.scores\n",
    "\n",
    "# ner_model = spacy.load(\"./NERmodel\") # for spaCy's pretrained use 'en_core_web_sm'\n",
    "# results = evaluate(ner_model, examples)"
   ]
  },
  {
   "cell_type": "code",
   "execution_count": null,
   "metadata": {},
   "outputs": [],
   "source": []
  }
 ],
 "metadata": {
  "kernelspec": {
   "display_name": "Python 3",
   "language": "python",
   "name": "python3"
  },
  "language_info": {
   "codemirror_mode": {
    "name": "ipython",
    "version": 3
   },
   "file_extension": ".py",
   "mimetype": "text/x-python",
   "name": "python",
   "nbconvert_exporter": "python",
   "pygments_lexer": "ipython3",
   "version": "3.8.5"
  }
 },
 "nbformat": 4,
 "nbformat_minor": 4
}
